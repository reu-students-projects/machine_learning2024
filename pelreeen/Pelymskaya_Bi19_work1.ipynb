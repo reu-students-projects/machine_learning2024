{
 "cells": [
  {
   "cell_type": "code",
   "execution_count": 9,
   "id": "3f046c6a-cf10-4a9a-88d1-29dbce8eb158",
   "metadata": {},
   "outputs": [
    {
     "name": "stdin",
     "output_type": "stream",
     "text": [
      "Введите текст:  На шагающих утят быть похожими хотят, Быть похожими хотят Не зря, не зря. Можно хвостик отряхнуть и пуститься в дальний путь, И пуститься в дальний путь, крича: «Кря-кря!» И природа хороша, и погода хороша, Нет, не зря поет душа, Не зря, не зря. Даже толстый бегемот, неуклюжий бегемот От утят не отстает, кряхтит: «Кря-кря!»  На мгновенье надо Детство возвратить. Мы теперь утята, И так прекрасно На свете жить!\n"
     ]
    },
    {
     "name": "stdout",
     "output_type": "stream",
     "text": [
      "не: 6\n",
      "зря: 5\n",
      "и: 5\n",
      "на: 3\n",
      "бегемот: 2\n",
      "быть: 2\n",
      "в: 2\n",
      "дальний: 2\n",
      "крякря: 2\n",
      "похожими: 2\n",
      "пуститься: 2\n",
      "путь: 2\n",
      "утят: 2\n",
      "хороша: 2\n",
      "хотят: 2\n",
      "возвратить: 1\n",
      "даже: 1\n",
      "детство: 1\n",
      "душа: 1\n",
      "жить: 1\n",
      "крича: 1\n",
      "кряхтит: 1\n",
      "мгновенье: 1\n",
      "можно: 1\n",
      "мы: 1\n",
      "надо: 1\n",
      "нет: 1\n",
      "неуклюжий: 1\n",
      "от: 1\n",
      "отряхнуть: 1\n",
      "отстает: 1\n",
      "погода: 1\n",
      "поет: 1\n",
      "прекрасно: 1\n",
      "природа: 1\n",
      "свете: 1\n",
      "так: 1\n",
      "теперь: 1\n",
      "толстый: 1\n",
      "утята: 1\n",
      "хвостик: 1\n",
      "шагающих: 1\n"
     ]
    }
   ],
   "source": [
    "def analyze_text_frequency(text):\n",
    "    # Приводим текст к нижнему регистру и удаляем знаки препинания\n",
    "    cleaned_text = ''\n",
    "    for char in text:\n",
    "        if char.isalnum() or char.isspace():\n",
    "            cleaned_text += char.lower()\n",
    "    \n",
    "    # Разбиваем текст на слова\n",
    "    words = cleaned_text.split()\n",
    "    \n",
    "    # Используем словарь для хранения частоты слов\n",
    "    frequency = {}\n",
    "    for word in words:\n",
    "        if word in frequency:\n",
    "            frequency[word] += 1\n",
    "        else:\n",
    "            frequency[word] = 1\n",
    "    \n",
    "    # Преобразуем словарь в список кортежей и сортируем по частоте и алфавиту\n",
    "    sorted_words = sorted(frequency.items(), key=lambda item: (-item[1], item[0]))\n",
    "    \n",
    "    # Выводим слова и их частоту\n",
    "    for word, count in sorted_words:\n",
    "        print(f'{word}: {count}')\n",
    "\n",
    "# Пример использования\n",
    "text = input(\"Введите текст: \")\n",
    "analyze_text_frequency(text)\n"
   ]
  },
  {
   "cell_type": "code",
   "execution_count": 25,
   "id": "01243f13-d5fc-47ac-a3aa-367254e55b11",
   "metadata": {},
   "outputs": [
    {
     "name": "stdout",
     "output_type": "stream",
     "text": [
      "Среднее значение посещений салона: 5.40\n",
      "Общее количество посещений салона: 27\n",
      "Выручка салона: 64500 руб.\n",
      "{'Шеллак': 8000, 'Френч': 7500, 'Обычный лак': 4000, 'Гель-лак': 24000, 'Акрил': 21000}\n",
      "Выручка по видам маникюра:\n",
      "Шеллак: 8000 руб.\n",
      "Френч: 7500 руб.\n",
      "Обычный лак: 4000 руб.\n",
      "Гель-лак: 24000 руб.\n",
      "Акрил: 21000 руб.\n",
      "Средняя выручка в день по видам маникюра:\n",
      "Шеллак: 1600.00 руб.\n",
      "Френч: 1500.00 руб.\n",
      "Обычный лак: 800.00 руб.\n",
      "Гель-лак: 4800.00 руб.\n",
      "Акрил: 4200.00 руб.\n"
     ]
    }
   ],
   "source": [
    "Nail_style =['Шеллак', 'Френч', 'Обычный лак', 'Гель-лак', 'Акрил']\n",
    "Price = [2000, 1500, 1000, 3000, 3500]\n",
    "Week = [4, 5, 4, 8, 6]\n",
    "\n",
    "# Среднее значение посещений салона\n",
    "avg_visit = sum(Week)/len(Week)\n",
    "print(f'Среднее значение посещений салона: {avg_visit:.2f}')\n",
    "\n",
    "# Общее количество посещений салона\n",
    "all_visit = sum(Week)\n",
    "print(f'Общее количество посещений салона: {all_visit}')\n",
    "\n",
    "# Выручка салона\n",
    "total_revenue = sum(Price[i] * Week[i] for i in range(len(Price)))\n",
    "print(f'Выручка салона: {total_revenue} руб.')\n",
    "\n",
    "# Выручка по видам маникюра\n",
    "revenue_by_style = {Nail_style[i]: Price[i] * Week[i] for i in range(len(Nail_style))}\n",
    "print(revenue_by_style)\n",
    "print('Выручка по видам маникюра:')\n",
    "for style, revenue in revenue_by_style.items():\n",
    "    print(f'{style}: {revenue} руб.')\n",
    "    \n",
    "# Средняя выручка в день по видам маникюра\n",
    "avg_daily_revenue_by_style = {}\n",
    "for style, revenue in revenue_by_style.items():\n",
    "    avg_daily_revenue_by_style[style] = revenue / 5\n",
    "\n",
    "print('Средняя выручка в день по видам маникюра:')\n",
    "for style, daily_revenue in avg_daily_revenue_by_style.items():\n",
    "    print(f'{style}: {daily_revenue:.2f} руб.')\n"
   ]
  },
  {
   "cell_type": "code",
   "execution_count": null,
   "id": "793d3992-fbe3-42ff-b08b-a9f044813325",
   "metadata": {},
   "outputs": [],
   "source": []
  }
 ],
 "metadata": {
  "kernelspec": {
   "display_name": "Python 3 (ipykernel)",
   "language": "python",
   "name": "python3"
  },
  "language_info": {
   "codemirror_mode": {
    "name": "ipython",
    "version": 3
   },
   "file_extension": ".py",
   "mimetype": "text/x-python",
   "name": "python",
   "nbconvert_exporter": "python",
   "pygments_lexer": "ipython3",
   "version": "3.12.4"
  }
 },
 "nbformat": 4,
 "nbformat_minor": 5
}
