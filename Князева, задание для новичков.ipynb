{
 "cells": [
  {
   "cell_type": "markdown",
   "metadata": {},
   "source": [
    "Задание для новичков"
   ]
  },
  {
   "cell_type": "markdown",
   "metadata": {},
   "source": [
    "Задание 1\n"
   ]
  },
  {
   "cell_type": "code",
   "execution_count": 1,
   "metadata": {},
   "outputs": [
    {
     "name": "stdout",
     "output_type": "stream",
     "text": [
      "привет: 2\n",
      "как: 2\n",
      "дела: 1\n"
     ]
    }
   ],
   "source": [
    "import string\n",
    "text = input(\"Введите текст: \")\n",
    "def frequency(text):\n",
    "    words = [word.lower().strip(string.punctuation) for word in text.split()] # Разбиение на слова, очистка от знаков препинания и приведение к нижнему регистру\n",
    "\n",
    "    word_frequency = {} # Словарь со словами и их частотами \n",
    "    for word in words:\n",
    "        if word in word_frequency:\n",
    "            word_frequency[word] += 1\n",
    "        else:\n",
    "            word_frequency[word] = 1\n",
    "\n",
    "    sorted_words = sorted(word_frequency.items(), key=lambda pair: pair[1], reverse=True) # Сортировка по убыванию\n",
    "\n",
    "    [print(f\"{word}: {frequency}\") for word, frequency in sorted_words] # Вывод словаря\n",
    "    \n",
    "frequency(text)\n"
   ]
  },
  {
   "cell_type": "markdown",
   "metadata": {},
   "source": [
    "Задание 2"
   ]
  },
  {
   "cell_type": "code",
   "execution_count": 2,
   "metadata": {},
   "outputs": [],
   "source": [
    "Nail_style=[\"Шеллак\", \"Френч\", \"Обычный лак\", \"Гель-лак\", \"Акрил\"] # Виды маникюра\n",
    "Price = [2000, 1500, 1000, 3000, 3500, 3200] # Цены на разные виды маникюра\n",
    "Week = [4, 5, 4, 8, 6] # Сколько раз за неделю заказывали вид маникюр соответственно"
   ]
  },
  {
   "cell_type": "code",
   "execution_count": 3,
   "metadata": {},
   "outputs": [
    {
     "name": "stdout",
     "output_type": "stream",
     "text": [
      "Среднее значение посещений салона: 3.857142857142857\n",
      "Общее количество посещений салона: 27\n",
      "Выручка салона: 64500\n",
      "Выручка по видам маникюра: [8000, 7500, 4000, 24000, 21000]\n",
      "Средняя выручка в день по видам маникюра: [1142.857142857143, 1071.4285714285713, 571.4285714285714, 3428.5714285714284, 3000.0]\n"
     ]
    }
   ],
   "source": [
    "def nail_analysis():\n",
    "    days_in_week = 7\n",
    "    avg_visit = sum(Week)/days_in_week # Среднее значение посещений салона\n",
    "    sum_visits = sum(Week) # Общее количество посещений салона\n",
    "    revenue_per_type = [Price[i] * Week[i] for i in range(len(Nail_style))] # Выручка по видам маникюра\n",
    "    total_revenue = sum(revenue_per_type) # Выручка салона\n",
    "    avg_revenue_per_day_type = [revenue/ days_in_week for revenue in revenue_per_type] # Средняя выручка в день по видам маникюра\n",
    "    \n",
    "    print (f'Среднее значение посещений салона: {avg_visit}\\nОбщее количество посещений салона: {sum_visits}\\nВыручка салона: {total_revenue}\\nВыручка по видам маникюра: {revenue_per_type}\\nСредняя выручка в день по видам маникюра: {avg_revenue_per_day_type}')\n",
    "nail_analysis()"
   ]
  }
 ],
 "metadata": {
  "kernelspec": {
   "display_name": "Python 3",
   "language": "python",
   "name": "python3"
  },
  "language_info": {
   "codemirror_mode": {
    "name": "ipython",
    "version": 3
   },
   "file_extension": ".py",
   "mimetype": "text/x-python",
   "name": "python",
   "nbconvert_exporter": "python",
   "pygments_lexer": "ipython3",
   "version": "3.11.4"
  }
 },
 "nbformat": 4,
 "nbformat_minor": 2
}
