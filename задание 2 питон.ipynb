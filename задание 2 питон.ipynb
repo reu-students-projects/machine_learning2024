{
 "cells": [
  {
   "cell_type": "code",
   "execution_count": 22,
   "metadata": {},
   "outputs": [
    {
     "name": "stdout",
     "output_type": "stream",
     "text": [
      "Среднее значение посещений салона: 5.4\n",
      "Общее количество посещений салона: 27\n",
      "Выручка салона: 64500 рублей\n",
      "Выручка по видам маникюра:\n",
      "Шеллак: 8000 рублей\n",
      "Френч: 7500 рублей\n",
      "Обычный лак: 4000 рублей\n",
      "Гель-лак: 24000 рублей\n",
      "Акрил: 21000 рублей\n",
      "Средняя выручка в день по видам маникюра:\n",
      "Шеллак: 1142.857142857143 рублей\n",
      "Френч: 1071.4285714285713 рублей\n",
      "Обычный лак: 571.4285714285714 рублей\n",
      "Гель-лак: 3428.5714285714284 рублей\n",
      "Акрил: 3000.0 рублей\n"
     ]
    }
   ],
   "source": [
    "Nail_style=['Шеллак', 'Френч', 'Обычный лак', 'Гель-лак', 'Акрил'] # виды маникюра\n",
    "Price = [2000, 1500, 1000, 3000, 3500, 3200] # цены на услуги\n",
    "Week = [4, 5, 4, 8, 6] # сколько раз за неделю заказывали тот или иной вид маникюра соответственно\n",
    "\n",
    "all_visits = sum(Week) # общее количество посещений\n",
    "average_visits = all_visits / len(Week) # среднее значение посещений\n",
    "\n",
    "style_revenue = [] # выручка по видам маникюра\n",
    "for week, price in zip(Week, Price):\n",
    "    revenue = week * price\n",
    "    style_revenue.append(revenue)\n",
    "total_revenue = sum(style_revenue) # общая выручка\n",
    "average_daily_revenue = [] # средняя выручка в день по видам маникюра\n",
    "for revenue in style_revenue:\n",
    "    average_daily_revenue.append(revenue / 7)  \n",
    "\n",
    "# Вывод результатов \n",
    "print(\"Среднее значение посещений салона: {}\".format(round(average_visits, 2)))\n",
    "print(\"Общее количество посещений салона: {}\".format(all_visits))\n",
    "print(\"Выручка салона: {} рублей\".format(total_revenue))\n",
    "print(\"Выручка по видам маникюра:\")\n",
    "for style, revenue in zip(Nail_style, style_revenue):\n",
    "    print(\"{}: {} рублей\".format(style, revenue))\n",
    "print(\"Средняя выручка в день по видам маникюра:\")\n",
    "for style, average_daily_revenue in zip(Nail_style, average_daily_revenue):\n",
    "    print(\"{}: {} рублей\".format(style, average_daily_revenue))"
   ]
  },
  {
   "cell_type": "markdown",
   "metadata": {},
   "source": []
  }
 ],
 "metadata": {
  "kernelspec": {
   "display_name": "Python 3",
   "language": "python",
   "name": "python3"
  },
  "language_info": {
   "codemirror_mode": {
    "name": "ipython",
    "version": 3
   },
   "file_extension": ".py",
   "mimetype": "text/x-python",
   "name": "python",
   "nbconvert_exporter": "python",
   "pygments_lexer": "ipython3",
   "version": "3.11.4"
  }
 },
 "nbformat": 4,
 "nbformat_minor": 2
}
