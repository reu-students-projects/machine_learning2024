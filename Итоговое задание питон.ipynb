{
 "cells": [
  {
   "cell_type": "code",
   "execution_count": 3,
   "metadata": {},
   "outputs": [],
   "source": [
    "import pandas as pd\n",
    "import json\n",
    "from datetime import datetime"
   ]
  },
  {
   "cell_type": "code",
   "execution_count": 4,
   "metadata": {},
   "outputs": [
    {
     "name": "stdout",
     "output_type": "stream",
     "text": [
      "Файл успешно сохранён по адресу: C:\\Users\\Acer\\Desktop\\Уник\\3 курс\\Машинное обучение\\Итоговое задание Питон\\final_task_data.csv\n"
     ]
    }
   ],
   "source": [
    "data = {\n",
    "    'ФИО': [\n",
    "        'Иванов Иван Иванович',\n",
    "        'Сорокина Екатерина Матвеевна',\n",
    "        'Струков Иван Сергеевич',\n",
    "        'Корнеева Анна Игоревна',\n",
    "        'Старчиков Сергей Анатольевич',\n",
    "        'Бутенко Артем Андреевич',\n",
    "        'Савченко Алина Сергеевна'\n",
    "    ],\n",
    "    'Должность': [\n",
    "        'Менеджер',\n",
    "        'Аналитик',\n",
    "        'Старший программист',\n",
    "        'Ведущий программист',\n",
    "        'Младший программист',\n",
    "        'Архитектор',\n",
    "        'Старший аналитик'\n",
    "    ],\n",
    "    'Дата найма': [\n",
    "        '22.10.2013',\n",
    "        '12.03.2020',\n",
    "        '23.04.2012',\n",
    "        '22.02.2015',\n",
    "        '12.11.2021',\n",
    "        '12.02.2010',\n",
    "        '13.04.2016'\n",
    "    ],\n",
    "    'Оклад': [\n",
    "        250000,\n",
    "        75000,\n",
    "        150000,\n",
    "        120000,\n",
    "        50000,\n",
    "        200000,\n",
    "        100000\n",
    "    ]\n",
    "}\n",
    "\n",
    "# Создание DataFrame\n",
    "df = pd.DataFrame(data)\n",
    "\n",
    "file_path = r\"C:\\Users\\Acer\\Desktop\\Уник\\3 курс\\Машинное обучение\\Итоговое задание Питон\\final_task_data.csv\" \n",
    "# Сохранение файла в путь   \n",
    "df.to_csv(file_path, index=False, encoding='utf-8-sig') \n",
    "print(f\"Файл успешно сохранён по адресу: {file_path}\")"
   ]
  },
  {
   "cell_type": "code",
   "execution_count": 5,
   "metadata": {},
   "outputs": [
    {
     "name": "stdout",
     "output_type": "stream",
     "text": [
      "                            ФИО            Должность  Дата найма   Оклад  \\\n",
      "0          Иванов Иван Иванович             Менеджер  22.10.2013  250000   \n",
      "1  Сорокина Екатерина Матвеевна             Аналитик  12.03.2020   75000   \n",
      "2        Струков Иван Сергеевич  Старший программист  23.04.2012  150000   \n",
      "3        Корнеева Анна Игоревна  Ведущий программист  22.02.2015  120000   \n",
      "4  Старчиков Сергей Анатольевич  Младший программист  12.11.2021   50000   \n",
      "5       Бутенко Артем Андреевич           Архитектор  12.02.2010  200000   \n",
      "6      Савченко Алина Сергеевна     Старший аналитик  13.04.2016  100000   \n",
      "\n",
      "   Премия  \n",
      "0       0  \n",
      "1       0  \n",
      "2    4500  \n",
      "3    3600  \n",
      "4    1500  \n",
      "5       0  \n",
      "6       0  \n"
     ]
    }
   ],
   "source": [
    "# Фунция 1: премия прогерам\n",
    "def calculate_prog_bonus(df):\n",
    "\n",
    "    programmer_filter = df[\"Должность\"].str.contains('программист', case = False) # Находим слово программмист в должностях\n",
    "    df['Премия'] = 0 # Создаем пустую колонку премия, в которую будут вноситься результаты\n",
    "    df.loc[programmer_filter, 'Премия'] = df['Оклад'] * 0.03 # Считаем премию\n",
    "    return df\n",
    "# Применяем функцию\n",
    "df_bonus_pr = calculate_prog_bonus(df)\n",
    "print(df_bonus_pr) # Выводим результат функции"
   ]
  },
  {
   "cell_type": "code",
   "execution_count": 6,
   "metadata": {},
   "outputs": [
    {
     "name": "stdout",
     "output_type": "stream",
     "text": [
      "Премия к 8 марта:\n",
      "                            ФИО            Должность  Дата найма   Оклад  \\\n",
      "1  Сорокина Екатерина Матвеевна             Аналитик  12.03.2020   75000   \n",
      "3        Корнеева Анна Игоревна  Ведущий программист  22.02.2015  120000   \n",
      "6      Савченко Алина Сергеевна     Старший аналитик  13.04.2016  100000   \n",
      "\n",
      "   Премия  \n",
      "1    2000  \n",
      "3    2000  \n",
      "6    2000   \n",
      "\n",
      "Премия к 23 февраля:\n",
      "                            ФИО            Должность  Дата найма   Оклад  \\\n",
      "0          Иванов Иван Иванович             Менеджер  22.10.2013  250000   \n",
      "2        Струков Иван Сергеевич  Старший программист  23.04.2012  150000   \n",
      "4  Старчиков Сергей Анатольевич  Младший программист  12.11.2021   50000   \n",
      "5       Бутенко Артем Андреевич           Архитектор  12.02.2010  200000   \n",
      "\n",
      "   Премия  \n",
      "0    2000  \n",
      "2    2000  \n",
      "4    2000  \n",
      "5    2000   \n",
      "\n"
     ]
    }
   ],
   "source": [
    "#Фунция 2: премия к 8 марта и 23 фев\n",
    "def holiday_bonus(df):\n",
    "\n",
    "    df['Премия'] = 0\n",
    "# Отдельно фильтруем сотрудников женского пола (по окончанию а) и назначаем им премию к 8 марта\n",
    "    women_filter = df['ФИО'].str.endswith('а')\n",
    "    df.loc[women_filter, 'Премия'] = 2000 \n",
    "\n",
    "    df.loc[~women_filter, 'Премия'] = 2000 # Остальным назначаем премию к 23 февраля, т.е. мужчинам\n",
    "\n",
    "    df_8m = df[women_filter]\n",
    "    df_23f = df[~women_filter]\n",
    "\n",
    "    print(\"Премия к 8 марта:\")\n",
    "    print(df_8m, \"\\n\")\n",
    "\n",
    "    print(\"Премия к 23 февраля:\")\n",
    "    print(df_23f, \"\\n\")\n",
    "\n",
    "    return df_8m, df_23f\n",
    "\n",
    "df_8m, df_23f = holiday_bonus(df)\n"
   ]
  },
  {
   "cell_type": "code",
   "execution_count": 7,
   "metadata": {},
   "outputs": [
    {
     "name": "stdout",
     "output_type": "stream",
     "text": [
      "                            ФИО            Должность  Дата найма   Оклад  \\\n",
      "0          Иванов Иван Иванович             Менеджер  22.10.2013  250000   \n",
      "1  Сорокина Екатерина Матвеевна             Аналитик  12.03.2020   75000   \n",
      "2        Струков Иван Сергеевич  Старший программист  23.04.2012  150000   \n",
      "3        Корнеева Анна Игоревна  Ведущий программист  22.02.2015  120000   \n",
      "4  Старчиков Сергей Анатольевич  Младший программист  12.11.2021   50000   \n",
      "5       Бутенко Артем Андреевич           Архитектор  12.02.2010  200000   \n",
      "6      Савченко Алина Сергеевна     Старший аналитик  13.04.2016  100000   \n",
      "\n",
      "   Премия  Стаж  Индексация  \n",
      "0    2000    11     17500.0  \n",
      "1    2000     4      3750.0  \n",
      "2    2000    12     10500.0  \n",
      "3    2000     9      6000.0  \n",
      "4    2000     3      2500.0  \n",
      "5    2000    14     14000.0  \n",
      "6    2000     8      5000.0  \n"
     ]
    },
    {
     "name": "stderr",
     "output_type": "stream",
     "text": [
      "C:\\Users\\Acer\\AppData\\Local\\Temp\\ipykernel_35608\\570789064.py:11: FutureWarning: Setting an item of incompatible dtype is deprecated and will raise an error in a future version of pandas. Value '[17500. 10500. 14000.]' has dtype incompatible with int64, please explicitly cast to a compatible dtype first.\n",
      "  df.loc[long_term_filter, 'Индексация'] = df['Оклад'] * 0.07\n"
     ]
    }
   ],
   "source": [
    "# Функция 3: индексация зп \n",
    "from datetime import datetime\n",
    "\n",
    "def salary_index(df):\n",
    "\n",
    "    current_year = datetime.now().year # Определяем текущий год\n",
    "    df['Стаж'] = current_year - pd.to_datetime(df['Дата найма'], format='%d.%m.%Y').dt.year # Срздаем колонку стаж и вычисляем его \n",
    "    df['Индексация'] = 0 # Создаем колонку для заполнения значений индексации\n",
    "# Если стаж > 10 лет, то идексируем на 7%\n",
    "    long_term_filter = df['Стаж'] > 10\n",
    "    df.loc[long_term_filter, 'Индексация'] = df['Оклад'] * 0.07\n",
    "# Остальным идексируем на 5%\n",
    "    df.loc[~long_term_filter, 'Индексация'] = df['Оклад'] * 0.05\n",
    "\n",
    "    return df\n",
    "\n",
    "df_index = salary_index(df)\n",
    "print(df_index)"
   ]
  },
  {
   "cell_type": "code",
   "execution_count": 17,
   "metadata": {},
   "outputs": [
    {
     "name": "stdout",
     "output_type": "stream",
     "text": [
      "Сотрудники, пропработавшие больше 6 месяцев, которые могутвзять отпуск:\n",
      "['Иванов Иван Иванович', 'Сорокина Екатерина Матвеевна', 'Струков Иван Сергеевич', 'Корнеева Анна Игоревна', 'Старчиков Сергей Анатольевич', 'Бутенко Артем Андреевич', 'Савченко Алина Сергеевна']\n"
     ]
    }
   ],
   "source": [
    "# Функция 4: график отпусков\n",
    "def vacation_schedule(df):\n",
    "\n",
    "    df['Дата найма'] = pd.to_datetime(df['Дата найма'], format='%d.%m.%Y') # Преобразуем столбец Дата найма в формат datatime для работы со значениями\n",
    "    df['Месяцев в компании'] = (pd.Timestamp.now() - df['Дата найма']).dt.days // 30 # Вычисляем разницу м/у текущей датой и и датой найма в месяцах\n",
    "    old_enough = df.loc[df['Месяцев в компании'] > 6, 'ФИО'].tolist() # Отфильтровываем сотрудников, проработавших > 6 месяце\n",
    "\n",
    "    return old_enough\n",
    "\n",
    "vacation_roll = vacation_schedule(df)\n",
    "print(\"Сотрудники, пропработавшие больше 6 месяцев, которые могутвзять отпуск:\")\n",
    "print(vacation_roll)"
   ]
  },
  {
   "cell_type": "code",
   "execution_count": 16,
   "metadata": {},
   "outputs": [
    {
     "name": "stdout",
     "output_type": "stream",
     "text": [
      "Данные сохранены в programmer_bonus.csv\n",
      "Данные сохранены в programmer_bonus.json\n",
      "Данные сохранены в women_bonus.csv\n",
      "Данные сохранены в women_bonus.json\n",
      "Данные сохранены в men_bonus.csv\n",
      "Данные сохранены в men_bonus.json\n",
      "Данные сохранены в index_bonus.csv\n",
      "Данные сохранены в index_bonus.json\n"
     ]
    }
   ],
   "source": [
    "# Функции для записи в CSV и JSON \n",
    "def save_to_csv(df, filename): \n",
    "    df.to_csv(filename, index=False, encoding='utf-8-sig') \n",
    "    print(f\"Данные сохранены в {filename}\") \n",
    "    \n",
    "def save_to_json(df, filename): \n",
    "    df.to_json(filename, orient='records', force_ascii=False, indent=4) \n",
    "    print(f\"Данные сохранены в {filename}\") \n",
    "\n",
    "save_to_csv(df_bonus_pr, \"programmer_bonus.csv\")\n",
    "save_to_json(df_bonus_pr, \"programmer_bonus.json\")\n",
    "\n",
    "save_to_csv(df_8m, \"women_bonus.csv\")\n",
    "save_to_json(df_8m, \"women_bonus.json\")\n",
    "\n",
    "save_to_csv(df_23f, \"men_bonus.csv\")\n",
    "save_to_json(df_23f, \"men_bonus.json\")\n",
    "\n",
    "save_to_csv(df_index, \"index_bonus.csv\")\n",
    "save_to_json(df_index, \"index_bonus.json\")\n"
   ]
  },
  {
   "cell_type": "code",
   "execution_count": 87,
   "metadata": {},
   "outputs": [
    {
     "name": "stdout",
     "output_type": "stream",
     "text": [
      "Данные сохранены в employees.csv\n",
      "Данные сохранены в employees.json\n"
     ]
    }
   ],
   "source": [
    "# Попытки выполнения доп задания)\n",
    "# №1\n",
    "\n",
    "import os\n",
    "import matplotlib.pyplot as plt\n",
    "\n",
    "from datetime import datetime\n",
    "import pandas as pd\n",
    "\n",
    "class Employee: # Создаем класс про 1 сотрудника с приватными атрибутами\n",
    "    def __init__(self, фамилия, имя, отчество, должность, дата_найма, оклад):\n",
    "        # Инкапсулируем свойства \n",
    "        self.фамилия = фамилия\n",
    "        self.имя = имя\n",
    "        self.отчество = отчество\n",
    "        self.должность = должность\n",
    "        self.дата_найма = datetime.strptime(дата_найма, '%d.%m.%Y')\n",
    "        self.оклад = оклад\n",
    "\n",
    "    # Геттеры\n",
    "    def get_фамилия(self):\n",
    "        return self.фамилия\n",
    "\n",
    "    def get_имя(self):\n",
    "        return self.имя\n",
    "\n",
    "    def get_отчество(self):\n",
    "        return self.отчество\n",
    "\n",
    "    def get_должность(self):\n",
    "        return self.должность\n",
    "\n",
    "    def get_дата_найма(self):\n",
    "        return self.дата_найма\n",
    "\n",
    "    def get_оклад(self):\n",
    "        return self.оклад\n",
    "\n",
    "    # Сеттеры\n",
    "    def set_оклад(self, новый_оклад):\n",
    "        self.оклад = новый_оклад\n",
    "\n",
    "    # Метод 1: Премия прогерам\n",
    "    def calculate_prog_bonus(self):\n",
    "        if 'программист' in self.должность.lower():\n",
    "            return self.оклад * 0.03\n",
    "        return 0\n",
    "\n",
    "    # Метод 2: Премия к 8 марта и 23 февраля\n",
    "    def holiday_bonus(self):\n",
    "        if self.имя.endswith('а'):\n",
    "            return 2000  # 8 марта\n",
    "        return 2000  # 23 февраля\n",
    "\n",
    "    # Метод 3: Индексация зп\n",
    "    def salary_index(self):\n",
    "        current_year = datetime.now().year\n",
    "        years_worked = current_year - self.дата_найма.year\n",
    "        if years_worked > 10:\n",
    "            return self.оклад * 0.07\n",
    "        return self.оклад * 0.05\n",
    "\n",
    "    # Метод 4: График отпусков\n",
    "    def vacation_schedule(self):\n",
    "        months_worked = (datetime.now().year - self.дата_найма.year) * 12 + \\\n",
    "                        (datetime.now().month - self.дата_найма.month)\n",
    "        return months_worked > 6\n",
    "\n",
    "    # Метод: Представление сотрудника в виде словаря для хранения\n",
    "    def to_dict(self):\n",
    "        return {\n",
    "            \"ФИО\": f\"{self.фамилия} {self.имя} {self.отчество}\",\n",
    "            \"Должность\": self.должность,\n",
    "            \"Дата найма\": self.дата_найма.strftime('%d.%m.%Y'),\n",
    "            \"Оклад\": self.оклад,\n",
    "            \"Премия\": self.calculate_prog_bonus(),\n",
    "            \"Праздничная премия\": self.holiday_bonus(),\n",
    "            \"Индексация\": self.salary_index(),\n",
    "            \"Право на отпуск\": self.vacation_schedule()\n",
    "        }\n",
    "\n",
    "# Класс для управления списком сотрудниклв\n",
    "class EmployeeManager:\n",
    "    def __init__(self, employees):\n",
    "        self.employees = employees\n",
    "\n",
    "    def save_to_csv(self, filename):\n",
    "        df = pd.DataFrame([employee.to_dict() for employee in self.employees])\n",
    "        df.to_csv(filename, index=False, encoding='utf-8-sig')\n",
    "        print(f\"Данные сохранены в {filename}\")\n",
    "\n",
    "    def save_to_json(self, filename):\n",
    "        df = pd.DataFrame([employee.to_dict() for employee in self.employees])\n",
    "        df.to_json(filename, orient='records', force_ascii=False, indent=4)\n",
    "        print(f\"Данные сохранены в {filename}\")\n",
    "\n",
    "# Создаем список сотрудников\n",
    "employees = [\n",
    "    Employee(\"Иванов\", \"Иван\", \"Иванович\", \"Менеджер\", \"22.10.2013\", 250000),\n",
    "    Employee(\"Сорокина\", \"Екатерина\", \"Матвеевна\", \"Аналитик\", \"12.03.2020\", 75000),\n",
    "    Employee(\"Струков\", \"Иван\", \"Сергеевич\", \"Старший программист\", \"23.04.2012\", 150000),\n",
    "    Employee(\"Корнеева\", \"Анна\", \"Игоревна\", \"Ведущий программист\", \"22.02.2015\", 120000),\n",
    "    Employee(\"Старчиков\", \"Сергей\", \"Анатольевич\", \"Младший программист\", \"12.11.2021\", 50000),\n",
    "    Employee(\"Бутенко\", \"Артем\", \"Андреевич\", \"Архитектор\", \"12.02.2010\", 200000),\n",
    "    Employee(\"Савченко\", \"Алина\", \"Сергеевна\", \"Старший аналитик\", \"13.04.2016\", 100000)\n",
    "]\n",
    "\n",
    "# Создаем менеджер сотрудников и сохраняем данные\n",
    "manager = EmployeeManager(employees)\n",
    "manager.save_to_csv(\"employees.csv\")\n",
    "manager.save_to_json(\"employees.json\")\n"
   ]
  },
  {
   "cell_type": "code",
   "execution_count": 88,
   "metadata": {},
   "outputs": [
    {
     "name": "stdout",
     "output_type": "stream",
     "text": [
      "Фонд оплаты труда: 107000.0 рублей\n"
     ]
    }
   ],
   "source": [
    "# Функция фонда оплаты труда\n",
    "class EmployeeManager: \n",
    "    def __init__(self, employees): \n",
    "        self.employees = employees\n",
    "\n",
    "    def calculate_fot(self): # Рассчитываем фонд оплаты труда\n",
    "        payment = 0\n",
    "        for employee in self.employees:\n",
    "            # Оклад + премия (прогеров) + праздничная премия + индексация\n",
    "            fee = (\n",
    "                employee.get_оклад() +\n",
    "                employee.calculate_prog_bonus() +\n",
    "                employee.salary_index() +\n",
    "                employee.holiday_bonus()\n",
    "            )\n",
    "            payment += fee\n",
    "        print(f\"Фонд оплаты труда: {fee} рублей\")\n",
    "        \n",
    "manager = EmployeeManager(employees)       \n",
    "manager.calculate_fot()\n"
   ]
  },
  {
   "cell_type": "code",
   "execution_count": 90,
   "metadata": {},
   "outputs": [
    {
     "data": {
      "image/png": "[encoded data removed]",
      "text/plain": [
       "<Figure size 1000x600 with 1 Axes>"
      ]
     },
     "metadata": {},
     "output_type": "display_data"
    }
   ],
   "source": [
    "# Функция столбчатых диаграмм с окладами по должностям\n",
    "\n",
    "def plot_salaries(employees):\n",
    "    # Получаем должности и оклады\n",
    "    positions = [employee.get_должность() for employee in employees]\n",
    "    salaries = [employee.get_оклад() for employee in employees]\n",
    "\n",
    "    # Создаем столбчатую диаграмму\n",
    "    plt.figure(figsize=(10, 6))\n",
    "    plt.bar(positions, salaries, color='blue')\n",
    "\n",
    "    # Добавляем подписи и заголовок\n",
    "    plt.xlabel('Должность')\n",
    "    plt.ylabel('Оклад')\n",
    "    plt.title('Размер окладов по должностям')\n",
    "    plt.xticks(rotation=45, ha=\"right\")  # Поворот подписей по оси X\n",
    "    plt.tight_layout()\n",
    "\n",
    "    # Отображаем график\n",
    "    plt.show()\n",
    "\n",
    "plot_salaries(employees)"
   ]
  },
  {
   "cell_type": "code",
   "execution_count": 89,
   "metadata": {},
   "outputs": [
    {
     "name": "stdout",
     "output_type": "stream",
     "text": [
      "                            ФИО   Оклад  Подоходный налог (13%)  ФСС (2.9%)  \\\n",
      "0          Иванов Иван Иванович  250000                 32500.0      7250.0   \n",
      "1  Сорокина Екатерина Матвеевна   75000                  9750.0      2175.0   \n",
      "2        Струков Иван Сергеевич  150000                 19500.0      4350.0   \n",
      "3        Корнеева Анна Игоревна  120000                 15600.0      3480.0   \n",
      "4  Старчиков Сергей Анатольевич   50000                  6500.0      1450.0   \n",
      "5       Бутенко Артем Андреевич  200000                 26000.0      5800.0   \n",
      "6      Савченко Алина Сергеевна  100000                 13000.0      2900.0   \n",
      "\n",
      "   Общие налоговые отчисления  \n",
      "0                     39750.0  \n",
      "1                     11925.0  \n",
      "2                     23850.0  \n",
      "3                     19080.0  \n",
      "4                      7950.0  \n",
      "5                     31800.0  \n",
      "6                     15900.0  \n"
     ]
    }
   ],
   "source": [
    "# Функция, рассчитывающая налоговые отчисления (подоходный налог, фонд социального страхования)\n",
    "class EmployeeManager: \n",
    "    def __init__(self, employees): \n",
    "        self.employees = employees\n",
    "\n",
    "    def calculate_taxes(self):\n",
    "        tax_data = []\n",
    "\n",
    "        for employee in self.employees:\n",
    "            salary = employee.get_оклад()\n",
    "\n",
    "            # Подоходный налог (НДФЛ) 13%\n",
    "            income_tax = salary * 0.13\n",
    "\n",
    "            # Отчисления в Фонд социального страхования (ФСС) 2.9%\n",
    "            social_security_tax = salary * 0.029\n",
    "\n",
    "            # Суммируем все отчисления\n",
    "            total_taxes = income_tax + social_security_tax\n",
    "\n",
    "            # Добавляем данные по каждому сотруднику в список\n",
    "            tax_data.append({\n",
    "                \"ФИО\": f\"{employee.get_фамилия()} {employee.get_имя()} {employee.get_отчество()}\",\n",
    "                \"Оклад\": salary,\n",
    "                \"Подоходный налог (13%)\": income_tax,\n",
    "                \"ФСС (2.9%)\": social_security_tax,\n",
    "                \"Общие налоговые отчисления\": total_taxes\n",
    "            })\n",
    "\n",
    "            # Преобразуем данные в DataFrame для удобного отображения\n",
    "        df = pd.DataFrame(tax_data)\n",
    "        print(df)\n",
    "        \n",
    "manager = EmployeeManager(employees) \n",
    "manager.calculate_taxes()"
   ]
  }
 ],
 "metadata": {
  "kernelspec": {
   "display_name": "base",
   "language": "python",
   "name": "python3"
  },
  "language_info": {
   "codemirror_mode": {
    "name": "ipython",
    "version": 3
   },
   "file_extension": ".py",
   "mimetype": "text/x-python",
   "name": "python",
   "nbconvert_exporter": "python",
   "pygments_lexer": "ipython3",
   "version": "3.12.4"
  }
 },
 "nbformat": 4,
 "nbformat_minor": 2
}
