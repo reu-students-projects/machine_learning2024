{
  "nbformat": 4,
  "nbformat_minor": 0,
  "metadata": {
    "colab": {
      "provenance": []
    },
    "kernelspec": {
      "name": "python3",
      "display_name": "Python 3"
    },
    "language_info": {
      "name": "python"
    }
  },
  "cells": [
    {
      "cell_type": "code",
      "execution_count": 14,
      "metadata": {
        "id": "t99L63mIut0_"
      },
      "outputs": [],
      "source": [
        "import csv\n",
        "import json\n",
        "from datetime import datetime\n",
        "\n",
        "# Чтение данных из CSV файла\n",
        "def read_csv(data):\n",
        "    employees = []\n",
        "    with open('data.csv', newline='') as file:\n",
        "        reader = csv.DictReader(file, delimiter=',')\n",
        "        for row in reader:\n",
        "            row['Оклад'] = int(row['Оклад'])\n",
        "            row['Дата найма'] = datetime.strptime(row['Дата найма'], '%d.%m.%Y')\n",
        "            employees.append(row)\n",
        "    return employees\n",
        "\n"
      ]
    },
    {
      "cell_type": "code",
      "source": [
        "# Расчет премии ко дню программиста\n",
        "def calculate_programmer_bonus(employees):\n",
        "    for employee in employees:\n",
        "        if 'программист' in employee['Должность'].lower():\n",
        "            employee['Премия'] = employee.get('Премия', 0) + employee['Оклад'] * 0.03\n",
        "    return employees\n"
      ],
      "metadata": {
        "id": "GiAdIDTEvvbU"
      },
      "execution_count": 4,
      "outputs": []
    },
    {
      "cell_type": "code",
      "source": [
        "# Расчет премии к 8 марта и 23 февраля\n",
        "def calculate_gender_bonus(employees):\n",
        "    for employee in employees:\n",
        "        if employee['ФИО'].split()[1].endswith('а'):\n",
        "            employee['Премия'] = employee.get('Премия', 0) + 2000\n",
        "        else:\n",
        "            employee['Премия'] = employee.get('Премия', 0) + 2000\n",
        "    return employees\n"
      ],
      "metadata": {
        "id": "nKn_-8PUv66e"
      },
      "execution_count": 5,
      "outputs": []
    },
    {
      "cell_type": "code",
      "source": [
        "# Индексация зарплат\n",
        "def index_salaries(employees):\n",
        "    current_date = datetime.now()\n",
        "    for employee in employees:\n",
        "        years_worked = (current_date - employee['Дата найма']).days / 365\n",
        "        if years_worked > 10:\n",
        "            employee['Оклад'] *= 1.07\n",
        "        else:\n",
        "            employee['Оклад'] *= 1.05\n",
        "    return employees\n"
      ],
      "metadata": {
        "id": "_hjcoBGvwC0t"
      },
      "execution_count": 6,
      "outputs": []
    },
    {
      "cell_type": "code",
      "source": [
        "# Составление графика отпусков\n",
        "def vacation_schedule(employees):\n",
        "    vacation_list = []\n",
        "    current_date = datetime.now()\n",
        "    for employee in employees:\n",
        "        if (current_date - employee['Дата найма']).days > 180:\n",
        "            vacation_list.append(employee)\n",
        "    return vacation_list\n",
        "\n"
      ],
      "metadata": {
        "id": "knWtiyhIwFyr"
      },
      "execution_count": 7,
      "outputs": []
    },
    {
      "cell_type": "code",
      "source": [
        "# Запить в csv\n",
        "def write_csv(data, employees):\n",
        "    with open('data.csv', 'w') as file:\n",
        "        fields = ['ФИО', 'Должность', 'Дата найма', 'Оклад']\n",
        "        output_empl = csv.DictWriter(file, fieldnames=fields)\n",
        "        output_empl.writeheader()\n",
        "        for item in employees:\n",
        "            output_empl.writerow(item)\n",
        "\n",
        "\n"
      ],
      "metadata": {
        "id": "61IdUrQS0NbN"
      },
      "execution_count": 22,
      "outputs": []
    },
    {
      "cell_type": "code",
      "source": [
        "# Запить в JSON\n",
        "def write_json(data, employees):\n",
        "    with open('data.json', 'w') as file_json:\n",
        "        json.dump(employees, file_json)\n"
      ],
      "metadata": {
        "id": "ksGPTw2R0YT1"
      },
      "execution_count": 23,
      "outputs": []
    },
    {
      "cell_type": "code",
      "source": [
        "def print_employees(employees):\n",
        "    for employee in employees:\n",
        "        print(f\"ФИО: {employee['ФИО']}, Должность: {employee['Должность']}, Дата найма: {employee['Дата найма'].strftime('%d.%m.%Y')}, Оклад: {employee['Оклад']}, Премия: {employee.get('Премия', 0)}\")\n",
        "\n",
        "# Пример использования функции\n",
        "data = 'data.csv'\n",
        "employees = read_csv(data)\n",
        "employees = calculate_programmer_bonus(employees)\n",
        "employees = calculate_gender_bonus(employees)\n",
        "employees = index_salaries(employees)\n",
        "\n",
        "# Вывод списка сотрудников\n",
        "print_employees(employees)\n",
        "\n",
        "\n"
      ],
      "metadata": {
        "colab": {
          "base_uri": "https://localhost:8080/"
        },
        "id": "6VQb5b6mxFte",
        "outputId": "395c8c4b-4b8f-4b68-c74a-17b42c3b65b3"
      },
      "execution_count": 16,
      "outputs": [
        {
          "output_type": "stream",
          "name": "stdout",
          "text": [
            "ФИО: Иванов Иван Иванович, Должность: Менеджер, Дата найма: 22.10.2013, Оклад: 267500.0, Премия: 2000\n",
            "ФИО: Сорокина Екатерина Матвеевна, Должность: Аналитик, Дата найма: 12.03.2020, Оклад: 78750.0, Премия: 2000\n",
            "ФИО: Струков Иван Сергеевич, Должность: Старший программист, Дата найма: 23.04.2012, Оклад: 160500.0, Премия: 6500.0\n",
            "ФИО: Корнеева Анна Игоревна, Должность: Ведущий программист, Дата найма: 22.02.2015, Оклад: 126000.0, Премия: 5600.0\n",
            "ФИО: Старичков Сергей Анатольевич, Должность: Младший программист, Дата найма: 12.11.2021, Оклад: 52500.0, Премия: 3500.0\n",
            "ФИО: Бутенко Артем Андреевич, Должность: Архитектор, Дата найма: 12.02.2010, Оклад: 214000.0, Премия: 2000\n",
            "ФИО: Савченко Алина Сергеевна, Должность: Старший аналитик, Дата найма: 13.04.2016, Оклад: 105000.0, Премия: 2000\n"
          ]
        }
      ]
    }
  ]
}