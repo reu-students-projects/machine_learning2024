{
 "cells": [
  {
   "cell_type": "code",
   "execution_count": 5,
   "metadata": {},
   "outputs": [
    {
     "name": "stdout",
     "output_type": "stream",
     "text": [
      "Дмитрий, твое рабочее место находится в другой комнате. Отойди от чужого компьютера и займись работой!\n",
      "Добро пожаловать\n"
     ]
    }
   ],
   "source": [
    "# стр 12\n",
    "user_name = str (input('Введите имя' ))\n",
    "Dmitriy_check = 'Дмитрий, твое рабочее место находится в другой комнате. Отойди от чужого компьютера и займись работой!'\n",
    "greetings = 'Добро пожаловать'\n",
    "if user_name == 'Дмитрий':\n",
    "    print(Dmitriy_check)\n",
    "print(greetings)"
   ]
  },
  {
   "cell_type": "code",
   "execution_count": 1,
   "metadata": {},
   "outputs": [
    {
     "name": "stdout",
     "output_type": "stream",
     "text": [
      "Вы превысили максимальное число попыток. Для разблокировки обратитесь в службу поддержки\n"
     ]
    }
   ],
   "source": [
    "# стр 12\n",
    "enter_number = int (input())\n",
    "if enter_number < 3:\n",
    "    print(\"Попробуйте еще раз. У вас осталось\", 3 - enter_number, \"попыток\")\n",
    "else:\n",
    "    print(\"Вы превысили максимальное число попыток. Для разблокировки обратитесь в службу поддержки\")"
   ]
  },
  {
   "cell_type": "code",
   "execution_count": 2,
   "metadata": {},
   "outputs": [
    {
     "name": "stdout",
     "output_type": "stream",
     "text": [
      "statement_one: True\n",
      "statement_two: False\n"
     ]
    }
   ],
   "source": [
    "# стр 14\n",
    "if (2 + 2 + 2) >= 6:\n",
    "    statement_one = True\n",
    "else:\n",
    "    statement_one = False\n",
    "if (-1 * (-1)) < 0:\n",
    "    statement_two = True\n",
    "else:\n",
    "    statement_two = False\n",
    "print(\"statement_one:\", statement_one)\n",
    "print(\"statement_two:\", statement_two)"
   ]
  },
  {
   "cell_type": "code",
   "execution_count": 3,
   "metadata": {},
   "outputs": [
    {
     "name": "stdout",
     "output_type": "stream",
     "text": [
      "Дмитрий, твое рабочее место находится в другой комнате. Отойди от чужого компьютера и займись работой!\n"
     ]
    }
   ],
   "source": [
    "# стр 14\n",
    "user_name = str (input('Введите имя '))\n",
    "APM = int (input('Введите APM '))\n",
    "APM_Dmitriy = 1 \n",
    "APM_Angelina = 2\n",
    "APM_Vasiliy = 3\n",
    "APM_Ekaterina = 4\n",
    "greetings = 'Добро пожаловать'\n",
    "Dmitriy_check = 'Дмитрий, твое рабочее место находится в другой комнате. Отойди от чужого компьютера и займись работой!'\n",
    "if (APM == APM_Dmitriy and user_name == 'Дмитрий') or (APM == APM_Angelina and user_name == 'Ангелина') or (APM == APM_Vasiliy and user_name == 'Василий') or (APM == APM_Ekaterina and user_name == 'Екатерина'):\n",
    "    print(greetings)\n",
    "elif (APM == APM_Dmitriy and user_name != 'Дмитрий') or (APM == APM_Angelina and user_name != 'Ангелина' and user_name != 'Дмитрий') or (APM == APM_Vasiliy and user_name != 'Василий' and user_name != 'Дмитрий') or (APM == APM_Ekaterina and user_name != 'Екатерина' and user_name != 'Дмитрий'):\n",
    "    print ('Логин или пароль не верный, попробуйте еще раз!')\n",
    "else:\n",
    "    print(Dmitriy_check)"
   ]
  },
  {
   "cell_type": "code",
   "execution_count": null,
   "metadata": {},
   "outputs": [],
   "source": [
    "# стр 17\n",
    "grade = float (input('Введите средний балл '))\n",
    "if grade >= 4.0:\n",
    "    print ('A')\n",
    "elif grade < 4.0 and grade >= 3.0:\n",
    "    print ('B')\n",
    "elif grade < 3.0 and grade >= 2.0:\n",
    "    print ('C')\n",
    "elif grade < 2.0 and grade >= 1.0:\n",
    "    print ('D')\n",
    "else:\n",
    "    print ('F')"
   ]
  },
  {
   "cell_type": "code",
   "execution_count": 4,
   "metadata": {},
   "outputs": [
    {
     "name": "stdout",
     "output_type": "stream",
     "text": [
      "B\n"
     ]
    }
   ],
   "source": [
    "# стр 19\n",
    "grade = float(input(\"Введите средний балл \"))\n",
    "match grade:\n",
    "    case grade if grade >= 4.0:\n",
    "        print(\"A\")\n",
    "    case grade if grade >= 3.0:\n",
    "        print(\"B\")\n",
    "    case grade if grade >= 2.0:\n",
    "        print(\"C\")\n",
    "    case grade if grade >= 1.0:\n",
    "        print(\"D\")\n",
    "    case grade if grade >= 0.0:\n",
    "        print(\"F\")"
   ]
  },
  {
   "cell_type": "code",
   "execution_count": 6,
   "metadata": {},
   "outputs": [
    {
     "name": "stdout",
     "output_type": "stream",
     "text": [
      "Создание электронной таблицы с именем Загрузки with 1000 lines\n",
      "Создание электронной таблицы с именем Приложения with 10 lines\n"
     ]
    }
   ],
   "source": [
    "# стр 25\n",
    "def create_spreadsheet (title, row_count = str(1000)):\n",
    "    print ('Создание электронной таблицы с именем', title, 'with', row_count, 'lines')\n",
    "create_spreadsheet('Загрузки')\n",
    "create_spreadsheet('Приложения', 10)"
   ]
  },
  {
   "cell_type": "code",
   "execution_count": 20,
   "metadata": {},
   "outputs": [
    {
     "name": "stdout",
     "output_type": "stream",
     "text": [
      "Мне 56 лет, а моему отцу 96 лет\n"
     ]
    }
   ],
   "source": [
    "# стр 27\n",
    "def define_age (current_year, birth_year):\n",
    "    age = current_year - birth_year\n",
    "    return age\n",
    "my_age = define_age(2049, 1993)\n",
    "dads_age = define_age(2049, 1953)\n",
    "print ('Мне', my_age, 'лет, а моему отцу', dads_age,  'лет')"
   ]
  },
  {
   "cell_type": "code",
   "execution_count": 28,
   "metadata": {},
   "outputs": [
    {
     "name": "stdout",
     "output_type": "stream",
     "text": [
      "Нижний предел: 80 , верхний перед: 120\n"
     ]
    }
   ],
   "source": [
    "# стр 28\n",
    "def get_bounaries (target, margin):\n",
    "    low_limit = target - margin\n",
    "    high_limit = margin + target\n",
    "    return low_limit, high_limit\n",
    "low_limit, high_limit = get_bounaries(100, 20)\n",
    "print ('Нижний предел:', low_limit, ', верхний перед:', high_limit)"
   ]
  },
  {
   "cell_type": "code",
   "execution_count": 33,
   "metadata": {},
   "outputs": [
    {
     "name": "stdout",
     "output_type": "stream",
     "text": [
      "RowRowRowYour BoatRowRowRowYour BoatRowRowRowYour BoatRowRowRowYour BoatRowRowRowYour BoatRowRowRowYour BoatRowRowRowYour BoatRowRowRowYour BoatRowRowRowYour BoatRowRowRowYour Boat\n"
     ]
    }
   ],
   "source": [
    "# стр 29 \n",
    "def repeat_stuff (stuff, num_repeats = 10):\n",
    "    statement = stuff * num_repeats\n",
    "    return statement \n",
    "lyrics = repeat_stuff('Row', 3) + \"Your Boat\"\n",
    "song = repeat_stuff (lyrics)\n",
    "print(song)"
   ]
  },
  {
   "cell_type": "code",
   "execution_count": 36,
   "metadata": {},
   "outputs": [
    {
     "name": "stdout",
     "output_type": "stream",
     "text": [
      "[('Ben', 'Shark'), ('Holly', 'Gab'), ('Ann', 'Beethoven')]\n"
     ]
    }
   ],
   "source": [
    "# стр 32\n",
    "Name = ['Ben', 'Holly', 'Ann']\n",
    "dogs_names = ['Shark', 'Gab', 'Beethoven']\n",
    "list_of_names_and_dogs_names = zip(Name, dogs_names)\n",
    "print(list(list_of_names_and_dogs_names))"
   ]
  },
  {
   "cell_type": "code",
   "execution_count": 37,
   "metadata": {},
   "outputs": [
    {
     "name": "stdout",
     "output_type": "stream",
     "text": [
      "['маргаритки', 'васильки', 'тюльпаны', 'розы']\n"
     ]
    }
   ],
   "source": [
    "# стр 33\n",
    "orders = [\"маргаритки\", \"васильки\"]\n",
    "orders.append (\"тюльпаны\")\n",
    "orders.append (\"розы\")\n",
    "print(orders)"
   ]
  },
  {
   "cell_type": "code",
   "execution_count": 41,
   "metadata": {},
   "outputs": [
    {
     "name": "stdout",
     "output_type": "stream",
     "text": [
      "['маргаритка', 'лютик', 'львиный зев', 'гардения', 'лилия', 'сирень', 'ирис']\n",
      "[5, 3, 4, 5, 4, 4]\n"
     ]
    }
   ],
   "source": [
    "# стр 34\n",
    "orders = [\"маргаритка\", \"лютик\", \"львиный зев\", \"гардения\", \"лилия\"]\n",
    "new_orders = orders + [\"сирень\", \"ирис\"]\n",
    "broken_prices = [5, 3, 4, 5, 4] + [4]\n",
    "print(new_orders)\n",
    "print(broken_prices)"
   ]
  },
  {
   "cell_type": "code",
   "execution_count": 43,
   "metadata": {},
   "outputs": [
    {
     "name": "stdout",
     "output_type": "stream",
     "text": [
      "[0, 1, 2, 3, 4, 5, 6, 7, 8]\n",
      "[0, 1, 2, 3, 4, 5, 6, 7]\n"
     ]
    }
   ],
   "source": [
    "# стр 35\n",
    "list1 = range(9)\n",
    "list2 = range(8)\n",
    "print(list(list1))\n",
    "print(list(list2))"
   ]
  },
  {
   "cell_type": "code",
   "execution_count": 2,
   "metadata": {},
   "outputs": [
    {
     "name": "stdout",
     "output_type": "stream",
     "text": [
      "[5, 8, 11, 14]\n",
      "[0, 5, 10, 15, 20, 25, 30, 35]\n"
     ]
    }
   ],
   "source": [
    "# стр 36\n",
    "list1 = range(5, 16, 3)\n",
    "list2 = range(0, 40, 5)\n",
    "print(list(list1))\n",
    "print(list(list2))"
   ]
  },
  {
   "cell_type": "code",
   "execution_count": 4,
   "metadata": {},
   "outputs": [
    {
     "name": "stdout",
     "output_type": "stream",
     "text": [
      "[('Анна', 32), ('Борис', 41), ('Александр', 29), ('Денис', 42)]\n",
      "[0, 1, 2, 3]\n"
     ]
    }
   ],
   "source": [
    "# стр 36\n",
    "first_names = ['Анна', 'Борис', 'Александр', 'Денис']\n",
    "age = []\n",
    "age.append(42)\n",
    "all_ages = [32, 41, 29] + age\n",
    "name_and_age = zip(first_names, all_ages)\n",
    "ids = range(0, 4)\n",
    "print(list(name_and_age))\n",
    "print(list(ids))"
   ]
  },
  {
   "cell_type": "code",
   "execution_count": 5,
   "metadata": {},
   "outputs": [
    {
     "name": "stdout",
     "output_type": "stream",
     "text": [
      "9\n",
      "6\n"
     ]
    }
   ],
   "source": [
    "# стр 37\n",
    "list1 = range(2, 20, 2)\n",
    "list1_len = (len(list1))\n",
    "print(list1_len)\n",
    "list1 = range(2, 20, 3)\n",
    "print(len(list1))"
   ]
  },
  {
   "cell_type": "code",
   "execution_count": 6,
   "metadata": {},
   "outputs": [
    {
     "name": "stdout",
     "output_type": "stream",
     "text": [
      "Райан\n",
      "7\n",
      "Энди\n"
     ]
    }
   ],
   "source": [
    "# стр 38\n",
    "employees = ['Майкл', 'Дуат', 'Джим', 'Пэм', 'Райан', 'Энди', 'Роберт']\n",
    "index4 = employees[4]\n",
    "print(index4)\n",
    "print(len(employees))\n",
    "print(employees[5])\n"
   ]
  },
  {
   "cell_type": "code",
   "execution_count": 7,
   "metadata": {},
   "outputs": [
    {
     "name": "stdout",
     "output_type": "stream",
     "text": [
      "6\n",
      "хлопья\n",
      "хлопья\n"
     ]
    }
   ],
   "source": [
    "# стр 39\n",
    "shopping_list = ['яйца', 'масло', 'молоко', 'огурцы', 'сок', 'хлопья']\n",
    "print(len(shopping_list))\n",
    "last_element = shopping_list[-1]\n",
    "print(last_element)\n",
    "element5 = shopping_list[5]\n",
    "print(element5)"
   ]
  },
  {
   "cell_type": "code",
   "execution_count": 8,
   "metadata": {},
   "outputs": [
    {
     "name": "stdout",
     "output_type": "stream",
     "text": [
      "['рубашка', 'рубашка']\n",
      "['рубашка', 'рубашка', 'брюки', 'брюки', 'пижамы']\n",
      "['брюки', 'брюки']\n"
     ]
    }
   ],
   "source": [
    "# стр 39 \n",
    "suitcase = ['рубашка', 'рубашка', 'брюки', 'брюки', 'пижама', 'книги']\n",
    "beginning = suitcase[0:2]\n",
    "print(beginning)\n",
    "beginning = suitcase[0:5]\n",
    "print(beginning)\n",
    "middle = suitcase[2:4]\n",
    "print(middle)"
   ]
  },
  {
   "cell_type": "code",
   "execution_count": 10,
   "metadata": {},
   "outputs": [
    {
     "name": "stdout",
     "output_type": "stream",
     "text": [
      "['рубашка', 'футболка', 'носки']\n"
     ]
    }
   ],
   "source": [
    "# стр 40\n",
    "suitcase = ['рубашка', 'футболка', 'носки', 'очки', 'пижама', 'книги']\n",
    "start = suitcase[:3]\n",
    "print(start)"
   ]
  },
  {
   "cell_type": "code",
   "execution_count": 11,
   "metadata": {},
   "outputs": [
    {
     "name": "stdout",
     "output_type": "stream",
     "text": [
      "9\n"
     ]
    }
   ],
   "source": [
    "# стр 40\n",
    "votes = ['Jake', 'Jake', 'Laurie', 'Laurie', 'Laurie', 'Jake', 'Jake', 'Jake', 'Laurie', 'Cassie', 'Cassie', 'Jake', 'Jake', 'Cassie', 'Laurie', 'Cassie', 'Jake', 'Jake', 'Cassie', 'Laurie']\n",
    "jake_votes = votes.count('Jake')\n",
    "print(jake_votes)"
   ]
  },
  {
   "cell_type": "code",
   "execution_count": 14,
   "metadata": {},
   "outputs": [
    {
     "name": "stdout",
     "output_type": "stream",
     "text": [
      "['10 Downing St.', '12 Grimmauld Place', '1600 Pennsylvania Ave', '221 B Baker St.', '42 Wallaby Way', '742 Evergreen Terrace']\n"
     ]
    }
   ],
   "source": [
    "# стр 41\n",
    "addresses = ['221 B Baker St.', '42 Wallaby Way', '12 Grimmauld Place', '742 Evergreen Terrace', '1600 Pennsylvania Ave', '10 Downing St.']\n",
    "addresses.sort()\n",
    "print(addresses)"
   ]
  },
  {
   "cell_type": "code",
   "execution_count": 15,
   "metadata": {},
   "outputs": [
    {
     "name": "stdout",
     "output_type": "stream",
     "text": [
      "['Minecraft', 'Pacman', 'Pokemon', 'Portal', 'Tetris', 'The Sims']\n"
     ]
    }
   ],
   "source": [
    "# стр 42\n",
    "games = ['Portal', 'Minecraft', 'Pacman', 'Tetris', 'The Sims', 'Pokemon']\n",
    "print(sorted(games))"
   ]
  },
  {
   "cell_type": "code",
   "execution_count": 20,
   "metadata": {},
   "outputs": [
    {
     "name": "stdout",
     "output_type": "stream",
     "text": [
      "19\n",
      "двухспальная кровать\n",
      "подушка\n",
      "['изголовье', 'двуспальная кровать', 'двуспальная кровать', 'комод']\n",
      "['двухспальная кровать', 'двухспальная кровать', 'изголовье']\n",
      "2\n",
      "['две односпальные кровати', 'две односпальные кровати', 'двуспальная кровать', 'двуспальная кровать', 'двуспальная кровать', 'двухспальная кровать', 'двухспальная кровать', 'изголовье', 'комод', 'комод', 'королевский кровать', 'подушка', 'подушка', 'простыни', 'простыни', 'стол', 'стол', 'тумбочка', 'тумбочка']\n"
     ]
    }
   ],
   "source": [
    "# стр 42\n",
    "inventory = ['двухспальная кровать', 'двухспальная кровать', 'изголовье', 'двуспальная кровать', 'двуспальная кровать', 'комод', 'комод', 'стол', 'стол', 'тумбочка', 'тумбочка', 'королевский кровать', 'двуспальная кровать', 'две односпальные кровати', 'две односпальные кровати', 'простыни', 'простыни', 'подушка', 'подушка']\n",
    "print(len(inventory))\n",
    "first = inventory[0]\n",
    "last = inventory[-1]\n",
    "print(first)\n",
    "print(last)\n",
    "inventory_2_6 = inventory[2:6]\n",
    "print(inventory_2_6)\n",
    "first_3 = inventory[:3]\n",
    "print(first_3)\n",
    "twin_beds = inventory.count('две односпальные кровати')\n",
    "print(twin_beds)\n",
    "inventory.sort()\n",
    "print(inventory)"
   ]
  },
  {
   "cell_type": "code",
   "execution_count": 8,
   "metadata": {},
   "outputs": [
    {
     "name": "stdout",
     "output_type": "stream",
     "text": [
      "['пицца', 'вино', 'паста', 'салат', 'лимонад']\n"
     ]
    }
   ],
   "source": [
    "# стр 46\n",
    "order = ['пицца', 'вино', 'капрезе', 'паста', 'салат', 'лимонад']\n",
    "order.remove('капрезе')\n",
    "print(list(order))"
   ]
  },
  {
   "cell_type": "code",
   "execution_count": 14,
   "metadata": {},
   "outputs": [
    {
     "name": "stdout",
     "output_type": "stream",
     "text": [
      "[0, 1, 2, 5, 6, 7]\n"
     ]
    }
   ],
   "source": [
    "# стр 46\n",
    "numbers = [0, 1, 2, 3, 4, 5, 6, 7]\n",
    "del numbers[3:5]\n",
    "print(numbers)"
   ]
  },
  {
   "cell_type": "code",
   "execution_count": 15,
   "metadata": {},
   "outputs": [
    {
     "name": "stdout",
     "output_type": "stream",
     "text": [
      "[10, 14, 12, 13, 11, 15]\n"
     ]
    }
   ],
   "source": [
    "# стр 46\n",
    "x = [15, 11, 13, 12, 14, 10]\n",
    "x.reverse()\n",
    "print(x)"
   ]
  },
  {
   "cell_type": "code",
   "execution_count": 16,
   "metadata": {},
   "outputs": [
    {
     "name": "stdout",
     "output_type": "stream",
     "text": [
      "Settlers of Catan\n",
      "Carcassone\n",
      "Power Grid\n",
      "Agricola\n",
      "Scrabble\n",
      "football\n",
      "football - American\n",
      "hockey\n",
      "baseball\n",
      "cricket\n"
     ]
    }
   ],
   "source": [
    "# стр 49\n",
    "board_games = ['Settlers of Catan', 'Carcassone', 'Power Grid', 'Agricola', 'Scrabble']\n",
    "sport_games = ['football', 'football - American', 'hockey', 'baseball', 'cricket']\n",
    "for game in board_games:\n",
    "    print(game)\n",
    "for i in sport_games:\n",
    "    print(i)"
   ]
  },
  {
   "cell_type": "code",
   "execution_count": 19,
   "metadata": {},
   "outputs": [
    {
     "name": "stdout",
     "output_type": "stream",
     "text": [
      "I will not chew gum in class\n",
      "I will not chew gum in class\n",
      "I will not chew gum in class\n",
      "I will not chew gum in class\n",
      "I will not chew gum in class\n"
     ]
    }
   ],
   "source": [
    "# стр 50\n",
    "for i in range(5):\n",
    "    promise = \"I will not chew gum in class\"\n",
    "    print(promise)"
   ]
  },
  {
   "cell_type": "code",
   "execution_count": 21,
   "metadata": {},
   "outputs": [
    {
     "name": "stdout",
     "output_type": "stream",
     "text": [
      "['Dora', 'Minerva', 'Alexa', 'Obie', 'Alex', 'Briana', 'Cheri', 'Daniele']\n"
     ]
    }
   ],
   "source": [
    "# стр 50\n",
    "students_period_A = [\"Alex\", \"Briana\", \"Cheri\", \"Daniele\"]\n",
    "students_period_B = [\"Dora\", \"Minerva\", \"Alexa\", \"Obie\"]\n",
    "for i in students_period_A:\n",
    "    students_period_B = students_period_B + [i]\n",
    "print(list(students_period_B))\n"
   ]
  },
  {
   "cell_type": "code",
   "execution_count": 25,
   "metadata": {},
   "outputs": [
    {
     "name": "stdout",
     "output_type": "stream",
     "text": [
      "french_bulldog\n",
      "dalmatian\n",
      "У них есть собака, которую я хочу\n"
     ]
    }
   ],
   "source": [
    "# стр 52\n",
    "dog_breeds_available_for_adoption = ['french_bulldog', 'dalmatian', 'shihtzu', 'poodle', 'collie']\n",
    "dog_breed_I_want = 'dalmatian'\n",
    "for i in dog_breeds_available_for_adoption:\n",
    "    print(i)\n",
    "for i in dog_breeds_available_for_adoption:\n",
    "    if dog_breed_I_want == i:\n",
    "        break\n",
    "print('У них есть собака, которую я хочу')\n"
   ]
  },
  {
   "cell_type": "code",
   "execution_count": 33,
   "metadata": {},
   "outputs": [
    {
     "name": "stdout",
     "output_type": "stream",
     "text": [
      "96\n"
     ]
    }
   ],
   "source": [
    "# стр 53\n",
    "sales_data = [[12, 17, 22], [2, 10, 3], [5, 12, 13]]\n",
    "scoop_sold = 0\n",
    "for i in sales_data:\n",
    "    for j in i:\n",
    "        scoop_sold += j\n",
    "print(scoop_sold)\n"
   ]
  },
  {
   "cell_type": "code",
   "execution_count": 38,
   "metadata": {},
   "outputs": [
    {
     "name": "stdout",
     "output_type": "stream",
     "text": [
      "[0, 1, 4, 9, 16, 25, 36, 49, 64, 81]\n",
      "[0, 1, 8, 27, 64, 125, 216, 343, 512, 729]\n"
     ]
    }
   ],
   "source": [
    "# стр 56\n",
    "single_digits = [0, 1, 2, 3, 4, 5, 6, 7, 8, 9]\n",
    "squares = []\n",
    "cubes = []\n",
    "for i in single_digits:\n",
    "    i = i**2\n",
    "    squares.append(i)\n",
    "print(list(squares))\n",
    "for i in single_digits:\n",
    "    i = i**3\n",
    "    cubes.append(i)\n",
    "print(list(cubes))\n",
    "  \n",
    "\n"
   ]
  },
  {
   "cell_type": "code",
   "execution_count": 40,
   "metadata": {},
   "outputs": [
    {
     "name": "stdout",
     "output_type": "stream",
     "text": [
      "Краси\n",
      "сил\n"
     ]
    }
   ],
   "source": [
    "# стр 58\n",
    "first_name = 'Виталий'\n",
    "last_name = 'Красилов'\n",
    "new_account = last_name[:5]\n",
    "temp_password = last_name[3:6]\n",
    "print(new_account)\n",
    "print(temp_password)"
   ]
  },
  {
   "cell_type": "code",
   "execution_count": 44,
   "metadata": {},
   "outputs": [
    {
     "name": "stdout",
     "output_type": "stream",
     "text": [
      "ВитКра\n"
     ]
    }
   ],
   "source": [
    "# стр 59\n",
    "def account_generator (first_name, last_name):\n",
    "    new_account = first_name[:3] + last_name[:3]\n",
    "    return new_account\n",
    "new_account = account_generator('Виталий', 'Красилов')\n",
    "print(new_account)"
   ]
  },
  {
   "cell_type": "code",
   "execution_count": 45,
   "metadata": {},
   "outputs": [
    {
     "name": "stdout",
     "output_type": "stream",
     "text": [
      "лийлов\n"
     ]
    }
   ],
   "source": [
    "# стр 60\n",
    "def password_generator(first_name, last_name):\n",
    "    temp_password = first_name[-3:] + last_name[-3:]\n",
    "    return temp_password\n",
    "temp_password = password_generator('Виталий', 'Красилов')\n",
    "print(temp_password)"
   ]
  },
  {
   "cell_type": "code",
   "execution_count": 50,
   "metadata": {},
   "outputs": [
    {
     "name": "stdout",
     "output_type": "stream",
     "text": [
      "с\n",
      "ются\n"
     ]
    }
   ],
   "source": [
    "# стр 61\n",
    "company_motto = 'Мечты сбываются'\n",
    "second_to_last = company_motto[-2:-1]\n",
    "print(second_to_last)\n",
    "final_word = company_motto[-4:]\n",
    "print(final_word)"
   ]
  },
  {
   "cell_type": "code",
   "execution_count": 2,
   "metadata": {},
   "outputs": [
    {
     "name": "stdout",
     "output_type": "stream",
     "text": [
      "Боб\n"
     ]
    }
   ],
   "source": [
    "# стр 61\n",
    "first_name = 'Роб'\n",
    "fixed_first_name = 'Б' + first_name[1:]\n",
    "print(fixed_first_name) "
   ]
  },
  {
   "cell_type": "code",
   "execution_count": 3,
   "metadata": {},
   "outputs": [
    {
     "name": "stdout",
     "output_type": "stream",
     "text": [
      "theycallme'crazy'91\n"
     ]
    }
   ],
   "source": [
    "# стр 62\n",
    "password = 'theycallme\\'crazy\\'91'\n",
    "print(password)"
   ]
  },
  {
   "cell_type": "code",
   "execution_count": 5,
   "metadata": {},
   "outputs": [
    {
     "name": "stdout",
     "output_type": "stream",
     "text": [
      "11\n"
     ]
    }
   ],
   "source": [
    "# стр 62\n",
    "def get_lengh(word):\n",
    "    lengh = len(word)\n",
    "    return(lengh)\n",
    "word = get_lengh('blueberries')\n",
    "print(word)"
   ]
  },
  {
   "cell_type": "code",
   "execution_count": 9,
   "metadata": {},
   "outputs": [
    {
     "name": "stdout",
     "output_type": "stream",
     "text": [
      "False\n",
      "True\n"
     ]
    }
   ],
   "source": [
    "# стр 63\n",
    "def letter_check(word, letter):\n",
    "    if letter in word:\n",
    "        return('True')\n",
    "    else:\n",
    "        return('False')\n",
    "check1 = letter_check('ноутбук', 'п')\n",
    "check2 = letter_check('дождь', 'о')\n",
    "print(check1)\n",
    "print(check2)\n",
    "\n",
    "\n",
    "    "
   ]
  },
  {
   "cell_type": "code",
   "execution_count": 18,
   "metadata": {},
   "outputs": [
    {
     "name": "stdout",
     "output_type": "stream",
     "text": [
      "True\n",
      "False\n"
     ]
    }
   ],
   "source": [
    "# стр 64\n",
    "def contains(big_string, little_string):\n",
    "    if little_string in big_string:\n",
    "        return('True')\n",
    "    else:\n",
    "        return('False')\n",
    "check1 = contains('watermelon', 'melon')\n",
    "check2 = contains('watermelom', 'berry')\n",
    "print(check1)\n",
    "print(check2)"
   ]
  },
  {
   "cell_type": "code",
   "execution_count": 30,
   "metadata": {},
   "outputs": [
    {
     "name": "stdout",
     "output_type": "stream",
     "text": [
      "['a']\n"
     ]
    }
   ],
   "source": [
    "# стр 64\n",
    "def common_letters(string_one, string_two):\n",
    "    letter_list = []\n",
    "    for letter_one in string_one:\n",
    "        if letter_one in string_two:\n",
    "            letter_list.append(letter_one)\n",
    "            return(letter_list)\n",
    "check = common_letters('banana', 'cream')\n",
    "print(check)\n"
   ]
  },
  {
   "cell_type": "code",
   "execution_count": 36,
   "metadata": {},
   "outputs": [
    {
     "name": "stdout",
     "output_type": "stream",
     "text": [
      "АркПаро\n",
      "оАркПар\n"
     ]
    }
   ],
   "source": [
    "# стр 65\n",
    "def username_generator(first_name, last_name):\n",
    "    username = first_name[:3] + last_name[:4]\n",
    "    return username\n",
    "def password_generator(username):\n",
    "    for i in range(len(username)):\n",
    "        password = username[-1] + username[0:-1]\n",
    "    return(password)\n",
    "username = username_generator('Аркадий', 'Паровозов')\n",
    "print (username)\n",
    "password = password_generator(username)\n",
    "print(password)"
   ]
  },
  {
   "cell_type": "code",
   "execution_count": 37,
   "metadata": {},
   "outputs": [
    {
     "name": "stdout",
     "output_type": "stream",
     "text": [
      "Spring Srotm\n"
     ]
    }
   ],
   "source": [
    "# стр 66\n",
    "poem_title = 'spring srotm'\n",
    "poem_author = 'William Carlos Williams'\n",
    "poem_title_fixed = poem_title.title()\n",
    "print(poem_title_fixed)"
   ]
  },
  {
   "cell_type": "code",
   "execution_count": 38,
   "metadata": {},
   "outputs": [
    {
     "name": "stdout",
     "output_type": "stream",
     "text": [
      "['The', 'sky', 'has', 'given', 'over']\n"
     ]
    }
   ],
   "source": [
    "# стр 67\n",
    "line_one = 'The sky has given over'\n",
    "line_one_words = line_one.split()\n",
    "print(line_one_words)\n"
   ]
  },
  {
   "cell_type": "code",
   "execution_count": 51,
   "metadata": {},
   "outputs": [
    {
     "name": "stdout",
     "output_type": "stream",
     "text": [
      "['Lorde', 'Williams', 'Mistral', 'Toomer', 'Qi', 'Whitman', 'Silverstein', 'Boullosa', 'Suraiyya', 'Hughes', 'Rich', 'Giovanni']\n"
     ]
    }
   ],
   "source": [
    "# стр 67\n",
    "authors = 'Audre Lorde, Carlos Williams, Gabriela Mistral, Jean Toomer, An Qi, Walt Whitman, Shel Silverstein, Carmen Boullosa, Kamala Suraiyya, Langston Hughes, Adrienne Rich, Nikki Giovanni'\n",
    "authors_names = authors.split(',')\n",
    "authors_last_names = []\n",
    "for i in authors_names:\n",
    "    last_name = i.split()[1]\n",
    "    authors_last_names.append(last_name)\n",
    "print(authors_last_names)"
   ]
  },
  {
   "cell_type": "code",
   "execution_count": 52,
   "metadata": {},
   "outputs": [
    {
     "name": "stdout",
     "output_type": "stream",
     "text": [
      "['The sky has given over ', 'its bitterness. ', 'Out of the dark change ', 'all day long ', 'rain falls and falls ', 'as if it would never end. ', 'Still the snow keeps ', 'its hold on the ground. ', 'But water, water ', 'from a thousand runnels! ', 'It collects swiftly, ', 'dappled with black ', 'cuts a way for itself ', 'through green ice in the gutters. ', 'Drop after drop it falls ', 'from the withered grass-stems ', 'of the overhanging embankment.']\n"
     ]
    }
   ],
   "source": [
    "# стр 68\n",
    "spring_storm_text = \\\n",
    "\"\"\"The sky has given over \n",
    "its bitterness. \n",
    "Out of the dark change \n",
    "all day long \n",
    "rain falls and falls \n",
    "as if it would never end. \n",
    "Still the snow keeps \n",
    "its hold on the ground. \n",
    "But water, water \n",
    "from a thousand runnels! \n",
    "It collects swiftly, \n",
    "dappled with black \n",
    "cuts a way for itself \n",
    "through green ice in the gutters. \n",
    "Drop after drop it falls \n",
    "from the withered grass-stems \n",
    "of the overhanging embankment.\"\"\"\n",
    "spring_storm_lines = spring_storm_text.split('\\n')\n",
    "print(spring_storm_lines)"
   ]
  },
  {
   "cell_type": "code",
   "execution_count": 62,
   "metadata": {},
   "outputs": [
    {
     "name": "stdout",
     "output_type": "stream",
     "text": [
      "{'living room': 21, 'kitchen': 23, 'bedroom': 20, 'pantry': 22}\n",
      "{'backyard': 6, 'garage': 2, 'driveway': 1}\n"
     ]
    }
   ],
   "source": [
    "# стр 71\n",
    "sensors = {\"living room\": 21, \"kitchen\": 23, \"bedroom\": 20, \"pantry\": 22}\n",
    "print(sensors)\n",
    "num_cameras = {\"backyard\": 6, \"garage\": 2, \"driveway\": 1}\n",
    "print(num_cameras)"
   ]
  },
  {
   "cell_type": "code",
   "execution_count": 63,
   "metadata": {},
   "outputs": [
    {
     "name": "stdout",
     "output_type": "stream",
     "text": [
      "{'mountain': 'orod', 'bread': 'bass', 'friend': 'mellon', 'horse': 'roch'}\n"
     ]
    }
   ],
   "source": [
    "# стр 72\n",
    "dictionary = {\"mountain\": \"orod\", \"bread\": \"bass\", \"friend\": \"mellon\", \"horse\": \"roch\"}\n",
    "print(dictionary)"
   ]
  },
  {
   "cell_type": "code",
   "execution_count": 65,
   "metadata": {},
   "outputs": [
    {
     "name": "stdout",
     "output_type": "stream",
     "text": [
      "{'зебры': 8, 'обезьяны': 12, 'динозавтры': 0}\n"
     ]
    }
   ],
   "source": [
    "# стр 73\n",
    "animals_in_zoo = {}\n",
    "animals_in_zoo[\"зебры\"] = 8\n",
    "animals_in_zoo[\"обезьяны\"] = 12\n",
    "animals_in_zoo[\"динозавтры\"] = 0\n",
    "print(animals_in_zoo)"
   ]
  },
  {
   "cell_type": "code",
   "execution_count": 67,
   "metadata": {},
   "outputs": [
    {
     "name": "stdout",
     "output_type": "stream",
     "text": [
      "{'teraCoder': 9018293, 'proProgrammer': 119238, 'theLooper': 138475, 'stringQueen': 85739}\n"
     ]
    }
   ],
   "source": [
    "# стр 74\n",
    "ser_ids = {\"teraCoder\": 9018293, \"proProgrammer\": 119238}\n",
    "ser_ids.update({\"theLooper\": 138475, \"stringQueen\": 85739})\n",
    "print(ser_ids)"
   ]
  },
  {
   "cell_type": "code",
   "execution_count": 71,
   "metadata": {},
   "outputs": [
    {
     "name": "stdout",
     "output_type": "stream",
     "text": [
      "{'Best Picture': 'Moonlight', 'Best Actor': 'Casey Affleck', 'Best Actress': 'Emma Stone', 'Animated Feature': 'Zootopia', 'Supporting Actress': 'Viola Davis'}\n"
     ]
    }
   ],
   "source": [
    "# стр 74\n",
    "oscar_winners = {\"Best Picture\": \"La La Land\", \"Best Actor\": \"Casey Affleck\", \"Best Actress\": \"Emma Stone\", \"Animated Feature\": \"Zootopia\"}\n",
    "oscar_winners[\"Supporting Actress\"] = \"Viola Davis\"\n",
    "oscar_winners[\"Best Picture\"] = \"Moonlight\"\n",
    "print(oscar_winners)"
   ]
  },
  {
   "cell_type": "code",
   "execution_count": 76,
   "metadata": {},
   "outputs": [
    {
     "name": "stdout",
     "output_type": "stream",
     "text": [
      "{'espresso': 64, 'chai': 40, 'decaf': 0, 'drip': 120}\n"
     ]
    }
   ],
   "source": [
    "# стр 75\n",
    "drinks = [\"espresso\", \"chai\", \"decaf\", \"drip\"]\n",
    "caffeine = [64, 40, 0, 120]\n",
    "zipped_drinks = zip(drinks, caffeine)\n",
    "drinks_to_caffiene = {key: value for key, value in zipped_drinks}\n",
    "print(drinks_to_caffiene)"
   ]
  },
  {
   "cell_type": "code",
   "execution_count": 10,
   "metadata": {},
   "outputs": [
    {
     "name": "stdout",
     "output_type": "stream",
     "text": [
      "{'Like a Rolling Stone': 78, 'Satisfaction': 29, 'Imagine': 44, \"What's Going On\": 21, 'Respect': 89, 'Good Vibrations': 5}\n",
      "{'The best song': {'Like a Rolling Stone': 78, 'Satisfaction': 29, 'Imagine': 44, \"What's Going On\": 21, 'Respect': 94, 'Good Vibrations': 5, 'Purple Haze': 1}, 'Sunday': ' '}\n"
     ]
    }
   ],
   "source": [
    "# стр 76\n",
    "songs = [\"Like a Rolling Stone\", \"Satisfaction\", \"Imagine\", \"What's Going On\", \"Respect\", \"Good Vibrations\"]\n",
    "playcounts = [78, 29, 44, 21, 89, 5]\n",
    "plays = {key: value for key, value in zip(songs, playcounts)}\n",
    "print(plays)\n",
    "plays[\"Purple Haze\"] = 1\n",
    "plays[\"Respect\"] = 89 + 5\n",
    "library = {\"The best song\": plays, \"Sunday\": \" \"}\n",
    "print(library)"
   ]
  },
  {
   "cell_type": "code",
   "execution_count": 11,
   "metadata": {},
   "outputs": [
    {
     "name": "stdout",
     "output_type": "stream",
     "text": [
      "['Aries', 'Leo', 'Sagittarius']\n"
     ]
    }
   ],
   "source": [
    "# стр 77\n",
    "zodiac_elements = {\"water\": [\"Cancer\", \"Scorpio\", \"Pisces\"], \"fire\": [\"Aries\", \"Leo\", \"Sagittarius\"], \"earth\": [\"Taurus\", \"Virgo\", \"Capricorn\"], \"air\":[\"Gemini\", \"Libra\", \"Aquarius\"]}\n",
    "print(zodiac_elements[\"fire\"])"
   ]
  },
  {
   "cell_type": "code",
   "execution_count": 20,
   "metadata": {},
   "outputs": [
    {
     "name": "stdout",
     "output_type": "stream",
     "text": [
      "Not a Zodiac element\n"
     ]
    }
   ],
   "source": [
    "# стр 77\n",
    "zodiac_elements = {\"water\": [\"Cancer\", \"Scorpio\", \"Pisces\"], \"fire\": [\"Aries\", \"Leo\", \"Sagittarius\"], \"earth\": [\"Taurus\", \"Virgo\", \"Capricorn\"], \"air\":[\"Gemini\", \"Libra\", \"Aquarius\"]}\n",
    "check = 'energy'\n",
    "if check in zodiac_elements:\n",
    "    print(zodiac_elements[\"energy\"])\n",
    "else:\n",
    "    print(\"Not a Zodiac element\")"
   ]
  },
  {
   "cell_type": "code",
   "execution_count": 26,
   "metadata": {},
   "outputs": [
    {
     "name": "stdout",
     "output_type": "stream",
     "text": [
      "30\n"
     ]
    }
   ],
   "source": [
    "# стр 78\n",
    "caffeine_level = {\"espresso\": 64, \"chai\": 40, \"decaf\": 0, \"drip\": 120}\n",
    "caffeine_level[\"matcha\"] = 30\n",
    "check = \"matcha\"\n",
    "try:\n",
    "    print(caffeine_level[check])\n",
    "except KeyError:\n",
    "    print(\"Неизвестный уровень кофеина\")"
   ]
  },
  {
   "cell_type": "code",
   "execution_count": 31,
   "metadata": {},
   "outputs": [
    {
     "name": "stdout",
     "output_type": "stream",
     "text": [
      "100019\n",
      "100000\n"
     ]
    }
   ],
   "source": [
    "# стр 78\n",
    "user_ids = {\"teraCoder\": 100019, \"pythonGuy\": 182921, \"samTheJavaMaam\": 123112, \"lyleLoop\": 102931, \"keysmithKeith\": 129384}\n",
    "tc_id = user_ids.get(\"teraCoder\", 100000)\n",
    "stack_id = user_ids.get(\"superStackSmash\", 100000)\n",
    "print(tc_id)\n",
    "print(stack_id)"
   ]
  },
  {
   "cell_type": "code",
   "execution_count": 3,
   "metadata": {},
   "outputs": [
    {
     "name": "stdout",
     "output_type": "stream",
     "text": [
      "dict_keys(['teraCoder', 'pythonGuy', 'samTheJavaMaam', 'lyleLoop', 'keysmithKeith'])\n",
      "dict_keys(['functions', 'syntax', 'control flow', 'loops', 'lists', 'classes', 'dictionaries'])\n"
     ]
    }
   ],
   "source": [
    "# стр 80\n",
    "user_ids = {\"teraCoder\": 100019, \"pythonGuy\": 182921, \"samTheJavaMaam\": 123112, \"lyleLoop\": 102931, \"keysmithKeith\": 129384}\n",
    "users = user_ids.keys()\n",
    "print(users)\n",
    "num_exercises = {\"functions\": 10, \"syntax\": 13, \"control flow\": 15, \"loops\": 22, \"lists\": 19, \"classes\": 18, \"dictionaries\": 18}\n",
    "classes = num_exercises.keys()\n",
    "print(classes)"
   ]
  },
  {
   "cell_type": "code",
   "execution_count": null,
   "metadata": {},
   "outputs": [
    {
     "name": "stdout",
     "output_type": "stream",
     "text": [
      "dict_values([10, 13, 15, 22, 19, 18, 18])\n"
     ]
    }
   ],
   "source": [
    "# стр 81\n",
    "total_exercises = 0\n",
    "num_exercises = {\"functions\": 10, \"syntax\": 13, \"control flow\": 15, \"loops\": 22, \"lists\": 19, \"classes\": 18, \"dictionaries\": 18}\n",
    "total_exercises = num_exercises.values()\n",
    "print(total_exercises)"
   ]
  },
  {
   "cell_type": "code",
   "execution_count": 8,
   "metadata": {},
   "outputs": [
    {
     "name": "stdout",
     "output_type": "stream",
     "text": [
      "{'прошлое': 'Death', 'настоящее': 'The Fool', 'будущее': 'Wheel of Fortune'}\n"
     ]
    }
   ],
   "source": [
    "# стр 82\n",
    "tarot = { 1: \"The Magician\", 2: \"The High Priestess\", 3: \"The Empress\", 4: \"The Emperor\", 5: \"The Hierophant\", 6: \"The Lovers\", 7: \"The Chariot\", 8: \"Strength\", 9: \"The Hermit\", 10: \"Wheel of Fortune\", 11: \"Justice\", 12: \"The Hanged Man\", 13: \"Death\", 14: \"Temperance\", 15: \"The Devil\", 16: \"The Tower\", 17: \"The Star\", 18: \"The Moon\", 19: \"The Sun\", 20: \"Judgement\", 21: \"The World\", 22: \"The Fool\"}\n",
    "spread = {}\n",
    "past = tarot[13]\n",
    "present = tarot[22]\n",
    "future = tarot[10]\n",
    "spread = {'прошлое': past, 'настоящее': present, 'будущее': future}\n",
    "print(spread)"
   ]
  }
 ],
 "metadata": {
  "kernelspec": {
   "display_name": "Python 3",
   "language": "python",
   "name": "python3"
  },
  "language_info": {
   "codemirror_mode": {
    "name": "ipython",
    "version": 3
   },
   "file_extension": ".py",
   "mimetype": "text/x-python",
   "name": "python",
   "nbconvert_exporter": "python",
   "pygments_lexer": "ipython3",
   "version": "3.11.4"
  }
 },
 "nbformat": 4,
 "nbformat_minor": 2
}
