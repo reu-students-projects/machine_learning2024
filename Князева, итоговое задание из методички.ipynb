{
 "cells": [
  {
   "cell_type": "markdown",
   "metadata": {},
   "source": [
    "Итоговое задание из методички "
   ]
  },
  {
   "cell_type": "code",
   "execution_count": 84,
   "metadata": {},
   "outputs": [],
   "source": [
    "import csv\n",
    "import json\n",
    "from datetime import datetime"
   ]
  },
  {
   "cell_type": "markdown",
   "metadata": {},
   "source": [
    "Создайте файл csv, содержащий следующие сведения:"
   ]
  },
  {
   "cell_type": "code",
   "execution_count": 85,
   "metadata": {},
   "outputs": [],
   "source": [
    "# Сведения для файла csv\n",
    "employees = [\n",
    "    {\"ФИО\": \"Иванов Иван Иванович\", \"Должность\": \"Менеджер\", \"Дата найма\": \"22.10.2013\", \"Оклад\": 250000},\n",
    "    {\"ФИО\": \"Сорокина Екатерина Матвеевна\", \"Должность\": \"Аналитик\", \"Дата найма\": \"12.03.2020\", \"Оклад\": 75000},\n",
    "    {\"ФИО\": \"Струков Сергей Сергеевич\", \"Должность\": \"Программист\", \"Дата найма\": \"23.04.2012\", \"Оклад\": 150000},\n",
    "    {\"ФИО\": \"Корнеева Анна Игоревна\", \"Должность\": \"Программист\", \"Дата найма\": \"22.02.2015\", \"Оклад\": 120000},\n",
    "    {\"ФИО\": \"Старчиков Сергей Анатольевич\", \"Должность\": \"Программист\", \"Дата найма\": \"12.11.2021\", \"Оклад\": 50000},\n",
    "    {\"ФИО\": \"Бутенко Артем Андреевич\", \"Должность\": \"Архитектор\", \"Дата найма\": \"12.02.2010\", \"Оклад\": 200000},\n",
    "    {\"ФИО\": \"Савченко Алина Сергеевна\", \"Должность\": \"Старший аналитик\", \"Дата найма\": \"13.04.2016\", \"Оклад\": 100000}\n",
    "]\n",
    "\n",
    "# Создание файла \n",
    "with open('output.csv', 'w') as output_csv:\n",
    "    fields = ['ФИО', 'Должность', 'Дата найма', 'Оклад']\n",
    "    output_writer = csv.DictWriter(output_csv, fieldnames=fields)\n",
    "    output_writer.writeheader()\n",
    "    for item in employees:\n",
    "        output_writer.writerow(item)\n"
   ]
  },
  {
   "cell_type": "code",
   "execution_count": 86,
   "metadata": {},
   "outputs": [
    {
     "name": "stdout",
     "output_type": "stream",
     "text": [
      "ФИО: Иванов Иван Иванович, Должность: Менеджер, Дата найма: 22.10.2013, Оклад: 250000\n",
      "ФИО: Сорокина Екатерина Матвеевна, Должность: Аналитик, Дата найма: 12.03.2020, Оклад: 75000\n",
      "ФИО: Струков Сергей Сергеевич, Должность: Программист, Дата найма: 23.04.2012, Оклад: 150000\n",
      "ФИО: Корнеева Анна Игоревна, Должность: Программист, Дата найма: 22.02.2015, Оклад: 120000\n",
      "ФИО: Старчиков Сергей Анатольевич, Должность: Программист, Дата найма: 12.11.2021, Оклад: 50000\n",
      "ФИО: Бутенко Артем Андреевич, Должность: Архитектор, Дата найма: 12.02.2010, Оклад: 200000\n",
      "ФИО: Савченко Алина Сергеевна, Должность: Старший аналитик, Дата найма: 13.04.2016, Оклад: 100000\n"
     ]
    }
   ],
   "source": [
    "# Чтение данных из файла CSV\n",
    "with open('output.csv') as input_csv:\n",
    "    reader = csv.DictReader(input_csv)\n",
    "    for row in reader:\n",
    "        \n",
    "        print(f\"ФИО: {row['ФИО']}, Должность: {row['Должность']}, Дата найма: {row['Дата найма']}, Оклад: {row['Оклад']}\")"
   ]
  },
  {
   "cell_type": "markdown",
   "metadata": {},
   "source": [
    "1). Начальство решило выплачивать премии ко дню программиста в сентябре (13\n",
    "сентября – день программиста). Премия будет составлять 3% от оклада каждому\n",
    "программисту. Реализуйте функцию, которая будет рассчитывать премию."
   ]
  },
  {
   "cell_type": "code",
   "execution_count": 87,
   "metadata": {},
   "outputs": [
    {
     "name": "stdout",
     "output_type": "stream",
     "text": [
      "Сегодня не 13 сентября, премия не начисляется\n"
     ]
    }
   ],
   "source": [
    "def calculate_programmer_bonus(employees):\n",
    "    bonus_rate = 0.03  # Премия в процентах от зарплаты \n",
    "    current_date = datetime.now()\n",
    "\n",
    "    # Проверяем дату (13 сентрября?)\n",
    "    if current_date.month == 9 and current_date.day == 13:\n",
    "        for employee in employees:\n",
    "            # Проверяем, если в должности присутствует слово \"программист\"\n",
    "            if \"программист\" in employee[\"Должность\"].lower():\n",
    "                salary = employee[\"Оклад\"]\n",
    "                bonus = salary * bonus_rate\n",
    "                print(f\"Премия для {employee['ФИО']} : {bonus:.2f} руб.\")\n",
    "    else:\n",
    "        print(\"Сегодня не 13 сентября, премия не начисляется\")\n",
    "calculate_programmer_bonus(employees)"
   ]
  },
  {
   "cell_type": "code",
   "execution_count": 88,
   "metadata": {},
   "outputs": [
    {
     "name": "stdout",
     "output_type": "stream",
     "text": [
      "Премия для Струков Сергей Сергеевич : 4500.00 руб.\n",
      "Премия для Корнеева Анна Игоревна : 3600.00 руб.\n",
      "Премия для Старчиков Сергей Анатольевич : 1500.00 руб.\n"
     ]
    }
   ],
   "source": [
    "# Представим, что сегодня 13 сентрября, чтобы проверить, как рассчитается премия\n",
    "def calculate_programmer_bonus(employees):\n",
    "    bonus_rate = 0.03  # Премия в процентах\n",
    "    \n",
    "    date = datetime(year=2024, month=9, day=13)\n",
    "\n",
    "    # Проверяем дату \n",
    "    if date.month == 9 and date.day == 13:\n",
    "        for employee in employees:\n",
    "            # Проверяем, если в должности присутствует \"программист\"\n",
    "            if \"программист\" in employee[\"Должность\"].lower():\n",
    "                salary = employee[\"Оклад\"]\n",
    "                bonus = salary * bonus_rate\n",
    "                print(f\"Премия для {employee['ФИО']} : {bonus:.2f} руб.\")\n",
    "    else:\n",
    "        print(\"Сегодня не 13 сентября, премия не начисляется\")\n",
    "calculate_programmer_bonus(employees)"
   ]
  },
  {
   "cell_type": "markdown",
   "metadata": {},
   "source": [
    "2). Начальство решило выплачивать премии к 8 марта всем сотрудницам, а к 23\n",
    "февраля сотрудникам, равные 2000 Реализуйте функцию, которая будет\n",
    "рассчитывать премию."
   ]
  },
  {
   "cell_type": "code",
   "execution_count": 89,
   "metadata": {},
   "outputs": [
    {
     "name": "stdout",
     "output_type": "stream",
     "text": [
      "Сегодня ни 8 матра, ни 23 февраля\n"
     ]
    }
   ],
   "source": [
    "def gender_bonus(employees):\n",
    "    bonus_amount = 2000  \n",
    "    current_date = datetime.now()\n",
    "\n",
    "    # Проверка даты \n",
    "    if current_date.month == 3 and current_date.day == 8:\n",
    "        for employee in employees:\n",
    "            # Если имя оканчивается на а, то женщина\n",
    "            if employee[\"ФИО\"].split()[1][-1] == 'а':\n",
    "                print(f\"Премия к 8 марта для {employee['ФИО']}: {bonus_amount} руб.\")\n",
    "    elif current_date.month == 2 and current_date.day == 23:\n",
    "        for employee in employees:\n",
    "            # Если имя не оканчивается на а, то мужчина\n",
    "            if employee[\"ФИО\"].split()[1][-1] != 'а':\n",
    "                print(f\"Премия к 23 февраля для {employee['ФИО']}: {bonus_amount} руб.\")\n",
    "    else:\n",
    "        print(\"Сегодня ни 8 матра, ни 23 февраля\")\n",
    "gender_bonus(employees)"
   ]
  },
  {
   "cell_type": "code",
   "execution_count": 90,
   "metadata": {},
   "outputs": [
    {
     "name": "stdout",
     "output_type": "stream",
     "text": [
      "Премия к 8 марта для Сорокина Екатерина Матвеевна: 2000 руб.\n",
      "Премия к 8 марта для Корнеева Анна Игоревна: 2000 руб.\n",
      "Премия к 8 марта для Савченко Алина Сергеевна: 2000 руб.\n"
     ]
    }
   ],
   "source": [
    "# Представим, что сегодня 8 марта \n",
    "def gender_bonus(employees):\n",
    "    bonus_amount = 2000  # Фиксированная премия\n",
    "    current_date = datetime(year=2024, month=3, day=8)\n",
    "\n",
    "    # Проверка даты \n",
    "    if current_date.month == 3 and current_date.day == 8:\n",
    "        for employee in employees:\n",
    "            # Если имя оканчивается на а, то женщина\n",
    "            if employee[\"ФИО\"].split()[1][-1] == 'а':\n",
    "                print(f\"Премия к 8 марта для {employee['ФИО']}: {bonus_amount} руб.\")\n",
    "    elif current_date.month == 2 and current_date.day == 23:\n",
    "        for employee in employees:\n",
    "            # Если имя не оканчивается на а, то мужчина\n",
    "            if employee[\"ФИО\"].split()[1][-1] != 'а':\n",
    "                print(f\"Премия к 23 февраля для {employee['ФИО']}: {bonus_amount} руб.\")\n",
    "    else:\n",
    "        print(\"Сегодня ни 8 матра, ни 23 февраля\")\n",
    "gender_bonus(employees)"
   ]
  },
  {
   "cell_type": "code",
   "execution_count": 91,
   "metadata": {},
   "outputs": [
    {
     "name": "stdout",
     "output_type": "stream",
     "text": [
      "Премия к 23 февраля для Иванов Иван Иванович: 2000 руб.\n",
      "Премия к 23 февраля для Струков Сергей Сергеевич: 2000 руб.\n",
      "Премия к 23 февраля для Старчиков Сергей Анатольевич: 2000 руб.\n",
      "Премия к 23 февраля для Бутенко Артем Андреевич: 2000 руб.\n"
     ]
    }
   ],
   "source": [
    "# Представим, что сегодня 23 февраля\n",
    "def gender_bonus(employees):\n",
    "    bonus_amount = 2000  # Фиксированная премия\n",
    "    current_date = datetime(year=2024, month=2, day=23)\n",
    "\n",
    "    # Проверка даты \n",
    "    if current_date.month == 3 and current_date.day == 8:\n",
    "        for employee in employees:\n",
    "            # Если имя оканчивается на а, то женщина\n",
    "            if employee[\"ФИО\"].split()[1][-1] == 'а':\n",
    "                print(f\"Премия к 8 марта для {employee['ФИО']}: {bonus_amount} руб.\")\n",
    "    elif current_date.month == 2 and current_date.day == 23:\n",
    "        for employee in employees:\n",
    "            # Если имя не оканчивается на а, то мужчина\n",
    "            if employee[\"ФИО\"].split()[1][-1] != 'а':\n",
    "                print(f\"Премия к 23 февраля для {employee['ФИО']}: {bonus_amount} руб.\")\n",
    "    else:\n",
    "        print(\"Сегодня ни 8 матра, ни 23 февраля\")\n",
    "gender_bonus(employees)"
   ]
  },
  {
   "cell_type": "markdown",
   "metadata": {},
   "source": [
    "3). Было решено провести индексацию зарплат сотрудников. Сотрудникам, которые\n",
    "отработали в компании более 10 лет, индексация будет равна 7% оклада,\n",
    "остальным – 5%."
   ]
  },
  {
   "cell_type": "code",
   "execution_count": 96,
   "metadata": {},
   "outputs": [
    {
     "name": "stdout",
     "output_type": "stream",
     "text": [
      "Новая зарплата для Иванов Иван Иванович после индексации: 267500.00 руб.\n",
      "Новая зарплата для Сорокина Екатерина Матвеевна после индексации: 78750.00 руб.\n",
      "Новая зарплата для Струков Сергей Сергеевич после индексации: 160500.00 руб.\n",
      "Новая зарплата для Корнеева Анна Игоревна после индексации: 126000.00 руб.\n",
      "Новая зарплата для Старчиков Сергей Анатольевич после индексации: 52500.00 руб.\n",
      "Новая зарплата для Бутенко Артем Андреевич после индексации: 214000.00 руб.\n",
      "Новая зарплата для Савченко Алина Сергеевна после индексации: 105000.00 руб.\n"
     ]
    }
   ],
   "source": [
    "def salary_indexation(employees):\n",
    "    current_year = datetime.now().year\n",
    "    for employee in employees:\n",
    "        hire_year = int(employee[\"Дата найма\"].split('.')[-1])\n",
    "        years_worked = current_year - hire_year\n",
    "        salary = employee[\"Оклад\"]\n",
    "        # Индексация на 7% для сотрудников, работающих более 10 лет, и на 5% для остальных\n",
    "        if years_worked > 10:\n",
    "            indexation_rate = 0.07 \n",
    "        else:\n",
    "            indexation_rate = 0.05\n",
    "        new_salary = salary * (1 + indexation_rate)\n",
    "        print(f\"Новая зарплата для {employee['ФИО']} после индексации: {new_salary:.2f} руб.\")\n",
    "salary_indexation(employees)"
   ]
  },
  {
   "cell_type": "markdown",
   "metadata": {},
   "source": [
    "4). Необходимо составить график отпусков сотрудников. Для этого необходимо в\n",
    "отдельный список занести тех сотрудников, которые отработали в компании более\n",
    "6 месяцев. Реализовать функцию."
   ]
  },
  {
   "cell_type": "code",
   "execution_count": 97,
   "metadata": {},
   "outputs": [
    {
     "data": {
      "text/plain": [
       "[{'ФИО': 'Иванов Иван Иванович',\n",
       "  'Должность': 'Менеджер',\n",
       "  'Дата найма': '22.10.2013',\n",
       "  'Оклад': 250000},\n",
       " {'ФИО': 'Сорокина Екатерина Матвеевна',\n",
       "  'Должность': 'Аналитик',\n",
       "  'Дата найма': '12.03.2020',\n",
       "  'Оклад': 75000},\n",
       " {'ФИО': 'Струков Сергей Сергеевич',\n",
       "  'Должность': 'Программист',\n",
       "  'Дата найма': '23.04.2012',\n",
       "  'Оклад': 150000},\n",
       " {'ФИО': 'Корнеева Анна Игоревна',\n",
       "  'Должность': 'Программист',\n",
       "  'Дата найма': '22.02.2015',\n",
       "  'Оклад': 120000},\n",
       " {'ФИО': 'Старчиков Сергей Анатольевич',\n",
       "  'Должность': 'Программист',\n",
       "  'Дата найма': '12.11.2021',\n",
       "  'Оклад': 50000},\n",
       " {'ФИО': 'Бутенко Артем Андреевич',\n",
       "  'Должность': 'Архитектор',\n",
       "  'Дата найма': '12.02.2010',\n",
       "  'Оклад': 200000},\n",
       " {'ФИО': 'Савченко Алина Сергеевна',\n",
       "  'Должность': 'Старший аналитик',\n",
       "  'Дата найма': '13.04.2016',\n",
       "  'Оклад': 100000}]"
      ]
     },
     "execution_count": 97,
     "metadata": {},
     "output_type": "execute_result"
    }
   ],
   "source": [
    "def vacation_schedule(employees):\n",
    "    vacation_list = []\n",
    "    current_date = datetime.now()\n",
    "    for employee in employees:\n",
    "        hire_date = datetime.strptime(employee[\"Дата найма\"], \"%d.%m.%Y\")\n",
    "        \n",
    "        if (current_date - hire_date).days > 180:\n",
    "            vacation_list.append(employee)\n",
    "    return vacation_list\n",
    "vacation_schedule(employees)"
   ]
  },
  {
   "cell_type": "markdown",
   "metadata": {},
   "source": [
    "5). Реализуйте функции записи в csv и json."
   ]
  },
  {
   "cell_type": "code",
   "execution_count": 98,
   "metadata": {},
   "outputs": [],
   "source": [
    "# Функция записи в CSV\n",
    "def save_to_csv(employees, filename='employees.csv'):\n",
    "    with open(filename, 'w') as file_csv:\n",
    "        fieldnames = [\"ФИО\", \"Должность\", \"Дата найма\", \"Оклад\"]\n",
    "        output_writer = csv.DictWriter(file_csv, fieldnames=fieldnames)\n",
    "        output_writer.writeheader()\n",
    "        for employee in employees:\n",
    "            output_writer.writerow(employee)\n",
    "\n",
    "# Функция записи в JSON\n",
    "def save_to_json(employees, filename='employees.json'):\n",
    "    with open(filename, 'w') as file_json:\n",
    "        json.dump(employees, file_json)"
   ]
  }
 ],
 "metadata": {
  "kernelspec": {
   "display_name": "Python 3",
   "language": "python",
   "name": "python3"
  },
  "language_info": {
   "codemirror_mode": {
    "name": "ipython",
    "version": 3
   },
   "file_extension": ".py",
   "mimetype": "text/x-python",
   "name": "python",
   "nbconvert_exporter": "python",
   "pygments_lexer": "ipython3",
   "version": "3.11.4"
  }
 },
 "nbformat": 4,
 "nbformat_minor": 2
}
