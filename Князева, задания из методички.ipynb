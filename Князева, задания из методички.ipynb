{
 "cells": [
  {
   "cell_type": "markdown",
   "metadata": {},
   "source": [
    "Задания из методички"
   ]
  },
  {
   "cell_type": "code",
   "execution_count": 1,
   "metadata": {},
   "outputs": [
    {
     "name": "stdout",
     "output_type": "stream",
     "text": [
      "80\n"
     ]
    }
   ],
   "source": [
    "length = 8\n",
    "width = 10\n",
    "print(length*width)"
   ]
  },
  {
   "cell_type": "code",
   "execution_count": 2,
   "metadata": {},
   "outputs": [
    {
     "name": "stdout",
     "output_type": "stream",
     "text": [
      "200\n"
     ]
    }
   ],
   "source": [
    "length = 20\n",
    "width = 10\n",
    "print(length*width)"
   ]
  },
  {
   "cell_type": "code",
   "execution_count": 3,
   "metadata": {},
   "outputs": [
    {
     "name": "stdout",
     "output_type": "stream",
     "text": [
      "299\n"
     ]
    }
   ],
   "source": [
    "a = 23\n",
    "b = 13\n",
    "S = a*b\n",
    "print(S)"
   ]
  },
  {
   "cell_type": "code",
   "execution_count": 4,
   "metadata": {},
   "outputs": [
    {
     "data": {
      "text/plain": [
       "False"
      ]
     },
     "execution_count": 4,
     "metadata": {},
     "output_type": "execute_result"
    }
   ],
   "source": [
    "(6*6)-1 == 8+1"
   ]
  },
  {
   "cell_type": "code",
   "execution_count": 5,
   "metadata": {},
   "outputs": [
    {
     "data": {
      "text/plain": [
       "True"
      ]
     },
     "execution_count": 5,
     "metadata": {},
     "output_type": "execute_result"
    }
   ],
   "source": [
    "13-7 != (3*2)+1"
   ]
  },
  {
   "cell_type": "code",
   "execution_count": 6,
   "metadata": {},
   "outputs": [
    {
     "data": {
      "text/plain": [
       "True"
      ]
     },
     "execution_count": 6,
     "metadata": {},
     "output_type": "execute_result"
    }
   ],
   "source": [
    "3*(2-1) == 4-1"
   ]
  },
  {
   "cell_type": "code",
   "execution_count": 7,
   "metadata": {},
   "outputs": [
    {
     "data": {
      "text/plain": [
       "True"
      ]
     },
     "execution_count": 7,
     "metadata": {},
     "output_type": "execute_result"
    }
   ],
   "source": [
    "(6*6)-1 >= 8+1"
   ]
  },
  {
   "cell_type": "code",
   "execution_count": 8,
   "metadata": {},
   "outputs": [
    {
     "data": {
      "text/plain": [
       "True"
      ]
     },
     "execution_count": 8,
     "metadata": {},
     "output_type": "execute_result"
    }
   ],
   "source": [
    "13-7 <= (3*2)+1"
   ]
  },
  {
   "cell_type": "code",
   "execution_count": 9,
   "metadata": {},
   "outputs": [
    {
     "data": {
      "text/plain": [
       "False"
      ]
     },
     "execution_count": 9,
     "metadata": {},
     "output_type": "execute_result"
    }
   ],
   "source": [
    "3*(2-1) > 4-1"
   ]
  },
  {
   "cell_type": "code",
   "execution_count": 10,
   "metadata": {},
   "outputs": [
    {
     "ename": "NameError",
     "evalue": "name 'true' is not defined",
     "output_type": "error",
     "traceback": [
      "\u001b[1;31m---------------------------------------------------------------------------\u001b[0m",
      "\u001b[1;31mNameError\u001b[0m                                 Traceback (most recent call last)",
      "Cell \u001b[1;32mIn[10], line 1\u001b[0m\n\u001b[1;32m----> 1\u001b[0m bool_variable \u001b[38;5;241m=\u001b[39m \u001b[43mtrue\u001b[49m\n\u001b[0;32m      2\u001b[0m \u001b[38;5;28mprint\u001b[39m(bool_variable)\n",
      "\u001b[1;31mNameError\u001b[0m: name 'true' is not defined"
     ]
    }
   ],
   "source": [
    "bool_variable = true\n",
    "print(bool_variable)"
   ]
  },
  {
   "cell_type": "code",
   "execution_count": 15,
   "metadata": {},
   "outputs": [
    {
     "name": "stdout",
     "output_type": "stream",
     "text": [
      "true\n"
     ]
    }
   ],
   "source": [
    "bool_variable = 'true'\n",
    "print(bool_variable)"
   ]
  },
  {
   "cell_type": "code",
   "execution_count": 17,
   "metadata": {},
   "outputs": [
    {
     "data": {
      "text/plain": [
       "str"
      ]
     },
     "execution_count": 17,
     "metadata": {},
     "output_type": "execute_result"
    }
   ],
   "source": [
    "type(bool_variable)"
   ]
  },
  {
   "cell_type": "code",
   "execution_count": 18,
   "metadata": {},
   "outputs": [
    {
     "name": "stdout",
     "output_type": "stream",
     "text": [
      "<class 'bool'>\n"
     ]
    }
   ],
   "source": [
    "bool_variable_2 = True\n",
    "print(type(bool_variable_2))"
   ]
  },
  {
   "cell_type": "code",
   "execution_count": 30,
   "metadata": {},
   "outputs": [
    {
     "name": "stdout",
     "output_type": "stream",
     "text": [
      "Добро пожаловать\n"
     ]
    }
   ],
   "source": [
    "#Ангелина\n",
    "user_name = input('Введите ваше имя: ')\n",
    "Dmitriy_check = 'Дмитрий, твое рабочее место находится в другой комнате. Отойди от чужого компьютера и займись работой!'\n",
    "welcome_message = 'Добро пожаловать'\n",
    "if user_name.lower() == 'дмитрий':\n",
    "    print(Dmitriy_check)\n",
    "else:\n",
    "    print(welcome_message)"
   ]
  },
  {
   "cell_type": "code",
   "execution_count": 31,
   "metadata": {},
   "outputs": [
    {
     "name": "stdout",
     "output_type": "stream",
     "text": [
      "Дмитрий, твое рабочее место находится в другой комнате. Отойди от чужого компьютера и займись работой!\n"
     ]
    }
   ],
   "source": [
    "#Дмитрий\n",
    "user_name = input('Введите ваше имя: ')\n",
    "Dmitriy_check = 'Дмитрий, твое рабочее место находится в другой комнате. Отойди от чужого компьютера и займись работой!'\n",
    "welcome_message = 'Добро пожаловать'\n",
    "if user_name.lower() == 'дмитрий':\n",
    "    print(Dmitriy_check)\n",
    "else:\n",
    "    print(welcome_message)"
   ]
  },
  {
   "cell_type": "code",
   "execution_count": 28,
   "metadata": {},
   "outputs": [
    {
     "name": "stdout",
     "output_type": "stream",
     "text": [
      "Попробуйте еще раз. У вас осталось 2 попыток\n"
     ]
    }
   ],
   "source": [
    "enter_number = 0\n",
    "if enter_number < 3:\n",
    "    enter_number+=1\n",
    "    print(\"Попробуйте еще раз. У вас осталось\", 3-enter_number, \"попыток\")\n",
    "    \n",
    "elif enter_number >= 3:\n",
    "    print(\"Вы превысили максимальное число попыток. Ваша учетная запись заблокирована.Для разблокировки обратитесь в службу поддержки».\")"
   ]
  },
  {
   "cell_type": "code",
   "execution_count": 29,
   "metadata": {},
   "outputs": [
    {
     "name": "stdout",
     "output_type": "stream",
     "text": [
      "Попробуйте еще раз. У вас осталось 3 попыток.\n",
      "Попробуйте еще раз. У вас осталось 2 попыток.\n",
      "Попробуйте еще раз. У вас осталось 1 попыток.\n",
      "Вы превысили максимальное число попыток. Ваша учетная запись заблокирована. Для разблокировки обратитесь в службу поддержки.\n"
     ]
    }
   ],
   "source": [
    "enter_number = 0\n",
    "\n",
    "while True:\n",
    "    if enter_number < 3:\n",
    "        print(\"Попробуйте еще раз. У вас осталось\", 3 - enter_number, \"попыток.\")\n",
    "        enter_number += 1\n",
    "    elif enter_number >= 3:\n",
    "        print(\"Вы превысили максимальное число попыток. Ваша учетная запись заблокирована. Для разблокировки обратитесь в службу поддержки.\")\n",
    "        break"
   ]
  },
  {
   "cell_type": "code",
   "execution_count": 30,
   "metadata": {},
   "outputs": [
    {
     "data": {
      "text/plain": [
       "True"
      ]
     },
     "execution_count": 30,
     "metadata": {},
     "output_type": "execute_result"
    }
   ],
   "source": [
    "(2-1 > 3) or (-5*2 == -10)"
   ]
  },
  {
   "cell_type": "code",
   "execution_count": 31,
   "metadata": {},
   "outputs": [
    {
     "data": {
      "text/plain": [
       "True"
      ]
     },
     "execution_count": 31,
     "metadata": {},
     "output_type": "execute_result"
    }
   ],
   "source": [
    "(9+5 <= 15) or (7 != 4+3)"
   ]
  },
  {
   "cell_type": "code",
   "execution_count": 32,
   "metadata": {},
   "outputs": [
    {
     "name": "stdout",
     "output_type": "stream",
     "text": [
      "Попробуйте еще раз. У вас осталось 2 попыток\n"
     ]
    }
   ],
   "source": [
    "enter_number = 0\n",
    "if enter_number < 3:\n",
    "    enter_number+=1\n",
    "    print(\"Попробуйте еще раз. У вас осталось\", 3-enter_number, \"попыток\")\n",
    "    \n",
    "else:\n",
    "    print(\"Вы превысили максимальное число попыток. Ваша учетная запись заблокирована.Для разблокировки обратитесь в службу поддержки».\")"
   ]
  },
  {
   "cell_type": "code",
   "execution_count": 39,
   "metadata": {},
   "outputs": [
    {
     "name": "stdout",
     "output_type": "stream",
     "text": [
      "деление на 0 не допустимо\n"
     ]
    }
   ],
   "source": [
    "a = int(input())\n",
    "b = int(input())\n",
    "try:\n",
    "    result = a/b\n",
    "    print(result)\n",
    "except ZeroDivisionError:\n",
    "    print(\"деление на 0 не допустимо\")"
   ]
  },
  {
   "cell_type": "code",
   "execution_count": 37,
   "metadata": {},
   "outputs": [
    {
     "name": "stdout",
     "output_type": "stream",
     "text": [
      "B\n"
     ]
    }
   ],
   "source": [
    "grade = int(input())\n",
    "match grade:\n",
    "    case 4.0:\n",
    "        print(\"A\")\n",
    "    case 3.0:\n",
    "        print(\"B\")\n",
    "    case 2.0:\n",
    "        print(\"C\")\n",
    "    case 1.0:\n",
    "        print(\"D\")\n",
    "    case 0.0:\n",
    "        print(\"F\")"
   ]
  },
  {
   "cell_type": "code",
   "execution_count": 40,
   "metadata": {},
   "outputs": [],
   "source": [
    "def create_spreadsheet(title):\n",
    "    print(\"Создание электронной таблицы с именем\", title)"
   ]
  },
  {
   "cell_type": "code",
   "execution_count": 43,
   "metadata": {},
   "outputs": [
    {
     "name": "stdout",
     "output_type": "stream",
     "text": [
      "Создание электронной таблицы с именем Загрузки\n"
     ]
    }
   ],
   "source": [
    "create_spreadsheet(\"Загрузки\")"
   ]
  },
  {
   "cell_type": "code",
   "execution_count": 42,
   "metadata": {},
   "outputs": [],
   "source": [
    "def create_spreadsheet(title, row_count=1000):\n",
    "    print(\"Создание электронной таблицы с именем\", title)"
   ]
  },
  {
   "cell_type": "code",
   "execution_count": 47,
   "metadata": {},
   "outputs": [],
   "source": [
    "def create_spreadsheet(title, row_count=1000):\n",
    "    print(\"Создание электронной таблицы с названием\", title, \"with\", row_count, \"lines\")"
   ]
  },
  {
   "cell_type": "code",
   "execution_count": 48,
   "metadata": {},
   "outputs": [
    {
     "name": "stdout",
     "output_type": "stream",
     "text": [
      "Создание электронной таблицы с названием Загрузки with 1000 lines\n"
     ]
    }
   ],
   "source": [
    "create_spreadsheet(\"Загрузки\")"
   ]
  },
  {
   "cell_type": "code",
   "execution_count": 49,
   "metadata": {},
   "outputs": [],
   "source": [
    "def create_spreadsheet(title, row_count):\n",
    "    print(\"Создание электронной таблицы с названием\", title, \"with\", row_count, \"lines\")"
   ]
  },
  {
   "cell_type": "code",
   "execution_count": 50,
   "metadata": {},
   "outputs": [
    {
     "name": "stdout",
     "output_type": "stream",
     "text": [
      "Создание электронной таблицы с названием Приложения with 10 lines\n"
     ]
    }
   ],
   "source": [
    "create_spreadsheet(\"Приложения\", 10)"
   ]
  },
  {
   "cell_type": "code",
   "execution_count": 51,
   "metadata": {},
   "outputs": [],
   "source": [
    "def calc_age(current_year, birth_year):\n",
    "    age = current_year - birth_year\n",
    "    print(age)"
   ]
  },
  {
   "cell_type": "code",
   "execution_count": 53,
   "metadata": {},
   "outputs": [
    {
     "name": "stdout",
     "output_type": "stream",
     "text": [
      "56\n"
     ]
    }
   ],
   "source": [
    "my_age = calc_age(2049, 1993)"
   ]
  },
  {
   "cell_type": "code",
   "execution_count": 54,
   "metadata": {},
   "outputs": [
    {
     "name": "stdout",
     "output_type": "stream",
     "text": [
      "96\n"
     ]
    }
   ],
   "source": [
    "dads_age = calc_age(2049, 1953)"
   ]
  },
  {
   "cell_type": "code",
   "execution_count": 61,
   "metadata": {},
   "outputs": [
    {
     "name": "stdout",
     "output_type": "stream",
     "text": [
      "Мне 56 лет, а моему отцу 96 лет\n"
     ]
    }
   ],
   "source": [
    "print(\"Мне\", my_age, \"лет, а моему отцу\", dads_age, \"лет\")"
   ]
  },
  {
   "cell_type": "code",
   "execution_count": 62,
   "metadata": {},
   "outputs": [],
   "source": [
    "def get_boundaries(target, margin):\n",
    "    low_limit = target-margin\n",
    "    high_limit = margin+target\n",
    "    return low_limit, high_limit"
   ]
  },
  {
   "cell_type": "code",
   "execution_count": 64,
   "metadata": {},
   "outputs": [
    {
     "name": "stdout",
     "output_type": "stream",
     "text": [
      "80\n",
      "120\n"
     ]
    }
   ],
   "source": [
    "low_limit, high_limit = get_boundaries(100, 20)\n",
    "print(low_limit)\n",
    "print(high_limit)"
   ]
  },
  {
   "cell_type": "code",
   "execution_count": 65,
   "metadata": {},
   "outputs": [
    {
     "name": "stdout",
     "output_type": "stream",
     "text": [
      "Нижний предел:  80 , верхний предел:  120\n"
     ]
    }
   ],
   "source": [
    "print(\"Нижний предел: \", low_limit, \", верхний предел: \", high_limit)"
   ]
  },
  {
   "cell_type": "code",
   "execution_count": 66,
   "metadata": {},
   "outputs": [],
   "source": [
    "def repeat_stuff(stuff, num_repeats = 10):\n",
    "    returnstatement = stuff*num_repeats\n",
    "    print()"
   ]
  },
  {
   "cell_type": "code",
   "execution_count": 68,
   "metadata": {},
   "outputs": [
    {
     "name": "stdout",
     "output_type": "stream",
     "text": [
      "\n"
     ]
    }
   ],
   "source": [
    "repeat_stuff(\"Row\", 3)"
   ]
  },
  {
   "cell_type": "code",
   "execution_count": 69,
   "metadata": {},
   "outputs": [
    {
     "name": "stdout",
     "output_type": "stream",
     "text": [
      "RowRowRowRowRowRowRowRowRowRow\n"
     ]
    }
   ],
   "source": [
    "def repeat_stuff(stuff, num_repeats=10):\n",
    "    return stuff * num_repeats\n",
    "\n",
    "result = repeat_stuff(\"Row\", 3)\n",
    "lyrics = result + \" Your Boat.\"\n",
    "song = repeat_stuff(\"Row\")\n",
    "print(song)"
   ]
  },
  {
   "cell_type": "code",
   "execution_count": 71,
   "metadata": {},
   "outputs": [],
   "source": [
    "shopping_list = ['торт', 1]"
   ]
  },
  {
   "cell_type": "code",
   "execution_count": 72,
   "metadata": {},
   "outputs": [
    {
     "data": {
      "text/plain": [
       "['торт', 1]"
      ]
     },
     "execution_count": 72,
     "metadata": {},
     "output_type": "execute_result"
    }
   ],
   "source": [
    "shopping_list"
   ]
  },
  {
   "cell_type": "code",
   "execution_count": 73,
   "metadata": {},
   "outputs": [],
   "source": [
    "household_chemicals = [['стиральный порошок', 1], ['средство для мытья посуды', 1]]"
   ]
  },
  {
   "cell_type": "code",
   "execution_count": 75,
   "metadata": {},
   "outputs": [],
   "source": [
    "names = ['Ben', 'Holly', 'Ann']\n",
    "dogs_names = ['Sharik', 'Gab', 'Beethoven']"
   ]
  },
  {
   "cell_type": "code",
   "execution_count": 82,
   "metadata": {},
   "outputs": [
    {
     "name": "stdout",
     "output_type": "stream",
     "text": [
      "[('Ben', 'Sharik'), ('Holly', 'Gab'), ('Ann', 'Beethoven')]\n"
     ]
    }
   ],
   "source": [
    "names_and_dogs_names = zip(names, dogs_names)\n",
    "print(list(names_and_dogs_names))"
   ]
  },
  {
   "cell_type": "code",
   "execution_count": 83,
   "metadata": {},
   "outputs": [
    {
     "name": "stdout",
     "output_type": "stream",
     "text": [
      "[]\n"
     ]
    }
   ],
   "source": [
    "list_of_names_and_dogs_names = list(names_and_dogs_names)\n",
    "print(list_of_names_and_dogs_names)"
   ]
  },
  {
   "cell_type": "code",
   "execution_count": 94,
   "metadata": {},
   "outputs": [
    {
     "data": {
      "text/plain": [
       "['маргаритки', 'васильки']"
      ]
     },
     "execution_count": 94,
     "metadata": {},
     "output_type": "execute_result"
    }
   ],
   "source": [
    "orders = ['маргаритки', 'васильки']\n",
    "orders"
   ]
  },
  {
   "cell_type": "code",
   "execution_count": 95,
   "metadata": {},
   "outputs": [],
   "source": [
    "orders.append(\"тюльпаны\")\n",
    "orders.append(\"розы\")"
   ]
  },
  {
   "cell_type": "code",
   "execution_count": 97,
   "metadata": {},
   "outputs": [
    {
     "data": {
      "text/plain": [
       "['маргаритки', 'васильки', 'тюльпаны', 'розы']"
      ]
     },
     "execution_count": 97,
     "metadata": {},
     "output_type": "execute_result"
    }
   ],
   "source": [
    "orders"
   ]
  },
  {
   "cell_type": "code",
   "execution_count": 98,
   "metadata": {},
   "outputs": [
    {
     "data": {
      "text/plain": [
       "['маргаритки', 'васильки', 'тюльпаны', 'розы', 'сирень', 'ирис']"
      ]
     },
     "execution_count": 98,
     "metadata": {},
     "output_type": "execute_result"
    }
   ],
   "source": [
    "new_orders = orders + [\"сирень\", \"ирис\"]\n",
    "new_orders"
   ]
  },
  {
   "cell_type": "code",
   "execution_count": 1,
   "metadata": {},
   "outputs": [],
   "source": [
    "first_names = [\"Анна\", \"Борис\", \"Александр\", \"Денис\"]"
   ]
  },
  {
   "cell_type": "code",
   "execution_count": 2,
   "metadata": {},
   "outputs": [],
   "source": [
    "age = []"
   ]
  },
  {
   "cell_type": "code",
   "execution_count": 3,
   "metadata": {},
   "outputs": [
    {
     "data": {
      "text/plain": [
       "[42]"
      ]
     },
     "execution_count": 3,
     "metadata": {},
     "output_type": "execute_result"
    }
   ],
   "source": [
    "age.append(42)\n",
    "age"
   ]
  },
  {
   "cell_type": "code",
   "execution_count": 4,
   "metadata": {},
   "outputs": [
    {
     "data": {
      "text/plain": [
       "[32, 41, 29, [42]]"
      ]
     },
     "execution_count": 4,
     "metadata": {},
     "output_type": "execute_result"
    }
   ],
   "source": [
    "all_ages = [32, 41, 29]\n",
    "all_ages.append(age)\n",
    "all_ages"
   ]
  },
  {
   "cell_type": "code",
   "execution_count": 7,
   "metadata": {},
   "outputs": [
    {
     "name": "stdout",
     "output_type": "stream",
     "text": [
      "[('Анна', 32), ('Борис', 41), ('Александр', 29), ('Денис', [42])]\n"
     ]
    }
   ],
   "source": [
    "name_and_age = zip(first_names, all_ages)\n",
    "print(list(name_and_age))"
   ]
  },
  {
   "cell_type": "code",
   "execution_count": 11,
   "metadata": {},
   "outputs": [
    {
     "name": "stdout",
     "output_type": "stream",
     "text": [
      "[0, 1, 2, 3]\n"
     ]
    }
   ],
   "source": [
    "ids = list(range(0,4))\n",
    "print(ids)"
   ]
  },
  {
   "cell_type": "code",
   "execution_count": 14,
   "metadata": {},
   "outputs": [],
   "source": [
    "votes = ['Jake', 'Jake', 'Laurie', 'Laurie', 'Laurie', 'Jake', 'Jake', 'Jake', 'Laurie', 'Cassie', 'Cassie',\n",
    "'Jake', 'Jake', 'Cassie', 'Laurie', 'Cassie', 'Jake', 'Jake', 'Cassie', 'Laurie']"
   ]
  },
  {
   "cell_type": "code",
   "execution_count": 16,
   "metadata": {},
   "outputs": [
    {
     "data": {
      "text/plain": [
       "9"
      ]
     },
     "execution_count": 16,
     "metadata": {},
     "output_type": "execute_result"
    }
   ],
   "source": [
    "num_i = votes.count('Jake')\n",
    "num_i"
   ]
  },
  {
   "cell_type": "code",
   "execution_count": 2,
   "metadata": {},
   "outputs": [
    {
     "data": {
      "text/plain": [
       "['10 Downing St.',\n",
       " '12 Grimmauld Place',\n",
       " '1600 Pennsylvania Ave',\n",
       " '221 B Baker St.',\n",
       " '42 Wallaby Way',\n",
       " '742 Evergreen Terrace']"
      ]
     },
     "execution_count": 2,
     "metadata": {},
     "output_type": "execute_result"
    }
   ],
   "source": [
    "addresses = ['221 B Baker St.', '42 Wallaby Way', '12 Grimmauld Place', '742 Evergreen Terrace'\n",
    ", '1600 Pennsylvania Ave', '10 Downing St.']\n",
    "addresses.sort()\n",
    "addresses"
   ]
  },
  {
   "cell_type": "code",
   "execution_count": 6,
   "metadata": {},
   "outputs": [],
   "source": [
    "inventory = ['двухспальная кровать', 'двухспальная кровать', 'изголовье', 'двуспальная кровать', 'двуспальная кровать', \n",
    "'комод', 'комод', 'стол', 'стол', 'тумбочка',\n",
    "'тумбочка', 'королевский кровать', 'двуспальная кровать', 'две односпальные кровати',\n",
    "'две односпальные кровати', 'простыни', 'простыни', 'подушка', 'подушка']"
   ]
  },
  {
   "cell_type": "code",
   "execution_count": 8,
   "metadata": {},
   "outputs": [
    {
     "name": "stdout",
     "output_type": "stream",
     "text": [
      "19\n"
     ]
    }
   ],
   "source": [
    "print(len(inventory))"
   ]
  },
  {
   "cell_type": "code",
   "execution_count": 11,
   "metadata": {},
   "outputs": [
    {
     "data": {
      "text/plain": [
       "['паста', 'пицца', 'салат капрезе', 'салат цезарь', 'кофе', 'сухое вино']"
      ]
     },
     "execution_count": 11,
     "metadata": {},
     "output_type": "execute_result"
    }
   ],
   "source": [
    "order = [\"паста\", \"пицца\", \"салат капрезе\"]\n",
    "order.extend([\"салат цезарь\"])\n",
    "order.extend([\"кофе\"])\n",
    "order.extend([\"сухое вино\"])\n",
    "order"
   ]
  },
  {
   "cell_type": "code",
   "execution_count": 18,
   "metadata": {},
   "outputs": [
    {
     "data": {
      "text/plain": [
       "['паста', 'салат цезарь', 'кофе', 'сухое вино']"
      ]
     },
     "execution_count": 18,
     "metadata": {},
     "output_type": "execute_result"
    }
   ],
   "source": [
    "del order[1:3]\n",
    "order"
   ]
  },
  {
   "cell_type": "code",
   "execution_count": 21,
   "metadata": {},
   "outputs": [
    {
     "data": {
      "text/plain": [
       "['паста', 'салат цезарь', 'кофе', 'сухое вино']"
      ]
     },
     "execution_count": 21,
     "metadata": {},
     "output_type": "execute_result"
    }
   ],
   "source": [
    "order.reverse()\n",
    "order"
   ]
  },
  {
   "cell_type": "code",
   "execution_count": 22,
   "metadata": {},
   "outputs": [
    {
     "data": {
      "text/plain": [
       "['паста', 'салат цезарь', 'кофе', 'сухое вино']"
      ]
     },
     "execution_count": 22,
     "metadata": {},
     "output_type": "execute_result"
    }
   ],
   "source": [
    "order_1 = order.copy()\n",
    "order_1"
   ]
  },
  {
   "cell_type": "code",
   "execution_count": 13,
   "metadata": {},
   "outputs": [
    {
     "data": {
      "text/plain": [
       "['закуска', 'паста', 'пицца', 'салат капрезе']"
      ]
     },
     "execution_count": 13,
     "metadata": {},
     "output_type": "execute_result"
    }
   ],
   "source": [
    "orders = [\"паста\", \"пицца\", \"салат капрезе\"]\n",
    "orders.insert(0, \"закуска\")\n",
    "orders"
   ]
  },
  {
   "cell_type": "code",
   "execution_count": 15,
   "metadata": {},
   "outputs": [
    {
     "data": {
      "text/plain": [
       "['закуска', 'пицца']"
      ]
     },
     "execution_count": 15,
     "metadata": {},
     "output_type": "execute_result"
    }
   ],
   "source": [
    "orders.remove(\"салат капрезе\")\n",
    "orders"
   ]
  },
  {
   "cell_type": "code",
   "execution_count": 16,
   "metadata": {},
   "outputs": [
    {
     "data": {
      "text/plain": [
       "['закуска']"
      ]
     },
     "execution_count": 16,
     "metadata": {},
     "output_type": "execute_result"
    }
   ],
   "source": [
    "orders.pop(-1)\n",
    "orders"
   ]
  },
  {
   "cell_type": "code",
   "execution_count": 17,
   "metadata": {},
   "outputs": [
    {
     "data": {
      "text/plain": [
       "[]"
      ]
     },
     "execution_count": 17,
     "metadata": {},
     "output_type": "execute_result"
    }
   ],
   "source": [
    "orders.clear()\n",
    "orders"
   ]
  },
  {
   "cell_type": "code",
   "execution_count": 23,
   "metadata": {},
   "outputs": [
    {
     "name": "stdout",
     "output_type": "stream",
     "text": [
      "0\n",
      "1\n",
      "2\n",
      "3\n",
      "4\n",
      "5\n",
      "6\n",
      "7\n",
      "8\n",
      "9\n",
      "[0, 1, 4, 9, 16, 25, 36, 49, 64, 81]\n",
      "[0, 1, 8, 27, 64, 125, 216, 343, 512, 729]\n"
     ]
    }
   ],
   "source": [
    "single_digits = list(range(10))\n",
    "\n",
    "for digit in single_digits:\n",
    "    print(digit)\n",
    "\n",
    "squares = []\n",
    "\n",
    "for digit in single_digits:\n",
    "    squares.append(digit ** 2)\n",
    "\n",
    "print(squares)\n",
    "\n",
    "cubes = [digit ** 3 for digit in single_digits]\n",
    "\n",
    "print(cubes)\n"
   ]
  },
  {
   "cell_type": "code",
   "execution_count": 25,
   "metadata": {},
   "outputs": [
    {
     "data": {
      "text/plain": [
       "True"
      ]
     },
     "execution_count": 25,
     "metadata": {},
     "output_type": "execute_result"
    }
   ],
   "source": [
    "word = input()\n",
    "letter = input()\n",
    "def letter_check(word, letter):\n",
    "    if letter in word:\n",
    "        return True\n",
    "    else:\n",
    "        return False\n",
    "\n",
    "letter_check(word, letter)"
   ]
  },
  {
   "cell_type": "code",
   "execution_count": 27,
   "metadata": {},
   "outputs": [
    {
     "data": {
      "text/plain": [
       "{'living room': 21, 'kitchen': 23, 'bedroom': 20, 'pantry': 22}"
      ]
     },
     "execution_count": 27,
     "metadata": {},
     "output_type": "execute_result"
    }
   ],
   "source": [
    "sensors = {\"living room\": 21, \"kitchen\": 23, \"bedroom\": 20}\n",
    "sensors = {\"living room\": 21, \"kitchen\": 23, \"bedroom\": 20, \"pantry\": 22}\n",
    "sensors"
   ]
  },
  {
   "cell_type": "code",
   "execution_count": 28,
   "metadata": {},
   "outputs": [
    {
     "data": {
      "text/plain": [
       "{'living room': 21, 'kitchen': 23, 'bedroom': 20, 'pantry': 22, 'bathroom': 26}"
      ]
     },
     "execution_count": 28,
     "metadata": {},
     "output_type": "execute_result"
    }
   ],
   "source": [
    "sensors[\"bathroom\"] = 26\n",
    "sensors"
   ]
  },
  {
   "cell_type": "code",
   "execution_count": 30,
   "metadata": {},
   "outputs": [
    {
     "data": {
      "text/plain": [
       "{'living room': 21,\n",
       " 'kitchen': 23,\n",
       " 'bedroom': 20,\n",
       " 'pantry': 22,\n",
       " 'bathroom': 26,\n",
       " 'guest room': 25,\n",
       " 'patio': 34}"
      ]
     },
     "execution_count": 30,
     "metadata": {},
     "output_type": "execute_result"
    }
   ],
   "source": [
    "sensors.update({\"guest room\": 25, \"patio\": 34})\n",
    "sensors"
   ]
  },
  {
   "cell_type": "code",
   "execution_count": 36,
   "metadata": {},
   "outputs": [
    {
     "data": {
      "text/plain": [
       "['Aries', 'Leo', 'Sagittarius']"
      ]
     },
     "execution_count": 36,
     "metadata": {},
     "output_type": "execute_result"
    }
   ],
   "source": [
    "zodiac_elements = {\"water\": [\"Cancer\", \"Scorpio\", \"Pisces\"], \"fire\": [\"Aries\", \"Leo\", \"Sagittarius\"], \"earth\": [\"Taurus\", \"Virgo\", \"Capricorn\"], \"air\":[\"Gemini\", \"Libra\", \"Aquarius\"]}\n",
    "zodiac_elements[\"fire\"]"
   ]
  },
  {
   "cell_type": "code",
   "execution_count": 37,
   "metadata": {},
   "outputs": [
    {
     "name": "stdout",
     "output_type": "stream",
     "text": [
      "30\n"
     ]
    }
   ],
   "source": [
    "caffeine_level = {\"espresso\": 64, \"chai\": 40, \"decaf\": 0, \"drip\": 120, \"matcha\": 30}\n",
    "try:\n",
    "    print(caffeine_level['matcha'])\n",
    "except KeyError:\n",
    "    print(\"Неизвестный уровень кофеина\")\n"
   ]
  },
  {
   "cell_type": "code",
   "execution_count": 13,
   "metadata": {},
   "outputs": [
    {
     "name": "stdout",
     "output_type": "stream",
     "text": [
      "100019\n",
      "100000\n"
     ]
    }
   ],
   "source": [
    "user_ids = {\"teraCoder\": 100019, \"pythonGuy\": 182921, \"samTheJavaMaam\": 123112, \"lyleLoop\": 102931, \"keysmithKeith\": 129384}\n",
    "\n",
    "tc_id = user_ids.get('teraCoder', 100000)\n",
    "print(tc_id)\n",
    "stack_id = user_ids.get('superStackSmash', 100000)\n",
    "print(stack_id)"
   ]
  },
  {
   "cell_type": "code",
   "execution_count": 14,
   "metadata": {},
   "outputs": [],
   "source": [
    "tarot = { 1: \"The Magician\", 2: \"The High Priestess\", 3: \"The Empress\", 4: \"The Emperor\",\n",
    "5: \"The Hierophant\", 6: \"The Lovers\", 7: \"The Chariot\", 8: \"Strength\", 9: \"The Hermit\", 10:\n",
    "\"Wheel of Fortune\", 11: \"Justice\", 12: \"The Hanged Man\", 13: \"Death\", 14: \"Temperance\",\n",
    "15: \"The Devil\", 16: \"The Tower\", 17: \"The Star\", 18: \"The Moon\", 19: \"The Sun\", 20: \"Judgement\", 21: \"The World\", 22: \"The Fool\"}"
   ]
  },
  {
   "cell_type": "code",
   "execution_count": 17,
   "metadata": {},
   "outputs": [
    {
     "name": "stdout",
     "output_type": "stream",
     "text": [
      "{'прошлое': 'Death', 'настоящее': 'The Fool', 'будущее': 'Wheel of Fortune'}\n"
     ]
    }
   ],
   "source": [
    "spread = {}\n",
    "spread['прошлое'] = tarot[13]\n",
    "spread['настоящее'] = tarot[22]\n",
    "spread['будущее'] = tarot[10]\n",
    "print(spread)"
   ]
  }
 ],
 "metadata": {
  "kernelspec": {
   "display_name": "Python 3",
   "language": "python",
   "name": "python3"
  },
  "language_info": {
   "codemirror_mode": {
    "name": "ipython",
    "version": 3
   },
   "file_extension": ".py",
   "mimetype": "text/x-python",
   "name": "python",
   "nbconvert_exporter": "python",
   "pygments_lexer": "ipython3",
   "version": "3.11.4"
  }
 },
 "nbformat": 4,
 "nbformat_minor": 2
}
