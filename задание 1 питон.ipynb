{
 "cells": [
  {
   "cell_type": "code",
   "execution_count": 9,
   "metadata": {},
   "outputs": [],
   "source": [
    "import string\n",
    "from operator import itemgetter\n",
    "\n",
    "def analyze_text(text):\n",
    "    # нижнемей регистр и удаление знаков препинания\n",
    "    text = text.lower().translate(str.maketrans('', '', string.punctuation))\n",
    "    words = text.split() # разбиение на слова\n",
    "    word_count = {} # подсчет частоты\n",
    "    for i in words:\n",
    "        if i in word_count:\n",
    "            word_count[i] += 1\n",
    "        else:\n",
    "            word_count[i] = 1\n",
    "    sorted_alphabetically = sorted(word_count.items()) # сортировка сначала по алфавиту\n",
    "    sorted_words = sorted(word_count.items(), key=itemgetter(1), reverse=True) # сортировка по частоте в порядке убывания \n",
    "    for i, count in sorted_words:\n",
    "        print(f'{i}: {count}')\n",
    "\n",
    "user_input = input(\"Введите текст: \")\n",
    "analyze_text(user_input)"
   ]
  }
 ],
 "metadata": {
  "kernelspec": {
   "display_name": "Python 3",
   "language": "python",
   "name": "python3"
  },
  "language_info": {
   "codemirror_mode": {
    "name": "ipython",
    "version": 3
   },
   "file_extension": ".py",
   "mimetype": "text/x-python",
   "name": "python",
   "nbconvert_exporter": "python",
   "pygments_lexer": "ipython3",
   "version": "3.11.4"
  }
 },
 "nbformat": 4,
 "nbformat_minor": 2
}
