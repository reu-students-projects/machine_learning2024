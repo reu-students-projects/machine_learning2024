{
 "cells": [
  {
   "cell_type": "markdown",
   "id": "1054920a",
   "metadata": {},
   "source": [
    "<div class=\"alert alert-info\"> \n",
    "Задача 1.\n",
    "    \n",
    "Создайте программу, которая принимает текст от пользователя и анализирует частоту появления каждого слова в этом тексте. Программа должна выводить слова и их количество в порядке убывания частоты.\n",
    "    \n",
    "- Программа должна разбивать текст на слова. Убедитесь, что слова очищены от знаков\n",
    "препинания и приведены к нижнему регистру.\n",
    "- Используйте словарь для хранения слов и их частоты. Ключом будет слово, а значением\n",
    "— количество его появлений.\n",
    "- Выведите слова и их частоту в порядке убывания частоты. Если несколько слов имеют\n",
    "одинаковую частоту, выведите их в алфавитном порядке.\n",
    "    </div>"
   ]
  },
  {
   "cell_type": "code",
   "execution_count": 1,
   "id": "2710b352",
   "metadata": {},
   "outputs": [
    {
     "name": "stdout",
     "output_type": "stream",
     "text": [
      "Слово\t\tКоличество\n",
      "-------------------------\n",
      "не              6\n",
      "зря             5\n",
      "и               4\n",
      "кря             4\n",
      "бегемот         2\n",
      "быть            2\n",
      "в               2\n",
      "дальний         2\n",
      "похожими        2\n",
      "пуститься       2\n",
      "путь            2\n",
      "утят            2\n",
      "хороша          2\n",
      "хотят           2\n",
      "даже            1\n",
      "душа            1\n",
      "крича           1\n",
      "кряхтит         1\n",
      "можно           1\n",
      "на              1\n",
      "нет             1\n",
      "неуклюжий       1\n",
      "от              1\n",
      "отряхнуть       1\n",
      "отстает         1\n",
      "погода          1\n",
      "поет            1\n",
      "природа         1\n",
      "толстый         1\n",
      "хвостик         1\n",
      "шагающих        1\n"
     ]
    }
   ],
   "source": [
    "text = 'На шагающих утят быть похожими хотят, Быть похожими хотят не зря, не зря. Можно хвостик отряхнуть и \\\n",
    "пуститься в дальний путь И пуститься в дальний путь, крича \"кря- кря\". И природа хороша, и погода хороша, Нет, \\\n",
    "не зря поет душа, не зря, не зря. Даже толстый бегемот, неуклюжий бегемот От утят не отстает, кряхтит \"кря- кря\"'\n",
    "text = text.lower()\n",
    "\n",
    "def replace_symbols(string=text, symbols_list=[',','\"','.','!',':','-'], replace_to='')->str:\n",
    "    for symbol in symbols_list:\n",
    "        string=string.replace(symbol,replace_to)\n",
    "    return string\n",
    "\n",
    "text = replace_symbols(text)\n",
    "text = text.split(' ')\n",
    "unique_list = list(set(text))\n",
    "\n",
    "result = {}\n",
    "for word in unique_list:\n",
    "    result[word] = text.count(word)\n",
    "    res_it = result.items()\n",
    "    items = sorted(res_it, key = lambda x:(-x[1], x[0]))\n",
    "    \n",
    "print(\"Слово\\t\\tКоличество\")\n",
    "print(\"-------------------------\")\n",
    "for word, count in items:\n",
    "    print(f\"{word:<15} {count}\")"
   ]
  },
  {
   "cell_type": "markdown",
   "id": "9993a1b9",
   "metadata": {},
   "source": [
    "<div class=\"alert alert-info\"> \n",
    "Задача 2.\n",
    "    \n",
    "Компания реализует оказание услуг в области ногтевого сервиса. Вас просят, как\n",
    "аналитика данных, рассчитать некоторую статистику по одной неделе.\n",
    "\n",
    "Имеются 3 списка, сгенерированных в результате работы в эту неделю:\n",
    "\n",
    "-Первый список характеризует виды маникюра, которые делает данный салон:\n",
    "Nail_style=[“Шеллак”, “Френч”, “Обычный лак”, “Гель-лак”, “Акрил”]\n",
    "\n",
    "-Второй список характеризует цены на эти услуги:\n",
    "Price = [2000, 1500, 1000, 3000, 3500, 3200]\n",
    "\n",
    "-Третий список показывает, сколько раз за неделю заказывали тот или иной вид\n",
    "маникюра соответственно\n",
    "Week = [4, 5, 4, 8, 6]\n",
    "\n",
    "\n",
    "Хозяйка салона просит вас написать приложение, которое выводит в консоль:\n",
    "Среднее значение посещений салона\n",
    "Общее количество посещений салона\n",
    "+Выручку салона\n",
    "+Выручку по видам маникюра\n",
    "+Среднюю выручку в день по видам маникюра"
   ]
  },
  {
   "cell_type": "code",
   "execution_count": 2,
   "id": "5bfd0df6",
   "metadata": {},
   "outputs": [
    {
     "name": "stdout",
     "output_type": "stream",
     "text": [
      "Среднее значение посещений салона: 5.4\n",
      "Общее количество посещений салона: 27\n",
      "Общая вручка салона : 64500\n",
      "Шеллак : выручка за неделю: 8000 / cредняя выручка за день: 1600.0\n",
      "Френч : выручка за неделю: 7500 / cредняя выручка за день: 1500.0\n",
      "Обычный лак : выручка за неделю: 4000 / cредняя выручка за день: 800.0\n",
      "Гель-лак : выручка за неделю: 24000 / cредняя выручка за день: 4800.0\n",
      "Акрил : выручка за неделю: 21000 / cредняя выручка за день: 4200.0\n"
     ]
    }
   ],
   "source": [
    "manic_type = ['Шеллак', 'Френч', 'Обычный лак', 'Гель-лак', 'Акрил']\n",
    "price = [2000, 1500, 1000, 3000, 3500]\n",
    "week = [4, 5, 4, 8, 6] \n",
    "\n",
    "visits_all = sum(week) #общ кол-во посещений\n",
    "visits_avg = visits_all/len(week) #ср кол-во посещений\n",
    "\n",
    "i = 0\n",
    "revenue = 0\n",
    "for i in range(len(week)):\n",
    "    price_week = price[i] * week[i]\n",
    "    revenue += price_week\n",
    "    i += 1 #общ выручка\n",
    "    \n",
    "print(\"Среднее значение посещений салона:\",visits_avg)\n",
    "print(\"Общее количество посещений салона:\", visits_all)\n",
    "print(\"Общая вручка салона :\", revenue)\n",
    "\n",
    "n = 0\n",
    "for n in range(len(week)):\n",
    "    print(manic_type[n], \": выручка за неделю:\", price[n] * week[n], \"/\", \n",
    "          \"cредняя выручка за день:\", (price[n] * week[n])/len(week))\n",
    "    n += 1"
   ]
  },
  {
   "cell_type": "markdown",
   "id": "ef72689c",
   "metadata": {},
   "source": [
    "<div class=\"alert alert-info\"> \n",
    "Задача 3. \n",
    "    \n",
    "1. Начальство решило выплачивать премии ко дню программиста в сентябре (13\n",
    "сентября – день программиста). Премия будет составлять 3% от оклада каждому\n",
    "программисту. Реализуйте функцию, которая будет рассчитывать премию.\n",
    "    \n",
    "2. Начальство решило выплачивать премии к 8 марта всем сотрудницам, а к 23\n",
    "февраля сотрудникам, равные 2000 Реализуйте функцию, которая будет\n",
    "рассчитывать премию.\n",
    "    \n",
    "3. Было решено провести индексацию зарплат сотрудников. Сотрудникам, которые\n",
    "отработали в компании более 10 лет, индексация будет равна 7% оклада,\n",
    "остальным – 5%.\n",
    "    \n",
    "4. Необходимо составить график отпусков сотрудников. Для этого необходимо в\n",
    "отдельный список занести тех сотрудников, которые отработали в компании более\n",
    "6 месяцев. Реализовать функцию.\n",
    "    \n",
    "5. Реализуйте функции записи в csv и json.\n",
    "    </div>"
   ]
  },
  {
   "cell_type": "code",
   "execution_count": 3,
   "id": "db3e0281",
   "metadata": {},
   "outputs": [],
   "source": [
    "import numpy as np\n",
    "import pandas as pd\n",
    "from datetime import datetime"
   ]
  },
  {
   "cell_type": "code",
   "execution_count": 4,
   "id": "9d8f0933",
   "metadata": {},
   "outputs": [],
   "source": [
    "ml = pd.read_csv('employees.csv')"
   ]
  },
  {
   "cell_type": "code",
   "execution_count": 5,
   "id": "fc6e71f6",
   "metadata": {},
   "outputs": [
    {
     "data": {
      "text/html": [
       "<div>\n",
       "<style scoped>\n",
       "    .dataframe tbody tr th:only-of-type {\n",
       "        vertical-align: middle;\n",
       "    }\n",
       "\n",
       "    .dataframe tbody tr th {\n",
       "        vertical-align: top;\n",
       "    }\n",
       "\n",
       "    .dataframe thead th {\n",
       "        text-align: right;\n",
       "    }\n",
       "</style>\n",
       "<table border=\"1\" class=\"dataframe\">\n",
       "  <thead>\n",
       "    <tr style=\"text-align: right;\">\n",
       "      <th></th>\n",
       "      <th>ФИО</th>\n",
       "      <th>Должность</th>\n",
       "      <th>Дата найма</th>\n",
       "      <th>Оклад</th>\n",
       "    </tr>\n",
       "  </thead>\n",
       "  <tbody>\n",
       "    <tr>\n",
       "      <th>0</th>\n",
       "      <td>Иванов Иван Иванович</td>\n",
       "      <td>Менеджер</td>\n",
       "      <td>22.10.2013</td>\n",
       "      <td>250000</td>\n",
       "    </tr>\n",
       "    <tr>\n",
       "      <th>1</th>\n",
       "      <td>Сорокина Екатерина Матвеевна</td>\n",
       "      <td>Аналитик</td>\n",
       "      <td>12.03.2020</td>\n",
       "      <td>75000</td>\n",
       "    </tr>\n",
       "    <tr>\n",
       "      <th>2</th>\n",
       "      <td>Струков Иван Сергеевич</td>\n",
       "      <td>Старший программист</td>\n",
       "      <td>23.04.2012</td>\n",
       "      <td>150000</td>\n",
       "    </tr>\n",
       "    <tr>\n",
       "      <th>3</th>\n",
       "      <td>Корнеева Анна Игоревна</td>\n",
       "      <td>Ведущий программист</td>\n",
       "      <td>22.02.2015</td>\n",
       "      <td>120000</td>\n",
       "    </tr>\n",
       "    <tr>\n",
       "      <th>4</th>\n",
       "      <td>Старчиков Сергей Анатольевич</td>\n",
       "      <td>Младший программист</td>\n",
       "      <td>12.11.2021</td>\n",
       "      <td>50000</td>\n",
       "    </tr>\n",
       "    <tr>\n",
       "      <th>5</th>\n",
       "      <td>Бутенко Артем Андреевич</td>\n",
       "      <td>Архитектор</td>\n",
       "      <td>12.02.2010</td>\n",
       "      <td>200000</td>\n",
       "    </tr>\n",
       "    <tr>\n",
       "      <th>6</th>\n",
       "      <td>Савченко Алина Сергеевна</td>\n",
       "      <td>Старший аналитик</td>\n",
       "      <td>13.04.2016</td>\n",
       "      <td>100000</td>\n",
       "    </tr>\n",
       "  </tbody>\n",
       "</table>\n",
       "</div>"
      ],
      "text/plain": [
       "                            ФИО            Должность  Дата найма   Оклад\n",
       "0          Иванов Иван Иванович             Менеджер  22.10.2013  250000\n",
       "1  Сорокина Екатерина Матвеевна             Аналитик  12.03.2020   75000\n",
       "2        Струков Иван Сергеевич  Старший программист  23.04.2012  150000\n",
       "3        Корнеева Анна Игоревна  Ведущий программист  22.02.2015  120000\n",
       "4  Старчиков Сергей Анатольевич  Младший программист  12.11.2021   50000\n",
       "5       Бутенко Артем Андреевич           Архитектор  12.02.2010  200000\n",
       "6      Савченко Алина Сергеевна     Старший аналитик  13.04.2016  100000"
      ]
     },
     "execution_count": 5,
     "metadata": {},
     "output_type": "execute_result"
    }
   ],
   "source": [
    "ml"
   ]
  },
  {
   "cell_type": "code",
   "execution_count": 6,
   "id": "bdbe9d01",
   "metadata": {
    "scrolled": true
   },
   "outputs": [
    {
     "name": "stdout",
     "output_type": "stream",
     "text": [
      "<class 'pandas.core.frame.DataFrame'>\n",
      "RangeIndex: 7 entries, 0 to 6\n",
      "Data columns (total 4 columns):\n",
      " #   Column      Non-Null Count  Dtype \n",
      "---  ------      --------------  ----- \n",
      " 0   ФИО         7 non-null      object\n",
      " 1   Должность   7 non-null      object\n",
      " 2   Дата найма  7 non-null      object\n",
      " 3   Оклад       7 non-null      int64 \n",
      "dtypes: int64(1), object(3)\n",
      "memory usage: 352.0+ bytes\n"
     ]
    }
   ],
   "source": [
    "ml.info()"
   ]
  },
  {
   "cell_type": "markdown",
   "id": "cc9b3110",
   "metadata": {},
   "source": [
    "<div class=\"alert alert-info\"> \n",
    "\n",
    "1. Начальство решило выплачивать премии ко дню программиста в сентябре (13\n",
    "сентября – день программиста). Премия будет составлять 3% от оклада каждому\n",
    "программисту. Реализуйте функцию, которая будет рассчитывать премию.   \n",
    "    </div>"
   ]
  },
  {
   "cell_type": "code",
   "execution_count": 7,
   "id": "38165e1b",
   "metadata": {
    "scrolled": true
   },
   "outputs": [
    {
     "data": {
      "text/html": [
       "<div>\n",
       "<style scoped>\n",
       "    .dataframe tbody tr th:only-of-type {\n",
       "        vertical-align: middle;\n",
       "    }\n",
       "\n",
       "    .dataframe tbody tr th {\n",
       "        vertical-align: top;\n",
       "    }\n",
       "\n",
       "    .dataframe thead th {\n",
       "        text-align: right;\n",
       "    }\n",
       "</style>\n",
       "<table border=\"1\" class=\"dataframe\">\n",
       "  <thead>\n",
       "    <tr style=\"text-align: right;\">\n",
       "      <th></th>\n",
       "      <th>ФИО</th>\n",
       "      <th>Должность</th>\n",
       "      <th>Дата найма</th>\n",
       "      <th>Оклад</th>\n",
       "      <th>Премия</th>\n",
       "    </tr>\n",
       "  </thead>\n",
       "  <tbody>\n",
       "    <tr>\n",
       "      <th>0</th>\n",
       "      <td>Иванов Иван Иванович</td>\n",
       "      <td>Менеджер</td>\n",
       "      <td>22.10.2013</td>\n",
       "      <td>250000</td>\n",
       "      <td>7500.0</td>\n",
       "    </tr>\n",
       "    <tr>\n",
       "      <th>1</th>\n",
       "      <td>Сорокина Екатерина Матвеевна</td>\n",
       "      <td>Аналитик</td>\n",
       "      <td>12.03.2020</td>\n",
       "      <td>75000</td>\n",
       "      <td>2250.0</td>\n",
       "    </tr>\n",
       "    <tr>\n",
       "      <th>2</th>\n",
       "      <td>Струков Иван Сергеевич</td>\n",
       "      <td>Старший программист</td>\n",
       "      <td>23.04.2012</td>\n",
       "      <td>150000</td>\n",
       "      <td>4500.0</td>\n",
       "    </tr>\n",
       "    <tr>\n",
       "      <th>3</th>\n",
       "      <td>Корнеева Анна Игоревна</td>\n",
       "      <td>Ведущий программист</td>\n",
       "      <td>22.02.2015</td>\n",
       "      <td>120000</td>\n",
       "      <td>3600.0</td>\n",
       "    </tr>\n",
       "    <tr>\n",
       "      <th>4</th>\n",
       "      <td>Старчиков Сергей Анатольевич</td>\n",
       "      <td>Младший программист</td>\n",
       "      <td>12.11.2021</td>\n",
       "      <td>50000</td>\n",
       "      <td>1500.0</td>\n",
       "    </tr>\n",
       "    <tr>\n",
       "      <th>5</th>\n",
       "      <td>Бутенко Артем Андреевич</td>\n",
       "      <td>Архитектор</td>\n",
       "      <td>12.02.2010</td>\n",
       "      <td>200000</td>\n",
       "      <td>6000.0</td>\n",
       "    </tr>\n",
       "    <tr>\n",
       "      <th>6</th>\n",
       "      <td>Савченко Алина Сергеевна</td>\n",
       "      <td>Старший аналитик</td>\n",
       "      <td>13.04.2016</td>\n",
       "      <td>100000</td>\n",
       "      <td>3000.0</td>\n",
       "    </tr>\n",
       "  </tbody>\n",
       "</table>\n",
       "</div>"
      ],
      "text/plain": [
       "                            ФИО            Должность  Дата найма   Оклад  \\\n",
       "0          Иванов Иван Иванович             Менеджер  22.10.2013  250000   \n",
       "1  Сорокина Екатерина Матвеевна             Аналитик  12.03.2020   75000   \n",
       "2        Струков Иван Сергеевич  Старший программист  23.04.2012  150000   \n",
       "3        Корнеева Анна Игоревна  Ведущий программист  22.02.2015  120000   \n",
       "4  Старчиков Сергей Анатольевич  Младший программист  12.11.2021   50000   \n",
       "5       Бутенко Артем Андреевич           Архитектор  12.02.2010  200000   \n",
       "6      Савченко Алина Сергеевна     Старший аналитик  13.04.2016  100000   \n",
       "\n",
       "   Премия  \n",
       "0  7500.0  \n",
       "1  2250.0  \n",
       "2  4500.0  \n",
       "3  3600.0  \n",
       "4  1500.0  \n",
       "5  6000.0  \n",
       "6  3000.0  "
      ]
     },
     "execution_count": 7,
     "metadata": {},
     "output_type": "execute_result"
    }
   ],
   "source": [
    "ml['Премия'] = ml['Оклад']*3/100 #рассчитанная премия сотрудникам в колонке \"Премия\"\n",
    "ml"
   ]
  },
  {
   "cell_type": "markdown",
   "id": "783ce662",
   "metadata": {},
   "source": [
    "<div class=\"alert alert-info\"> \n",
    "2. Начальство решило выплачивать премии к 8 марта всем сотрудницам, а к 23\n",
    "февраля сотрудникам, равные 2000 Реализуйте функцию, которая будет\n",
    "рассчитывать премию.\n",
    "    </div>"
   ]
  },
  {
   "cell_type": "code",
   "execution_count": 8,
   "id": "50800016",
   "metadata": {},
   "outputs": [
    {
     "data": {
      "text/html": [
       "<div>\n",
       "<style scoped>\n",
       "    .dataframe tbody tr th:only-of-type {\n",
       "        vertical-align: middle;\n",
       "    }\n",
       "\n",
       "    .dataframe tbody tr th {\n",
       "        vertical-align: top;\n",
       "    }\n",
       "\n",
       "    .dataframe thead th {\n",
       "        text-align: right;\n",
       "    }\n",
       "</style>\n",
       "<table border=\"1\" class=\"dataframe\">\n",
       "  <thead>\n",
       "    <tr style=\"text-align: right;\">\n",
       "      <th></th>\n",
       "      <th>ФИО</th>\n",
       "      <th>Должность</th>\n",
       "      <th>Дата найма</th>\n",
       "      <th>Оклад</th>\n",
       "      <th>Премия</th>\n",
       "      <th>пол</th>\n",
       "    </tr>\n",
       "  </thead>\n",
       "  <tbody>\n",
       "    <tr>\n",
       "      <th>0</th>\n",
       "      <td>Иванов Иван Иванович</td>\n",
       "      <td>Менеджер</td>\n",
       "      <td>22.10.2013</td>\n",
       "      <td>250000</td>\n",
       "      <td>7500.0</td>\n",
       "      <td>м</td>\n",
       "    </tr>\n",
       "    <tr>\n",
       "      <th>1</th>\n",
       "      <td>Сорокина Екатерина Матвеевна</td>\n",
       "      <td>Аналитик</td>\n",
       "      <td>12.03.2020</td>\n",
       "      <td>75000</td>\n",
       "      <td>2250.0</td>\n",
       "      <td>ж</td>\n",
       "    </tr>\n",
       "    <tr>\n",
       "      <th>2</th>\n",
       "      <td>Струков Иван Сергеевич</td>\n",
       "      <td>Старший программист</td>\n",
       "      <td>23.04.2012</td>\n",
       "      <td>150000</td>\n",
       "      <td>4500.0</td>\n",
       "      <td>м</td>\n",
       "    </tr>\n",
       "    <tr>\n",
       "      <th>3</th>\n",
       "      <td>Корнеева Анна Игоревна</td>\n",
       "      <td>Ведущий программист</td>\n",
       "      <td>22.02.2015</td>\n",
       "      <td>120000</td>\n",
       "      <td>3600.0</td>\n",
       "      <td>ж</td>\n",
       "    </tr>\n",
       "    <tr>\n",
       "      <th>4</th>\n",
       "      <td>Старчиков Сергей Анатольевич</td>\n",
       "      <td>Младший программист</td>\n",
       "      <td>12.11.2021</td>\n",
       "      <td>50000</td>\n",
       "      <td>1500.0</td>\n",
       "      <td>м</td>\n",
       "    </tr>\n",
       "    <tr>\n",
       "      <th>5</th>\n",
       "      <td>Бутенко Артем Андреевич</td>\n",
       "      <td>Архитектор</td>\n",
       "      <td>12.02.2010</td>\n",
       "      <td>200000</td>\n",
       "      <td>6000.0</td>\n",
       "      <td>м</td>\n",
       "    </tr>\n",
       "    <tr>\n",
       "      <th>6</th>\n",
       "      <td>Савченко Алина Сергеевна</td>\n",
       "      <td>Старший аналитик</td>\n",
       "      <td>13.04.2016</td>\n",
       "      <td>100000</td>\n",
       "      <td>3000.0</td>\n",
       "      <td>ж</td>\n",
       "    </tr>\n",
       "  </tbody>\n",
       "</table>\n",
       "</div>"
      ],
      "text/plain": [
       "                            ФИО            Должность  Дата найма   Оклад  \\\n",
       "0          Иванов Иван Иванович             Менеджер  22.10.2013  250000   \n",
       "1  Сорокина Екатерина Матвеевна             Аналитик  12.03.2020   75000   \n",
       "2        Струков Иван Сергеевич  Старший программист  23.04.2012  150000   \n",
       "3        Корнеева Анна Игоревна  Ведущий программист  22.02.2015  120000   \n",
       "4  Старчиков Сергей Анатольевич  Младший программист  12.11.2021   50000   \n",
       "5       Бутенко Артем Андреевич           Архитектор  12.02.2010  200000   \n",
       "6      Савченко Алина Сергеевна     Старший аналитик  13.04.2016  100000   \n",
       "\n",
       "   Премия пол  \n",
       "0  7500.0   м  \n",
       "1  2250.0   ж  \n",
       "2  4500.0   м  \n",
       "3  3600.0   ж  \n",
       "4  1500.0   м  \n",
       "5  6000.0   м  \n",
       "6  3000.0   ж  "
      ]
     },
     "execution_count": 8,
     "metadata": {},
     "output_type": "execute_result"
    }
   ],
   "source": [
    "ml['пол'] = ['м','ж','м','ж','м','м','ж']\n",
    "ml"
   ]
  },
  {
   "cell_type": "code",
   "execution_count": 9,
   "id": "d8fda331",
   "metadata": {},
   "outputs": [
    {
     "name": "stdout",
     "output_type": "stream",
     "text": [
      "Фамилия не найдена\n",
      "На 23 февраля премия 2000\n",
      "На 8 марта премия 2000\n"
     ]
    }
   ],
   "source": [
    "def get_bonus_message(surname): #функция рассчитывающая премию опираясь на пол\n",
    "    row = ml[ml['ФИО'].str.contains(surname)]\n",
    "    \n",
    "    if not row.empty:\n",
    "        gender = row['пол'].values[0]\n",
    "        \n",
    "        if gender == \"ж\":\n",
    "            return \"На 8 марта премия 2000\"\n",
    "        elif gender == \"м\":\n",
    "            return \"На 23 февраля премия 2000\"\n",
    "    else:\n",
    "        return \"Фамилия не найдена\"\n",
    "\n",
    "print(get_bonus_message(\"Кора Игоревна\"))\n",
    "print(get_bonus_message(\"Бутенко Артем Андреевич\"))\n",
    "print(get_bonus_message(\"Сорокина Екатерина Матвеевна\"))"
   ]
  },
  {
   "cell_type": "markdown",
   "id": "ac07c384",
   "metadata": {},
   "source": [
    "<div class=\"alert alert-info\"> \n",
    "3. Было решено провести индексацию зарплат сотрудников. Сотрудникам, которые\n",
    "отработали в компании более 10 лет, индексация будет равна 7% оклада,\n",
    "остальным – 5%.\n",
    "    </div>"
   ]
  },
  {
   "cell_type": "code",
   "execution_count": 10,
   "id": "ddcb74c9",
   "metadata": {},
   "outputs": [],
   "source": [
    "ml['Дата найма'] = pd.to_datetime(ml['Дата найма'])"
   ]
  },
  {
   "cell_type": "code",
   "execution_count": 11,
   "id": "f011963e",
   "metadata": {},
   "outputs": [
    {
     "name": "stdout",
     "output_type": "stream",
     "text": [
      "<class 'pandas.core.frame.DataFrame'>\n",
      "RangeIndex: 7 entries, 0 to 6\n",
      "Data columns (total 6 columns):\n",
      " #   Column      Non-Null Count  Dtype         \n",
      "---  ------      --------------  -----         \n",
      " 0   ФИО         7 non-null      object        \n",
      " 1   Должность   7 non-null      object        \n",
      " 2   Дата найма  7 non-null      datetime64[ns]\n",
      " 3   Оклад       7 non-null      int64         \n",
      " 4   Премия      7 non-null      float64       \n",
      " 5   пол         7 non-null      object        \n",
      "dtypes: datetime64[ns](1), float64(1), int64(1), object(3)\n",
      "memory usage: 464.0+ bytes\n"
     ]
    }
   ],
   "source": [
    "ml.info()"
   ]
  },
  {
   "cell_type": "code",
   "execution_count": 12,
   "id": "93d4387b",
   "metadata": {},
   "outputs": [
    {
     "data": {
      "text/html": [
       "<div>\n",
       "<style scoped>\n",
       "    .dataframe tbody tr th:only-of-type {\n",
       "        vertical-align: middle;\n",
       "    }\n",
       "\n",
       "    .dataframe tbody tr th {\n",
       "        vertical-align: top;\n",
       "    }\n",
       "\n",
       "    .dataframe thead th {\n",
       "        text-align: right;\n",
       "    }\n",
       "</style>\n",
       "<table border=\"1\" class=\"dataframe\">\n",
       "  <thead>\n",
       "    <tr style=\"text-align: right;\">\n",
       "      <th></th>\n",
       "      <th>ФИО</th>\n",
       "      <th>Должность</th>\n",
       "      <th>Дата найма</th>\n",
       "      <th>Оклад</th>\n",
       "      <th>Премия</th>\n",
       "      <th>пол</th>\n",
       "      <th>Проиндексированный оклад</th>\n",
       "    </tr>\n",
       "  </thead>\n",
       "  <tbody>\n",
       "    <tr>\n",
       "      <th>0</th>\n",
       "      <td>Иванов Иван Иванович</td>\n",
       "      <td>Менеджер</td>\n",
       "      <td>2013-10-22</td>\n",
       "      <td>250000</td>\n",
       "      <td>7500.0</td>\n",
       "      <td>м</td>\n",
       "      <td>267500.0</td>\n",
       "    </tr>\n",
       "    <tr>\n",
       "      <th>1</th>\n",
       "      <td>Сорокина Екатерина Матвеевна</td>\n",
       "      <td>Аналитик</td>\n",
       "      <td>2020-12-03</td>\n",
       "      <td>75000</td>\n",
       "      <td>2250.0</td>\n",
       "      <td>ж</td>\n",
       "      <td>78750.0</td>\n",
       "    </tr>\n",
       "    <tr>\n",
       "      <th>2</th>\n",
       "      <td>Струков Иван Сергеевич</td>\n",
       "      <td>Старший программист</td>\n",
       "      <td>2012-04-23</td>\n",
       "      <td>150000</td>\n",
       "      <td>4500.0</td>\n",
       "      <td>м</td>\n",
       "      <td>160500.0</td>\n",
       "    </tr>\n",
       "    <tr>\n",
       "      <th>3</th>\n",
       "      <td>Корнеева Анна Игоревна</td>\n",
       "      <td>Ведущий программист</td>\n",
       "      <td>2015-02-22</td>\n",
       "      <td>120000</td>\n",
       "      <td>3600.0</td>\n",
       "      <td>ж</td>\n",
       "      <td>126000.0</td>\n",
       "    </tr>\n",
       "    <tr>\n",
       "      <th>4</th>\n",
       "      <td>Старчиков Сергей Анатольевич</td>\n",
       "      <td>Младший программист</td>\n",
       "      <td>2021-12-11</td>\n",
       "      <td>50000</td>\n",
       "      <td>1500.0</td>\n",
       "      <td>м</td>\n",
       "      <td>52500.0</td>\n",
       "    </tr>\n",
       "    <tr>\n",
       "      <th>5</th>\n",
       "      <td>Бутенко Артем Андреевич</td>\n",
       "      <td>Архитектор</td>\n",
       "      <td>2010-12-02</td>\n",
       "      <td>200000</td>\n",
       "      <td>6000.0</td>\n",
       "      <td>м</td>\n",
       "      <td>214000.0</td>\n",
       "    </tr>\n",
       "    <tr>\n",
       "      <th>6</th>\n",
       "      <td>Савченко Алина Сергеевна</td>\n",
       "      <td>Старший аналитик</td>\n",
       "      <td>2016-04-13</td>\n",
       "      <td>100000</td>\n",
       "      <td>3000.0</td>\n",
       "      <td>ж</td>\n",
       "      <td>105000.0</td>\n",
       "    </tr>\n",
       "  </tbody>\n",
       "</table>\n",
       "</div>"
      ],
      "text/plain": [
       "                            ФИО            Должность Дата найма   Оклад  \\\n",
       "0          Иванов Иван Иванович             Менеджер 2013-10-22  250000   \n",
       "1  Сорокина Екатерина Матвеевна             Аналитик 2020-12-03   75000   \n",
       "2        Струков Иван Сергеевич  Старший программист 2012-04-23  150000   \n",
       "3        Корнеева Анна Игоревна  Ведущий программист 2015-02-22  120000   \n",
       "4  Старчиков Сергей Анатольевич  Младший программист 2021-12-11   50000   \n",
       "5       Бутенко Артем Андреевич           Архитектор 2010-12-02  200000   \n",
       "6      Савченко Алина Сергеевна     Старший аналитик 2016-04-13  100000   \n",
       "\n",
       "   Премия пол  Проиндексированный оклад  \n",
       "0  7500.0   м                  267500.0  \n",
       "1  2250.0   ж                   78750.0  \n",
       "2  4500.0   м                  160500.0  \n",
       "3  3600.0   ж                  126000.0  \n",
       "4  1500.0   м                   52500.0  \n",
       "5  6000.0   м                  214000.0  \n",
       "6  3000.0   ж                  105000.0  "
      ]
     },
     "execution_count": 12,
     "metadata": {},
     "output_type": "execute_result"
    }
   ],
   "source": [
    "current_date = pd.to_datetime(datetime.now())\n",
    "\n",
    "def index_salary(row): # Функция для индексации оклада\n",
    "    years_worked = (current_date - row['Дата найма']).days / 365.25  \n",
    "    if years_worked < 10:\n",
    "        return row['Оклад'] * 1.05 \n",
    "    else:\n",
    "        return row['Оклад'] * 1.07  \n",
    "\n",
    "ml['Проиндексированный оклад'] = ml.apply(index_salary, axis=1)\n",
    "ml\n"
   ]
  },
  {
   "cell_type": "markdown",
   "id": "eef0a5db",
   "metadata": {},
   "source": [
    "<div class=\"alert alert-info\"> \n",
    "4. Необходимо составить график отпусков сотрудников. Для этого необходимо в\n",
    "отдельный список занести тех сотрудников, которые отработали в компании более\n",
    "6 месяцев. Реализовать функцию.\n",
    "    </div>"
   ]
  },
  {
   "cell_type": "code",
   "execution_count": 13,
   "id": "09e7c3a9",
   "metadata": {},
   "outputs": [
    {
     "name": "stdout",
     "output_type": "stream",
     "text": [
      "Сотрудники, отработавшие более 6 месяцев: ['Иванов Иван Иванович', 'Сорокина Екатерина Матвеевна', 'Струков Иван Сергеевич', 'Корнеева Анна Игоревна', 'Старчиков Сергей Анатольевич', 'Бутенко Артем Андреевич', 'Савченко Алина Сергеевна']\n"
     ]
    }
   ],
   "source": [
    "def employees_over_six_months(dataframe):\n",
    "    employees_list = []\n",
    "    \n",
    "    for index, row in dataframe.iterrows():\n",
    "        months_worked = (current_date - row['Дата найма']).days / 30.44  \n",
    "        if months_worked > 6:\n",
    "            employees_list.append(row['ФИО']) \n",
    "    \n",
    "    return employees_list\n",
    "\n",
    "long_term_employees = employees_over_six_months(ml)\n",
    "\n",
    "print(\"Сотрудники, отработавшие более 6 месяцев:\", long_term_employees)"
   ]
  },
  {
   "cell_type": "markdown",
   "id": "03e4e16c",
   "metadata": {},
   "source": [
    "<div class=\"alert alert-info\">     \n",
    "5. Реализуйте функции записи в csv и json.\n",
    "    </div>"
   ]
  },
  {
   "cell_type": "code",
   "execution_count": 14,
   "id": "8ac3bc56",
   "metadata": {},
   "outputs": [
    {
     "name": "stdout",
     "output_type": "stream",
     "text": [
      "DataFrame успешно сохранен в data1.csv\n",
      "DataFrame успешно сохранен в data1.json\n"
     ]
    }
   ],
   "source": [
    "def save_to_csv(dataframe, filename):\n",
    "    dataframe.to_csv(filename, index=False)\n",
    "    print(f'DataFrame успешно сохранен в {filename}')\n",
    "\n",
    "def save_to_json(dataframe, filename):\n",
    "    dataframe.to_json(filename, orient='records', lines=True, force_ascii=False)  # Отключаем ASCII экранирование\n",
    "    print(f'DataFrame успешно сохранен в {filename}')\n",
    "\n",
    "# Пример использования\n",
    "save_to_csv(ml, 'data1.csv')\n",
    "save_to_json(ml, 'data1.json')"
   ]
  },
  {
   "cell_type": "markdown",
   "id": "1fefd454",
   "metadata": {},
   "source": [
    "<div class=\"alert alert-info\">     \n",
    "Задания на 90 страницах:\n",
    "    </div>"
   ]
  },
  {
   "cell_type": "code",
   "execution_count": 15,
   "id": "43c552a0",
   "metadata": {},
   "outputs": [
    {
     "name": "stdout",
     "output_type": "stream",
     "text": [
      "Hello, world!\n"
     ]
    }
   ],
   "source": [
    "greeting = 'Hello, world!'\n",
    "print(greeting)"
   ]
  },
  {
   "cell_type": "code",
   "execution_count": 16,
   "id": "b78deec4",
   "metadata": {},
   "outputs": [
    {
     "name": "stdout",
     "output_type": "stream",
     "text": [
      "200\n"
     ]
    }
   ],
   "source": [
    "length = 8\n",
    "width = 10\n",
    "length = 20\n",
    "print(length * width)"
   ]
  },
  {
   "cell_type": "code",
   "execution_count": 17,
   "id": "5086077c",
   "metadata": {},
   "outputs": [
    {
     "name": "stdout",
     "output_type": "stream",
     "text": [
      "299\n"
     ]
    }
   ],
   "source": [
    "length = 23\n",
    "width = 13\n",
    "print(length * width)\n"
   ]
  },
  {
   "cell_type": "code",
   "execution_count": 18,
   "id": "d43adf2b",
   "metadata": {},
   "outputs": [
    {
     "name": "stdout",
     "output_type": "stream",
     "text": [
      "False\n",
      "True\n",
      "True\n"
     ]
    }
   ],
   "source": [
    "print((6 * 6) - 1 == 8 + 1)\n",
    "print(13 - 7 != (3 * 2) + 1)\n",
    "print(3 * (2 - 1) == 4 - 1)"
   ]
  },
  {
   "cell_type": "code",
   "execution_count": 19,
   "id": "9e8d9c26",
   "metadata": {},
   "outputs": [
    {
     "name": "stdout",
     "output_type": "stream",
     "text": [
      "True\n",
      "True\n",
      "False\n"
     ]
    }
   ],
   "source": [
    "print((6 * 6) - 1 >= 8 + 1)\n",
    "print(13 - 7 <= (3 * 2) + 1)\n",
    "print(3 * (2 - 1) > 4 - 1)"
   ]
  },
  {
   "cell_type": "code",
   "execution_count": 20,
   "id": "d9c7ff76",
   "metadata": {},
   "outputs": [
    {
     "name": "stdout",
     "output_type": "stream",
     "text": [
      "<class 'str'>\n"
     ]
    }
   ],
   "source": [
    "bool_variable = 'true'\n",
    "print(type(bool_variable)) "
   ]
  },
  {
   "cell_type": "code",
   "execution_count": 21,
   "id": "143668c7",
   "metadata": {},
   "outputs": [
    {
     "name": "stdout",
     "output_type": "stream",
     "text": [
      "<class 'bool'>\n"
     ]
    }
   ],
   "source": [
    "bool_variable_2 = True\n",
    "print(type(bool_variable_2))"
   ]
  },
  {
   "cell_type": "code",
   "execution_count": 22,
   "id": "575ba6c2",
   "metadata": {},
   "outputs": [
    {
     "name": "stdout",
     "output_type": "stream",
     "text": [
      "Дмитрий, твое рабочее место находится в другой комнате. Отойди от чужого компьютера и займись работой!\n"
     ]
    }
   ],
   "source": [
    "user_name = 'Дмитрий'\n",
    "Dmitriy_check = 'Дмитрий, твое рабочее место находится в другой комнате. Отойди от чужого компьютера и займись работой!'\n",
    "\n",
    "message = 'Добро пожаловать'\n",
    "\n",
    "if user_name == 'Дмитрий':\n",
    "    print(Dmitriy_check)\n",
    "else: \n",
    "    print(message)"
   ]
  },
  {
   "cell_type": "code",
   "execution_count": 23,
   "id": "5a589ef9",
   "metadata": {},
   "outputs": [
    {
     "name": "stdout",
     "output_type": "stream",
     "text": [
      "Введите ваше имя: Дмитрий\n",
      "Дмитрий, твое рабочее место находится в другой комнате. Отойди от чужого компьютера и займись работой!\n"
     ]
    }
   ],
   "source": [
    "user_name = input(\"Введите ваше имя: \")\n",
    "Dmitriy_check = \"Дмитрий, твое рабочее место находится в другой комнате. Отойди от чужого компьютера и займись работой!\"\n",
    "welcome_message = \"Добро пожаловать\"\n",
    "if user_name == \"Дмитрий\":\n",
    "    print(Dmitriy_check)\n",
    "else:\n",
    "    print(f\"{welcome_message}, {user_name}!\")"
   ]
  },
  {
   "cell_type": "code",
   "execution_count": 24,
   "id": "1529467d",
   "metadata": {},
   "outputs": [
    {
     "name": "stdout",
     "output_type": "stream",
     "text": [
      "False\n",
      "True\n"
     ]
    }
   ],
   "source": [
    "statement_one = print((2 + 2 + 2 >= 6) and (-1 * -1 < 0))\n",
    "statement_two = print((4 * 2 <= 8) and (7 - 1 == 6))"
   ]
  },
  {
   "cell_type": "code",
   "execution_count": 25,
   "id": "e57edec6",
   "metadata": {},
   "outputs": [
    {
     "name": "stdout",
     "output_type": "stream",
     "text": [
      "Мне 56 лет, а моему отцу 96\n"
     ]
    }
   ],
   "source": [
    "def define_age(current_year,birth_year):\n",
    "    age = current_year - birth_year\n",
    "    return age\n",
    "\n",
    "my_age=define_age(2049, 1993)\n",
    "dads_age=define_age(2049, 1953)\n",
    "\n",
    "print(f\"Мне {my_age} лет, а моему отцу {dads_age}\")"
   ]
  },
  {
   "cell_type": "code",
   "execution_count": 26,
   "id": "5fe80ad4",
   "metadata": {},
   "outputs": [
    {
     "name": "stdout",
     "output_type": "stream",
     "text": [
      "['маргаритка', 'лютик', 'львиный зев', 'гардения', 'лилия', 'сирень', 'ирис']\n",
      "[5, 3, 4, 5, 4, 4]\n"
     ]
    }
   ],
   "source": [
    "orders = ['маргаритка', 'лютик', 'львиный зев', 'гардения', 'лилия']\n",
    "new_orders = orders + [\"сирень\", \"ирис\"]\n",
    "broken_prices = [5, 3, 4, 5, 4] + [4]\n",
    "print(new_orders)\n",
    "print(broken_prices)\n"
   ]
  },
  {
   "cell_type": "code",
   "execution_count": 27,
   "id": "1270b4f7",
   "metadata": {},
   "outputs": [
    {
     "name": "stdout",
     "output_type": "stream",
     "text": [
      "[('Анна', 32), ('Борис', 41), ('Александр', 29), ('Денис', 42)]\n",
      "[0, 1, 2, 3]\n"
     ]
    }
   ],
   "source": [
    "first_names = [\"Анна\", \"Борис\", \"Александр\", \"Денис\"]\n",
    "age = []\n",
    "age.append(42)\n",
    "all_ages = [32, 41, 29] + age\n",
    "name_and_age = zip(first_names, all_ages)\n",
    "ids = range(0, 4)\n",
    "print(list(name_and_age))\n",
    "print(list(ids))\n"
   ]
  },
  {
   "cell_type": "code",
   "execution_count": 28,
   "id": "fc7b9757",
   "metadata": {},
   "outputs": [
    {
     "name": "stdout",
     "output_type": "stream",
     "text": [
      "6\n",
      "6\n"
     ]
    }
   ],
   "source": [
    "list1 = range(2, 20, 3)\n",
    "list1_len=len(list1)\n",
    "print(list1_len)\n",
    "list1_len=len(list1)\n",
    "print(list1_len)"
   ]
  },
  {
   "cell_type": "code",
   "execution_count": 29,
   "id": "b88f4f8d",
   "metadata": {},
   "outputs": [
    {
     "name": "stdout",
     "output_type": "stream",
     "text": [
      "6\n",
      "хлопья\n",
      "хлопья\n"
     ]
    }
   ],
   "source": [
    "shopping_list = ['яйца', 'масло', 'молоко', 'огурцы', 'сок', 'хлопья']\n",
    "print(len(shopping_list))\n",
    "last_element = shopping_list[-1]\n",
    "element5=shopping_list[5]\n",
    "print(last_element)\n",
    "print(element5)"
   ]
  },
  {
   "cell_type": "code",
   "execution_count": 30,
   "id": "ee32c728",
   "metadata": {},
   "outputs": [
    {
     "name": "stdout",
     "output_type": "stream",
     "text": [
      "5\n",
      "['брюки', 'брюки']\n"
     ]
    }
   ],
   "source": [
    "suitcase = ['рубашка', 'рубашка', 'брюки', 'брюки', 'пижамы', 'книги']\n",
    "beginning = suitcase [0: 5]\n",
    "middle =suitcase[2:4]\n",
    "print(len(beginning))\n",
    "print(middle)"
   ]
  },
  {
   "cell_type": "code",
   "execution_count": 31,
   "id": "9c5804d3",
   "metadata": {},
   "outputs": [
    {
     "name": "stdout",
     "output_type": "stream",
     "text": [
      "9\n"
     ]
    }
   ],
   "source": [
    "votes = ['Jake', 'Jake', 'Laurie', 'Laurie', 'Laurie', 'Jake', 'Jake', 'Jake', 'Laurie', 'Cassie', 'Cassie', 'Jake', 'Jake', 'Cassie', 'Laurie', 'Cassie', 'Jake', 'Jake', 'Cassie', 'Laurie']\n",
    "jake_votes = votes.count(\"Jake\")\n",
    "print(jake_votes)"
   ]
  },
  {
   "cell_type": "code",
   "execution_count": 32,
   "id": "cf768c70",
   "metadata": {},
   "outputs": [
    {
     "name": "stdout",
     "output_type": "stream",
     "text": [
      "['Portal', 'Minecraft', 'Pacman', 'Tetris', 'The Sims', 'Pokemon']\n",
      "['Minecraft', 'Pacman', 'Pokemon', 'Portal', 'Tetris', 'The Sims']\n"
     ]
    }
   ],
   "source": [
    "games = ['Portal', 'Minecraft', 'Pacman', 'Tetris', 'The Sims', 'Pokemon']\n",
    "games_sorted = sorted(games)\n",
    "print(games)\n",
    "print(games_sorted)"
   ]
  },
  {
   "cell_type": "code",
   "execution_count": 33,
   "id": "339de38b",
   "metadata": {},
   "outputs": [
    {
     "name": "stdout",
     "output_type": "stream",
     "text": [
      "['паста', 'пицца', 'капрезе', 'сатат цещари', 'кофе', 'красное виное']\n"
     ]
    }
   ],
   "source": [
    "order = [\"паста\", \"пицца\", \"капрезе\"]\n",
    "order+=[\"сатат цещари\", \"кофе\"]\n",
    "order+=[\"красное виное\"]\n",
    "print(order)"
   ]
  },
  {
   "cell_type": "code",
   "execution_count": 34,
   "id": "d47c9b7f",
   "metadata": {},
   "outputs": [
    {
     "name": "stdout",
     "output_type": "stream",
     "text": [
      "['закуска из овощей', 'паста', 'пицца', 'сатат цезарь', 'кофе']\n"
     ]
    }
   ],
   "source": [
    "order = [\"паста\", \"пицца\", \"капрезе\"]\n",
    "order+=[\"сатат цезарь\", \"кофе\"]\n",
    "order+=[\"красное виное\"]\n",
    "order.insert(0, \"закуска из овощей\")\n",
    "order.remove(\"капрезе\")\n",
    "order.pop(5)\n",
    "print(order)"
   ]
  },
  {
   "cell_type": "code",
   "execution_count": 35,
   "id": "78d69a41",
   "metadata": {},
   "outputs": [
    {
     "name": "stdout",
     "output_type": "stream",
     "text": [
      "Settlers of Catan\n",
      "Carcassone\n",
      "Power Grid\n",
      "Agricola\n",
      "Scrabble\n",
      "football\n",
      "football - American\n",
      "hockey\n",
      "baseball\n",
      "cricket\n"
     ]
    }
   ],
   "source": [
    "board_games = ['Settlers of Catan', 'Carcassone', 'Power Grid', 'Agricola', 'Scrabble']\n",
    "sport_games = ['football', 'football - American', 'hockey', 'baseball', 'cricket']\n",
    "for game in board_games:\n",
    "    print(game)\n",
    "for sport in sport_games:\n",
    "    print(sport)"
   ]
  },
  {
   "cell_type": "code",
   "execution_count": 36,
   "id": "7c1715e3",
   "metadata": {},
   "outputs": [
    {
     "name": "stdout",
     "output_type": "stream",
     "text": [
      "['Dora', 'Minerva', 'Alexa', 'Obie', 'Alex', 'Briana', 'Cheri', 'Daniele']\n"
     ]
    }
   ],
   "source": [
    "students_period_A = [\"Alex\", \"Briana\", \"Cheri\", \"Daniele\"]\n",
    "students_period_B = [\"Dora\", \"Minerva\", \"Alexa\", \"Obie\"]\n",
    "\n",
    "for i in students_period_A:\n",
    "    student = students_period_B + students_period_A\n",
    "    \n",
    "print(student)"
   ]
  },
  {
   "cell_type": "code",
   "execution_count": 37,
   "id": "acda4e5b",
   "metadata": {},
   "outputs": [
    {
     "name": "stdout",
     "output_type": "stream",
     "text": [
      "french_bulldog\n",
      "У них есть собака, которую я хочу!\n"
     ]
    }
   ],
   "source": [
    "dog_breeds_available_for_adoption = ['french_bulldog', 'dalmatian', 'shihtzu', 'poodle', 'collie']\n",
    "dog_breed_I_want = 'dalmatian'\n",
    "\n",
    "for i in dog_breeds_available_for_adoption:\n",
    "    if i == dog_breed_I_want:\n",
    "        print(\"У них есть собака, которую я хочу!\")\n",
    "        break\n",
    "    print(i)"
   ]
  },
  {
   "cell_type": "code",
   "execution_count": 38,
   "id": "276fc45c",
   "metadata": {},
   "outputs": [
    {
     "name": "stdout",
     "output_type": "stream",
     "text": [
      "96\n"
     ]
    }
   ],
   "source": [
    "sales_data = [[12, 17, 22], [2, 10, 3], [5, 12, 13]]\n",
    "scoops_sold = 0\n",
    "\n",
    "for i in sales_data:\n",
    "    for j in i:\n",
    "        scoops_sold+=j\n",
    "        \n",
    "print(scoops_sold)"
   ]
  },
  {
   "cell_type": "code",
   "execution_count": 39,
   "id": "44adf97b",
   "metadata": {},
   "outputs": [
    {
     "name": "stdout",
     "output_type": "stream",
     "text": [
      "Краси\n",
      "сил\n"
     ]
    }
   ],
   "source": [
    "first_name = \"Виталий\"\n",
    "last_name =\"Красилов\"\n",
    "new_account = last_name[:5]\n",
    "temp_password = last_name[3:6]\n",
    "print(new_account)\n",
    "print(temp_password)"
   ]
  },
  {
   "cell_type": "code",
   "execution_count": 40,
   "id": "fc163cb3",
   "metadata": {},
   "outputs": [
    {
     "name": "stdout",
     "output_type": "stream",
     "text": [
      "ВитКра\n"
     ]
    }
   ],
   "source": [
    "first_name = \"Виталий\"\n",
    "last_name =\"Красилов\"\n",
    "\n",
    "def account_generator (first_name, last_name):\n",
    "    return first_name[:3]+last_name[:3]\n",
    "\n",
    "new_account = account_generator(first_name, last_name)\n",
    "print(new_account)"
   ]
  },
  {
   "cell_type": "code",
   "execution_count": 41,
   "id": "7dac80c5",
   "metadata": {},
   "outputs": [
    {
     "name": "stdout",
     "output_type": "stream",
     "text": [
      "с\n",
      "ются\n"
     ]
    }
   ],
   "source": [
    "company_motto= \"Мечты сбываются\"\n",
    "second_to_last = company_motto[-2]\n",
    "print(second_to_last)\n",
    "final_word = company_motto[-4:]\n",
    "print(final_word)"
   ]
  },
  {
   "cell_type": "code",
   "execution_count": 42,
   "id": "4490338a",
   "metadata": {},
   "outputs": [
    {
     "name": "stdout",
     "output_type": "stream",
     "text": [
      "6\n"
     ]
    }
   ],
   "source": [
    "def get_length(string):\n",
    "    return len(string)\n",
    "\n",
    "a = \"Привет\"\n",
    "b = get_length(a)\n",
    "print(b)"
   ]
  },
  {
   "cell_type": "code",
   "execution_count": 43,
   "id": "468a4807",
   "metadata": {},
   "outputs": [
    {
     "name": "stdout",
     "output_type": "stream",
     "text": [
      "False\n",
      "a\n"
     ]
    }
   ],
   "source": [
    "def contains(big_string, little_string):\n",
    "    if little_string in big_string:\n",
    "        return True\n",
    "    else:\n",
    "        return False\n",
    "        \n",
    "answ = contains(\"watermelon\", \"berry\")\n",
    "print(answ)\n",
    "\n",
    "def common_letters(string_one, string_two):\n",
    "    for char in string_one:\n",
    "        if char in string_two:\n",
    "            return char\n",
    "    \n",
    "\n",
    "a = common_letters(\"banana\", \"cream\")\n",
    "print(a) "
   ]
  },
  {
   "cell_type": "code",
   "execution_count": 44,
   "id": "d6517639",
   "metadata": {},
   "outputs": [
    {
     "name": "stdout",
     "output_type": "stream",
     "text": [
      "AbeSimp\n",
      "pAbeSim\n"
     ]
    }
   ],
   "source": [
    "def username_generator(first_name, last_name):\n",
    "    if len(first_name)<3:\n",
    "        return first_name+last_name[:4]\n",
    "    elif len(last_name)<4:\n",
    "        return first_name[:3]+last_name\n",
    "    return first_name[:3]+last_name[:4]\n",
    "\n",
    "def password_generator(username):\n",
    "    password = ''\n",
    "    for symb in username:\n",
    "        password = username[-1]+username[0:-1]\n",
    "    return password\n",
    "        \n",
    "first_name = \"Abe\"\n",
    "last_name = \"Simpson\"\n",
    "username = username_generator(first_name, last_name)\n",
    "password = password_generator(username)\n",
    "print(username)\n",
    "print(password)"
   ]
  },
  {
   "cell_type": "code",
   "execution_count": 45,
   "id": "b114185d",
   "metadata": {},
   "outputs": [
    {
     "name": "stdout",
     "output_type": "stream",
     "text": [
      "['Audre Lorde', 'Carlos Williams', 'Gabriela Mistral', 'Jean Toomer', 'An Qi', 'Walt Whitman', 'Shel Silverstein', 'Carmen Boullosa', 'Kamala Suraiyya', 'Langston Hughes', 'Adrienne Rich', 'Nikki Giovanni']\n",
      "['Lorde', 'Williams', 'Mistral', 'Toomer', 'Qi', 'Whitman', 'Silverstein', 'Boullosa', 'Suraiyya', 'Hughes', 'Rich', 'Giovanni']\n"
     ]
    }
   ],
   "source": [
    "authors = \"Audre Lorde, Carlos Williams, Gabriela Mistral, Jean Toomer, An Qi, Walt Whitman, Shel Silverstein, Carmen Boullosa, Kamala Suraiyya, Langston Hughes, Adrienne Rich, Nikki Giovanni\"\n",
    "author_names = authors.split(\", \")\n",
    "print(author_names)\n",
    "author_last_names = [name.split()[-1] for name in author_names]\n",
    "print(author_last_names)"
   ]
  },
  {
   "cell_type": "code",
   "execution_count": 46,
   "id": "afde37c1",
   "metadata": {},
   "outputs": [
    {
     "name": "stdout",
     "output_type": "stream",
     "text": [
      "{'living room': 21, 'kitchen': 23, 'bedroom': 20, 'кладовая': 22}\n",
      "{'backyard': 6, 'garage': 2, 'driveway': 1}\n"
     ]
    }
   ],
   "source": [
    "sensors =  {\"living room\": 21, \"kitchen\": 23, \"bedroom\": 20}\n",
    "sensors[\"кладовая\"] = 22\n",
    "num_cameras = {\"backyard\": 6,  \"garage\": 2,  \"driveway\": 1}\n",
    "print(sensors)\n",
    "print(num_cameras)"
   ]
  },
  {
   "cell_type": "code",
   "execution_count": 47,
   "id": "9b489b16",
   "metadata": {},
   "outputs": [
    {
     "name": "stdout",
     "output_type": "stream",
     "text": [
      "{'зебры': 8, 'обезьяны': 12, 'динозавтры': 0}\n"
     ]
    }
   ],
   "source": [
    "animals_in_zoo = {}\n",
    "animals_in_zoo[\"зебры\"]=8\n",
    "animals_in_zoo[\"обезьяны\"]=12\n",
    "animals_in_zoo[\"динозавтры\"]=0\n",
    "print(animals_in_zoo)"
   ]
  },
  {
   "cell_type": "code",
   "execution_count": 48,
   "id": "17deb5d8",
   "metadata": {},
   "outputs": [
    {
     "name": "stdout",
     "output_type": "stream",
     "text": [
      "{'Best Picture': 'Moonlight', 'Best Actor': 'Casey Affleck', 'Best Actress': 'Emma Stone', 'Animated Feature': 'Zootopia', 'Supporting Actress': 'Viola Davis'}\n"
     ]
    }
   ],
   "source": [
    "oscar_winners = {\"Best Picture\": \"La La Land\", \"Best Actor\": \"Casey Affleck\", \"Best Actress\": \"Emma Stone\", \"Animated Feature\": \"Zootopia\"}\n",
    "oscar_winners[\"Supporting Actress\"] = \"Viola Davis\"\n",
    "oscar_winners[\"Best Picture\"] = \"Moonlight\"\n",
    "print(oscar_winners)"
   ]
  },
  {
   "cell_type": "code",
   "execution_count": 49,
   "id": "e0432bbf",
   "metadata": {},
   "outputs": [
    {
     "name": "stdout",
     "output_type": "stream",
     "text": [
      "{'espresso': 64, 'chai': 40, 'decaf': 0, 'drip': 120}\n"
     ]
    }
   ],
   "source": [
    "drinks = [\"espresso\", \"chai\", \"decaf\", \"drip\"]\n",
    "caffeine = [64, 40, 0, 120]\n",
    "zipped_drinks = zip(drinks, caffeine)\n",
    "drinks_to_caffeine = {key:value for key, value in zipped_drinks}\n",
    "print(drinks_to_caffeine)"
   ]
  },
  {
   "cell_type": "code",
   "execution_count": 50,
   "id": "2aa270f2",
   "metadata": {},
   "outputs": [
    {
     "name": "stdout",
     "output_type": "stream",
     "text": [
      "{'Like a Rolling Stone': 78, 'Satisfaction': 29, 'Imagine': 44, \"What's Going On\": 21, 'Respect': 89, 'Good Vibrations': 5}\n",
      "{'The best Songs': {'Like a Rolling Stone': 78, 'Satisfaction': 29, 'Imagine': 44, \"What's Going On\": 21, 'Respect': 5, 'Good Vibrations': 5, 'Purple Haze': -1}, 'Sunday Feelings': {}}\n"
     ]
    }
   ],
   "source": [
    "songs = [\"Like a Rolling Stone\", \"Satisfaction\", \"Imagine\", \"What's Going On\", \"Respect\", \"Good Vibrations\"]\n",
    "playcounts = [78, 29, 44, 21, 89, 5]\n",
    "plays = {song:playcount for song, playcount in zip(songs, playcounts)}\n",
    "print(plays)\n",
    "plays[\"Purple Haze\"] = -1\n",
    "plays[\"Respect\"] = 5\n",
    "library = {\"The best Songs\": plays, \"Sunday Feelings\": {}}\n",
    "print(library)"
   ]
  },
  {
   "cell_type": "code",
   "execution_count": 51,
   "id": "ded2dada",
   "metadata": {},
   "outputs": [
    {
     "name": "stdout",
     "output_type": "stream",
     "text": [
      "Not a Zodiac element\n"
     ]
    }
   ],
   "source": [
    "zodiac_elements = {\"water\": [\"Cancer\", \"Scorpio\", \"Pisces\"], \"fire\": [\"Aries\", \"Leo\", \"Sagittarius\"], \"earth\": [\"Taurus\", \"Virgo\", \"Capricorn\"], \"air\":[\"Gemini\", \"Libra\", \"Aquarius\"]}\n",
    "zodiac_elements[\"energy\"] = \"Not a Zodiac element\"\n",
    "print(zodiac_elements[\"energy\"])"
   ]
  },
  {
   "cell_type": "code",
   "execution_count": 52,
   "id": "4601def0",
   "metadata": {},
   "outputs": [
    {
     "name": "stdout",
     "output_type": "stream",
     "text": [
      "30\n"
     ]
    }
   ],
   "source": [
    "caffeine_level = {\"espresso\": 64, \"chai\": 40, \"decaf\": 0, \"drip\": 120}\n",
    "caffeine_level[\"matcha\"] = 30\n",
    "try:\n",
    "    print(caffeine_level[\"matcha\"])\n",
    "except KeyError:\n",
    "      print(\"That key doesn't exist!\")"
   ]
  },
  {
   "cell_type": "code",
   "execution_count": 53,
   "id": "f10c1603",
   "metadata": {},
   "outputs": [
    {
     "name": "stdout",
     "output_type": "stream",
     "text": [
      "100019\n",
      "100000\n"
     ]
    }
   ],
   "source": [
    "user_ids = {\"teraCoder\": 100019, \"pythonGuy\": 182921, \"samTheJavaMaam\": 123112, \"lyleLoop\": 102931, \"keysmithKeith\": 129384}\n",
    "tc_id = user_ids.get('teraCoder', 100000)\n",
    "print(tc_id)\n",
    "stack_id = user_ids.get('superStackSmash', 100000)\n",
    "print(stack_id)"
   ]
  },
  {
   "cell_type": "code",
   "execution_count": 54,
   "id": "bb963704",
   "metadata": {},
   "outputs": [
    {
     "name": "stdout",
     "output_type": "stream",
     "text": [
      "dict_keys(['teraCoder', 'pythonGuy', 'samTheJavaMaam', 'lyleLoop', 'keysmithKeith'])\n",
      "dict_keys(['functions', 'syntax', 'control flow', 'loops', 'lists', 'classes', 'dictionaries'])\n"
     ]
    }
   ],
   "source": [
    "user_ids = {\"teraCoder\": 100019, \"pythonGuy\": 182921, \"samTheJavaMaam\": 123112, \"lyleLoop\": 102931, \"keysmithKeith\": 129384}\n",
    "num_exercises = {\"functions\": 10, \"syntax\": 13, \"control flow\": 15, \"loops\": 22, \"lists\": 19, \"classes\": 18, \"dictionaries\": 18}\n",
    "\n",
    "users = user_ids.keys()\n",
    "calasses = num_exercises.keys()\n",
    "print(users)\n",
    "print(calasses)"
   ]
  },
  {
   "cell_type": "code",
   "execution_count": 56,
   "id": "9d6d2a77",
   "metadata": {},
   "outputs": [
    {
     "name": "stdout",
     "output_type": "stream",
     "text": [
      "115\n"
     ]
    }
   ],
   "source": [
    "num_exercises = {\"functions\": 10, \"syntax\": 13, \"control flow\": 15, \"loops\": 22, \"lists\": 19, \"classes\": 18, \"dictionaries\": 18}\n",
    "\n",
    "total_exetcises = 0\n",
    "\n",
    "for value in num_exercises.values():\n",
    "    total_exetcises+=value\n",
    "    \n",
    "print(total_exetcises)"
   ]
  },
  {
   "cell_type": "code",
   "execution_count": 55,
   "id": "00bc1554",
   "metadata": {},
   "outputs": [
    {
     "name": "stdout",
     "output_type": "stream",
     "text": [
      "{'прошлое': 'Death', 'настоящее': 'The Fool', 'будущее': 'Wheel of Fortune'}\n"
     ]
    }
   ],
   "source": [
    "tarot = { 1:  \"The Magician\", 2:  \"The High Priestess\", 3:  \"The Empress\", 4: \"The Emperor\", 5: \"The Hierophant\", 6:  \"The Lovers\", 7:  \"The Chariot\", 8: \"Strength\", 9:  \"The Hermit\", 10: \"Wheel of Fortune\", 11: \"Justice\", 12:  \"The Hanged Man\", 13: \"Death\", 14:  \"Temperance\", 15: \"The Devil\", 16:  \"The Tower\", 17:  \"The Star\", 18: \"The Moon\", 19: \"The Sun\", 20:  \"Judgement\", 21:  \"The World\", 22: \"The Fool\"}\n",
    "\n",
    "spread = {}\n",
    "\n",
    "spread[\"прошлое\"] = tarot.pop(13)  \n",
    "spread[\"настоящее\"] = tarot.pop(22)  \n",
    "spread[\"будущее\"] = tarot.pop(10)\n",
    "\n",
    "print(spread)"
   ]
  }
 ],
 "metadata": {
  "ExecuteTimeLog": [
   {
    "duration": 18,
    "start_time": "2024-10-04T19:34:29.585Z"
   },
   {
    "duration": 6,
    "start_time": "2024-10-04T19:40:02.372Z"
   },
   {
    "duration": 8,
    "start_time": "2024-10-04T19:40:30.144Z"
   },
   {
    "duration": 12,
    "start_time": "2024-10-04T19:42:28.552Z"
   },
   {
    "duration": 84,
    "start_time": "2024-10-04T19:42:50.871Z"
   },
   {
    "duration": 9,
    "start_time": "2024-10-04T19:42:57.324Z"
   },
   {
    "duration": 6,
    "start_time": "2024-10-04T19:54:55.629Z"
   },
   {
    "duration": 9,
    "start_time": "2024-10-04T20:18:45.743Z"
   },
   {
    "duration": 9,
    "start_time": "2024-10-04T20:27:47.703Z"
   },
   {
    "duration": 11,
    "start_time": "2024-10-04T20:28:02.593Z"
   },
   {
    "duration": 8,
    "start_time": "2024-10-04T20:28:16.015Z"
   },
   {
    "duration": 9,
    "start_time": "2024-10-04T20:28:48.713Z"
   },
   {
    "duration": 10,
    "start_time": "2024-10-04T20:31:09.199Z"
   },
   {
    "duration": 10,
    "start_time": "2024-10-04T20:33:24.272Z"
   },
   {
    "duration": 10,
    "start_time": "2024-10-04T20:36:13.226Z"
   },
   {
    "duration": 8,
    "start_time": "2024-10-04T20:39:05.758Z"
   },
   {
    "duration": 7,
    "start_time": "2024-10-04T20:40:14.527Z"
   },
   {
    "duration": 9,
    "start_time": "2024-10-04T20:41:07.690Z"
   },
   {
    "duration": 9,
    "start_time": "2024-10-04T20:41:38.641Z"
   },
   {
    "duration": 11,
    "start_time": "2024-10-04T20:41:50.116Z"
   },
   {
    "duration": 9,
    "start_time": "2024-10-04T20:41:59.276Z"
   },
   {
    "duration": 9,
    "start_time": "2024-10-04T20:43:08.689Z"
   },
   {
    "duration": 11,
    "start_time": "2024-10-04T20:46:02.660Z"
   },
   {
    "duration": 10,
    "start_time": "2024-10-04T20:46:17.553Z"
   },
   {
    "duration": 11,
    "start_time": "2024-10-04T20:47:43.647Z"
   },
   {
    "duration": 10,
    "start_time": "2024-10-04T20:48:22.085Z"
   },
   {
    "duration": 8,
    "start_time": "2024-10-04T20:48:54.198Z"
   },
   {
    "duration": 9,
    "start_time": "2024-10-04T20:49:23.533Z"
   },
   {
    "duration": 10,
    "start_time": "2024-10-04T20:51:48.967Z"
   },
   {
    "duration": 8,
    "start_time": "2024-10-04T20:52:03.875Z"
   },
   {
    "duration": 12,
    "start_time": "2024-10-04T20:52:16.911Z"
   },
   {
    "duration": 9,
    "start_time": "2024-10-04T20:52:34.883Z"
   },
   {
    "duration": 9,
    "start_time": "2024-10-04T20:54:24.091Z"
   },
   {
    "duration": 142,
    "start_time": "2024-10-04T21:11:57.241Z"
   },
   {
    "duration": 82,
    "start_time": "2024-10-04T21:48:40.134Z"
   },
   {
    "duration": 449,
    "start_time": "2024-10-04T21:49:30.534Z"
   },
   {
    "duration": 64,
    "start_time": "2024-10-04T21:49:31.023Z"
   },
   {
    "duration": 66,
    "start_time": "2024-10-04T21:50:12.308Z"
   },
   {
    "duration": 40,
    "start_time": "2024-10-04T21:50:23.754Z"
   },
   {
    "duration": 16,
    "start_time": "2024-10-04T21:50:29.376Z"
   },
   {
    "duration": 69,
    "start_time": "2024-10-04T21:52:41.903Z"
   },
   {
    "duration": 2,
    "start_time": "2024-10-04T21:52:46.344Z"
   },
   {
    "duration": 29,
    "start_time": "2024-10-04T21:52:46.834Z"
   },
   {
    "duration": 8,
    "start_time": "2024-10-04T21:52:47.464Z"
   },
   {
    "duration": 16,
    "start_time": "2024-10-04T21:52:48.284Z"
   },
   {
    "duration": 12,
    "start_time": "2024-10-04T21:53:41.118Z"
   },
   {
    "duration": 13,
    "start_time": "2024-10-04T21:53:53.815Z"
   },
   {
    "duration": 2,
    "start_time": "2024-10-04T21:56:10.655Z"
   },
   {
    "duration": 33,
    "start_time": "2024-10-04T21:56:11.266Z"
   },
   {
    "duration": 15,
    "start_time": "2024-10-04T21:56:11.904Z"
   },
   {
    "duration": 9,
    "start_time": "2024-10-04T21:56:13.441Z"
   },
   {
    "duration": 12,
    "start_time": "2024-10-04T21:56:14.992Z"
   },
   {
    "duration": 18,
    "start_time": "2024-10-04T21:56:47.002Z"
   },
   {
    "duration": 9,
    "start_time": "2024-10-04T21:56:52.635Z"
   },
   {
    "duration": 12,
    "start_time": "2024-10-04T21:56:59.481Z"
   },
   {
    "duration": 11,
    "start_time": "2024-10-04T21:58:21.144Z"
   },
   {
    "duration": 11,
    "start_time": "2024-10-04T21:58:30.544Z"
   },
   {
    "duration": 8,
    "start_time": "2024-10-04T21:59:52.085Z"
   },
   {
    "duration": 4,
    "start_time": "2024-10-04T22:00:09.436Z"
   },
   {
    "duration": 11,
    "start_time": "2024-10-04T22:00:17.118Z"
   },
   {
    "duration": 15,
    "start_time": "2024-10-05T07:13:05.291Z"
   },
   {
    "duration": 10,
    "start_time": "2024-10-05T07:13:06.238Z"
   },
   {
    "duration": 419,
    "start_time": "2024-10-05T07:13:07.053Z"
   },
   {
    "duration": 78,
    "start_time": "2024-10-05T07:13:07.473Z"
   },
   {
    "duration": 15,
    "start_time": "2024-10-05T07:13:07.667Z"
   },
   {
    "duration": 10,
    "start_time": "2024-10-05T07:13:07.964Z"
   },
   {
    "duration": 11,
    "start_time": "2024-10-05T07:13:08.386Z"
   },
   {
    "duration": 10,
    "start_time": "2024-10-05T07:13:08.800Z"
   },
   {
    "duration": 19,
    "start_time": "2024-10-05T13:08:48.712Z"
   },
   {
    "duration": 10,
    "start_time": "2024-10-05T13:08:49.513Z"
   },
   {
    "duration": 447,
    "start_time": "2024-10-05T13:08:50.209Z"
   },
   {
    "duration": 61,
    "start_time": "2024-10-05T13:08:50.657Z"
   },
   {
    "duration": 16,
    "start_time": "2024-10-05T13:08:50.946Z"
   },
   {
    "duration": 12,
    "start_time": "2024-10-05T13:08:51.222Z"
   },
   {
    "duration": 16,
    "start_time": "2024-10-05T13:08:51.603Z"
   },
   {
    "duration": 16,
    "start_time": "2024-10-05T13:08:51.858Z"
   },
   {
    "duration": 6,
    "start_time": "2024-10-05T13:08:52.173Z"
   },
   {
    "duration": 6,
    "start_time": "2024-10-05T13:09:24.174Z"
   },
   {
    "duration": 5,
    "start_time": "2024-10-05T13:09:27.090Z"
   },
   {
    "duration": 5,
    "start_time": "2024-10-05T13:09:38.533Z"
   },
   {
    "duration": 6,
    "start_time": "2024-10-05T13:09:50.342Z"
   },
   {
    "duration": 5,
    "start_time": "2024-10-05T13:11:17.118Z"
   },
   {
    "duration": 5,
    "start_time": "2024-10-05T13:11:22.038Z"
   },
   {
    "duration": 72,
    "start_time": "2024-10-05T13:16:28.472Z"
   },
   {
    "duration": 5,
    "start_time": "2024-10-05T13:16:48.069Z"
   },
   {
    "duration": 11,
    "start_time": "2024-10-05T13:17:01.166Z"
   },
   {
    "duration": 11,
    "start_time": "2024-10-05T13:17:07.657Z"
   },
   {
    "duration": 16,
    "start_time": "2024-10-14T17:05:05.459Z"
   },
   {
    "duration": 10,
    "start_time": "2024-10-14T17:05:05.828Z"
   },
   {
    "duration": 439,
    "start_time": "2024-10-14T17:05:06.178Z"
   },
   {
    "duration": 182,
    "start_time": "2024-10-14T17:05:06.622Z"
   },
   {
    "duration": 16,
    "start_time": "2024-10-14T17:05:06.805Z"
   },
   {
    "duration": 33,
    "start_time": "2024-10-14T17:05:06.823Z"
   },
   {
    "duration": 29,
    "start_time": "2024-10-14T17:05:06.866Z"
   },
   {
    "duration": 11,
    "start_time": "2024-10-14T17:05:07.033Z"
   },
   {
    "duration": 6,
    "start_time": "2024-10-14T17:05:07.217Z"
   },
   {
    "duration": 7,
    "start_time": "2024-10-14T17:05:07.746Z"
   },
   {
    "duration": 12,
    "start_time": "2024-10-14T17:05:07.918Z"
   },
   {
    "duration": 15,
    "start_time": "2024-10-14T17:06:17.860Z"
   },
   {
    "duration": 8,
    "start_time": "2024-10-14T17:07:23.926Z"
   },
   {
    "duration": 14,
    "start_time": "2024-10-14T17:08:16.512Z"
   },
   {
    "duration": 12,
    "start_time": "2024-10-14T17:09:46.671Z"
   },
   {
    "duration": 11,
    "start_time": "2024-10-14T17:11:46.038Z"
   },
   {
    "duration": 68,
    "start_time": "2024-10-14T17:29:27.490Z"
   },
   {
    "duration": 3,
    "start_time": "2024-10-14T17:29:51.371Z"
   },
   {
    "duration": 8,
    "start_time": "2024-10-14T17:29:55.329Z"
   },
   {
    "duration": 9,
    "start_time": "2024-10-14T17:31:13.487Z"
   },
   {
    "duration": 62,
    "start_time": "2024-10-14T17:31:35.796Z"
   },
   {
    "duration": 25,
    "start_time": "2024-10-14T17:31:48.924Z"
   },
   {
    "duration": 14,
    "start_time": "2024-10-14T17:32:11.368Z"
   },
   {
    "duration": 4,
    "start_time": "2024-10-14T17:34:00.412Z"
   },
   {
    "duration": 11,
    "start_time": "2024-10-14T17:34:01.428Z"
   },
   {
    "duration": 14,
    "start_time": "2024-10-14T17:34:06.128Z"
   },
   {
    "duration": 8,
    "start_time": "2024-10-14T17:34:37.177Z"
   },
   {
    "duration": 3,
    "start_time": "2024-10-14T17:35:35.295Z"
   },
   {
    "duration": 1123,
    "start_time": "2024-10-14T17:35:39.158Z"
   },
   {
    "duration": 15,
    "start_time": "2024-10-14T17:35:57.144Z"
   },
   {
    "duration": 15,
    "start_time": "2024-10-14T18:40:26.667Z"
   },
   {
    "duration": 10,
    "start_time": "2024-10-14T18:40:28.667Z"
   },
   {
    "duration": 407,
    "start_time": "2024-10-14T18:40:29.144Z"
   },
   {
    "duration": 79,
    "start_time": "2024-10-14T18:40:29.553Z"
   },
   {
    "duration": 15,
    "start_time": "2024-10-14T18:40:29.634Z"
   },
   {
    "duration": 11,
    "start_time": "2024-10-14T18:40:29.892Z"
   },
   {
    "duration": 12,
    "start_time": "2024-10-14T18:40:30.556Z"
   },
   {
    "duration": 12,
    "start_time": "2024-10-14T18:40:31.031Z"
   },
   {
    "duration": 9,
    "start_time": "2024-10-14T18:40:31.447Z"
   },
   {
    "duration": 4,
    "start_time": "2024-10-14T18:40:32.376Z"
   },
   {
    "duration": 11,
    "start_time": "2024-10-14T18:40:32.697Z"
   },
   {
    "duration": 23,
    "start_time": "2024-10-14T18:40:33.125Z"
   },
   {
    "duration": 8,
    "start_time": "2024-10-14T18:40:36.672Z"
   },
   {
    "duration": 256,
    "start_time": "2024-10-14T18:48:05.689Z"
   },
   {
    "duration": 129,
    "start_time": "2024-10-14T18:52:59.758Z"
   },
   {
    "duration": 102,
    "start_time": "2024-10-14T18:53:56.074Z"
   },
   {
    "duration": 125,
    "start_time": "2024-10-14T18:56:28.991Z"
   },
   {
    "duration": 246,
    "start_time": "2024-10-14T18:57:53.964Z"
   },
   {
    "duration": 4,
    "start_time": "2024-10-14T18:58:37.384Z"
   },
   {
    "duration": 4,
    "start_time": "2024-10-14T18:58:46.784Z"
   },
   {
    "duration": 3,
    "start_time": "2024-10-14T18:58:58.974Z"
   },
   {
    "duration": 4,
    "start_time": "2024-10-14T18:59:13.547Z"
   },
   {
    "duration": 4,
    "start_time": "2024-10-14T18:59:28.096Z"
   },
   {
    "duration": 3,
    "start_time": "2024-10-14T18:59:47.367Z"
   },
   {
    "duration": 3,
    "start_time": "2024-10-14T18:59:57.531Z"
   },
   {
    "duration": 4,
    "start_time": "2024-10-14T19:00:16.943Z"
   },
   {
    "duration": 9,
    "start_time": "2024-10-14T19:02:17.999Z"
   },
   {
    "duration": 3335,
    "start_time": "2024-10-14T19:02:19.566Z"
   },
   {
    "duration": 7643,
    "start_time": "2024-10-14T19:02:28.052Z"
   },
   {
    "duration": 10,
    "start_time": "2024-10-14T19:04:15.785Z"
   },
   {
    "duration": 4,
    "start_time": "2024-10-14T19:04:17.067Z"
   },
   {
    "duration": 4,
    "start_time": "2024-10-14T19:04:32.963Z"
   },
   {
    "duration": 5,
    "start_time": "2024-10-14T19:04:53.686Z"
   },
   {
    "duration": 4,
    "start_time": "2024-10-14T19:05:07.994Z"
   },
   {
    "duration": 55,
    "start_time": "2024-10-14T19:05:16.668Z"
   },
   {
    "duration": 3,
    "start_time": "2024-10-14T19:05:32.426Z"
   },
   {
    "duration": 4,
    "start_time": "2024-10-14T19:05:43.597Z"
   },
   {
    "duration": 4,
    "start_time": "2024-10-14T19:05:53.717Z"
   },
   {
    "duration": 4,
    "start_time": "2024-10-14T19:06:13.800Z"
   },
   {
    "duration": 4,
    "start_time": "2024-10-14T19:06:24.559Z"
   },
   {
    "duration": 4,
    "start_time": "2024-10-14T19:06:50.392Z"
   },
   {
    "duration": 3,
    "start_time": "2024-10-14T19:07:07.567Z"
   },
   {
    "duration": 5,
    "start_time": "2024-10-14T19:07:21.233Z"
   },
   {
    "duration": 3,
    "start_time": "2024-10-14T19:07:31.664Z"
   },
   {
    "duration": 4,
    "start_time": "2024-10-14T19:07:40.242Z"
   },
   {
    "duration": 3,
    "start_time": "2024-10-14T19:07:50.434Z"
   },
   {
    "duration": 4,
    "start_time": "2024-10-14T19:08:01.399Z"
   },
   {
    "duration": 3,
    "start_time": "2024-10-14T19:08:11.627Z"
   },
   {
    "duration": 3,
    "start_time": "2024-10-14T19:08:20.374Z"
   },
   {
    "duration": 4,
    "start_time": "2024-10-14T19:08:30.913Z"
   },
   {
    "duration": 4,
    "start_time": "2024-10-14T19:08:40.145Z"
   },
   {
    "duration": 5,
    "start_time": "2024-10-14T19:08:48.749Z"
   },
   {
    "duration": 5,
    "start_time": "2024-10-14T19:08:59.013Z"
   },
   {
    "duration": 4,
    "start_time": "2024-10-14T19:09:16.376Z"
   },
   {
    "duration": 3,
    "start_time": "2024-10-14T19:09:26.117Z"
   },
   {
    "duration": 4,
    "start_time": "2024-10-14T19:09:35.546Z"
   },
   {
    "duration": 4,
    "start_time": "2024-10-14T19:09:42.885Z"
   },
   {
    "duration": 5,
    "start_time": "2024-10-14T19:09:56.067Z"
   },
   {
    "duration": 5,
    "start_time": "2024-10-14T19:10:05.242Z"
   },
   {
    "duration": 4,
    "start_time": "2024-10-14T19:10:13.616Z"
   },
   {
    "duration": 4,
    "start_time": "2024-10-14T19:10:22.385Z"
   },
   {
    "duration": 4,
    "start_time": "2024-10-14T19:10:31.310Z"
   },
   {
    "duration": 5,
    "start_time": "2024-10-14T19:10:44.168Z"
   },
   {
    "duration": 14,
    "start_time": "2024-10-14T19:11:13.505Z"
   },
   {
    "duration": 9,
    "start_time": "2024-10-14T19:11:13.902Z"
   },
   {
    "duration": 379,
    "start_time": "2024-10-14T19:11:14.262Z"
   },
   {
    "duration": 53,
    "start_time": "2024-10-14T19:11:14.643Z"
   },
   {
    "duration": 15,
    "start_time": "2024-10-14T19:11:14.698Z"
   },
   {
    "duration": 10,
    "start_time": "2024-10-14T19:11:14.809Z"
   },
   {
    "duration": 12,
    "start_time": "2024-10-14T19:11:15.160Z"
   },
   {
    "duration": 11,
    "start_time": "2024-10-14T19:11:15.483Z"
   },
   {
    "duration": 8,
    "start_time": "2024-10-14T19:11:15.659Z"
   },
   {
    "duration": 5,
    "start_time": "2024-10-14T19:11:15.996Z"
   },
   {
    "duration": 11,
    "start_time": "2024-10-14T19:11:16.184Z"
   },
   {
    "duration": 17,
    "start_time": "2024-10-14T19:11:16.343Z"
   },
   {
    "duration": 6,
    "start_time": "2024-10-14T19:11:16.686Z"
   },
   {
    "duration": 120,
    "start_time": "2024-10-14T19:11:17.036Z"
   },
   {
    "duration": 3,
    "start_time": "2024-10-14T19:11:17.378Z"
   },
   {
    "duration": 3,
    "start_time": "2024-10-14T19:11:17.562Z"
   },
   {
    "duration": 3,
    "start_time": "2024-10-14T19:11:17.742Z"
   },
   {
    "duration": 5,
    "start_time": "2024-10-14T19:11:17.910Z"
   },
   {
    "duration": 5,
    "start_time": "2024-10-14T19:11:18.094Z"
   },
   {
    "duration": 3,
    "start_time": "2024-10-14T19:11:18.278Z"
   },
   {
    "duration": 4,
    "start_time": "2024-10-14T19:11:18.442Z"
   },
   {
    "duration": 4,
    "start_time": "2024-10-14T19:11:18.609Z"
   },
   {
    "duration": 23126,
    "start_time": "2024-10-14T19:11:18.793Z"
   },
   {
    "duration": 4,
    "start_time": "2024-10-14T19:11:41.921Z"
   },
   {
    "duration": 13743,
    "start_time": "2024-10-14T19:11:41.926Z"
   },
   {
    "duration": 0,
    "start_time": "2024-10-14T19:11:55.671Z"
   },
   {
    "duration": 0,
    "start_time": "2024-10-14T19:11:55.672Z"
   },
   {
    "duration": 0,
    "start_time": "2024-10-14T19:11:55.674Z"
   },
   {
    "duration": 0,
    "start_time": "2024-10-14T19:11:55.675Z"
   },
   {
    "duration": 0,
    "start_time": "2024-10-14T19:11:55.676Z"
   },
   {
    "duration": 0,
    "start_time": "2024-10-14T19:11:55.676Z"
   },
   {
    "duration": 0,
    "start_time": "2024-10-14T19:11:55.678Z"
   },
   {
    "duration": 0,
    "start_time": "2024-10-14T19:11:55.679Z"
   },
   {
    "duration": 0,
    "start_time": "2024-10-14T19:11:55.680Z"
   },
   {
    "duration": 0,
    "start_time": "2024-10-14T19:11:55.681Z"
   },
   {
    "duration": 0,
    "start_time": "2024-10-14T19:11:55.682Z"
   },
   {
    "duration": 0,
    "start_time": "2024-10-14T19:11:55.682Z"
   },
   {
    "duration": 0,
    "start_time": "2024-10-14T19:11:55.683Z"
   },
   {
    "duration": 0,
    "start_time": "2024-10-14T19:11:55.684Z"
   },
   {
    "duration": 0,
    "start_time": "2024-10-14T19:11:55.685Z"
   },
   {
    "duration": 0,
    "start_time": "2024-10-14T19:11:55.686Z"
   },
   {
    "duration": 0,
    "start_time": "2024-10-14T19:11:55.687Z"
   },
   {
    "duration": 0,
    "start_time": "2024-10-14T19:11:55.688Z"
   },
   {
    "duration": 0,
    "start_time": "2024-10-14T19:11:55.689Z"
   },
   {
    "duration": 0,
    "start_time": "2024-10-14T19:11:55.690Z"
   },
   {
    "duration": 0,
    "start_time": "2024-10-14T19:11:55.721Z"
   },
   {
    "duration": 0,
    "start_time": "2024-10-14T19:11:55.722Z"
   },
   {
    "duration": 0,
    "start_time": "2024-10-14T19:11:55.723Z"
   },
   {
    "duration": 0,
    "start_time": "2024-10-14T19:11:55.724Z"
   },
   {
    "duration": 0,
    "start_time": "2024-10-14T19:11:55.725Z"
   },
   {
    "duration": 0,
    "start_time": "2024-10-14T19:11:55.726Z"
   },
   {
    "duration": 0,
    "start_time": "2024-10-14T19:11:55.727Z"
   },
   {
    "duration": 0,
    "start_time": "2024-10-14T19:11:55.728Z"
   },
   {
    "duration": 0,
    "start_time": "2024-10-14T19:11:55.728Z"
   },
   {
    "duration": 0,
    "start_time": "2024-10-14T19:11:55.729Z"
   },
   {
    "duration": 0,
    "start_time": "2024-10-14T19:11:55.730Z"
   },
   {
    "duration": 0,
    "start_time": "2024-10-14T19:11:55.731Z"
   },
   {
    "duration": 0,
    "start_time": "2024-10-14T19:11:55.732Z"
   },
   {
    "duration": 5450,
    "start_time": "2024-10-14T19:12:05.413Z"
   },
   {
    "duration": 3405,
    "start_time": "2024-10-14T19:12:31.218Z"
   },
   {
    "duration": 4,
    "start_time": "2024-10-14T19:12:45.616Z"
   },
   {
    "duration": 15,
    "start_time": "2024-10-14T19:13:08.805Z"
   },
   {
    "duration": 9,
    "start_time": "2024-10-14T19:13:09.630Z"
   },
   {
    "duration": 442,
    "start_time": "2024-10-14T19:13:10.088Z"
   },
   {
    "duration": 31,
    "start_time": "2024-10-14T19:13:10.532Z"
   },
   {
    "duration": 15,
    "start_time": "2024-10-14T19:13:10.565Z"
   },
   {
    "duration": 11,
    "start_time": "2024-10-14T19:13:11.066Z"
   },
   {
    "duration": 12,
    "start_time": "2024-10-14T19:13:11.571Z"
   },
   {
    "duration": 11,
    "start_time": "2024-10-14T19:13:11.953Z"
   },
   {
    "duration": 9,
    "start_time": "2024-10-14T19:13:12.389Z"
   },
   {
    "duration": 4,
    "start_time": "2024-10-14T19:13:12.824Z"
   },
   {
    "duration": 12,
    "start_time": "2024-10-14T19:13:18.987Z"
   },
   {
    "duration": 18,
    "start_time": "2024-10-14T19:13:19.637Z"
   },
   {
    "duration": 6,
    "start_time": "2024-10-14T19:13:20.546Z"
   },
   {
    "duration": 124,
    "start_time": "2024-10-14T19:13:21.851Z"
   },
   {
    "duration": 2,
    "start_time": "2024-10-14T19:13:24.287Z"
   },
   {
    "duration": 3,
    "start_time": "2024-10-14T19:13:24.718Z"
   },
   {
    "duration": 3,
    "start_time": "2024-10-14T19:13:24.930Z"
   },
   {
    "duration": 5,
    "start_time": "2024-10-14T19:13:25.111Z"
   },
   {
    "duration": 3,
    "start_time": "2024-10-14T19:13:25.277Z"
   },
   {
    "duration": 3,
    "start_time": "2024-10-14T19:13:25.681Z"
   },
   {
    "duration": 3,
    "start_time": "2024-10-14T19:13:25.964Z"
   },
   {
    "duration": 3,
    "start_time": "2024-10-14T19:13:26.471Z"
   },
   {
    "duration": 5658,
    "start_time": "2024-10-14T19:13:27.572Z"
   },
   {
    "duration": 4,
    "start_time": "2024-10-14T19:13:35.772Z"
   },
   {
    "duration": 4,
    "start_time": "2024-10-14T19:13:36.528Z"
   },
   {
    "duration": 4,
    "start_time": "2024-10-14T19:13:37.905Z"
   },
   {
    "duration": 5,
    "start_time": "2024-10-14T19:13:38.430Z"
   },
   {
    "duration": 4,
    "start_time": "2024-10-14T19:13:38.989Z"
   },
   {
    "duration": 3,
    "start_time": "2024-10-14T19:13:39.556Z"
   },
   {
    "duration": 4,
    "start_time": "2024-10-14T19:13:40.135Z"
   },
   {
    "duration": 4,
    "start_time": "2024-10-14T19:13:40.655Z"
   },
   {
    "duration": 5,
    "start_time": "2024-10-14T19:13:41.071Z"
   },
   {
    "duration": 4,
    "start_time": "2024-10-14T19:13:41.589Z"
   },
   {
    "duration": 4,
    "start_time": "2024-10-14T19:13:42.079Z"
   },
   {
    "duration": 5,
    "start_time": "2024-10-14T19:13:42.563Z"
   },
   {
    "duration": 4,
    "start_time": "2024-10-14T19:13:43.085Z"
   },
   {
    "duration": 4,
    "start_time": "2024-10-14T19:13:43.572Z"
   },
   {
    "duration": 3,
    "start_time": "2024-10-14T19:13:44.137Z"
   },
   {
    "duration": 4,
    "start_time": "2024-10-14T19:13:44.671Z"
   },
   {
    "duration": 4,
    "start_time": "2024-10-14T19:13:45.320Z"
   },
   {
    "duration": 8,
    "start_time": "2024-10-14T19:13:45.820Z"
   },
   {
    "duration": 4,
    "start_time": "2024-10-14T19:13:46.456Z"
   },
   {
    "duration": 5,
    "start_time": "2024-10-14T19:13:47.137Z"
   },
   {
    "duration": 6,
    "start_time": "2024-10-14T19:13:48.672Z"
   },
   {
    "duration": 4,
    "start_time": "2024-10-14T19:13:49.499Z"
   },
   {
    "duration": 4,
    "start_time": "2024-10-14T19:13:50.387Z"
   },
   {
    "duration": 4,
    "start_time": "2024-10-14T19:13:51.103Z"
   },
   {
    "duration": 4,
    "start_time": "2024-10-14T19:13:51.704Z"
   },
   {
    "duration": 4,
    "start_time": "2024-10-14T19:13:52.267Z"
   },
   {
    "duration": 5,
    "start_time": "2024-10-14T19:13:52.772Z"
   },
   {
    "duration": 4,
    "start_time": "2024-10-14T19:13:53.315Z"
   },
   {
    "duration": 3,
    "start_time": "2024-10-14T19:13:53.795Z"
   },
   {
    "duration": 4,
    "start_time": "2024-10-14T19:13:54.305Z"
   },
   {
    "duration": 4,
    "start_time": "2024-10-14T19:13:54.820Z"
   },
   {
    "duration": 6,
    "start_time": "2024-10-14T19:13:55.335Z"
   },
   {
    "duration": 5,
    "start_time": "2024-10-14T19:14:21.396Z"
   }
  ],
  "kernelspec": {
   "display_name": "Python 3 (ipykernel)",
   "language": "python",
   "name": "python3"
  },
  "language_info": {
   "codemirror_mode": {
    "name": "ipython",
    "version": 3
   },
   "file_extension": ".py",
   "mimetype": "text/x-python",
   "name": "python",
   "nbconvert_exporter": "python",
   "pygments_lexer": "ipython3",
   "version": "3.9.5"
  },
  "toc": {
   "base_numbering": 1,
   "nav_menu": {},
   "number_sections": true,
   "sideBar": true,
   "skip_h1_title": true,
   "title_cell": "Table of Contents",
   "title_sidebar": "Contents",
   "toc_cell": false,
   "toc_position": {},
   "toc_section_display": true,
   "toc_window_display": false
  }
 },
 "nbformat": 4,
 "nbformat_minor": 5
}
